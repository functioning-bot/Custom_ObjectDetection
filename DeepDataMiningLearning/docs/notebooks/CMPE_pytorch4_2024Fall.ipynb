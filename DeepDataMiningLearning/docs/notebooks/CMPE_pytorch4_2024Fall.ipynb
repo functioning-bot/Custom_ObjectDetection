{
  "cells": [
    {
      "cell_type": "markdown",
      "metadata": {
        "id": "oB4jrJaT-mr3"
      },
      "source": [
        "# Tutorial 4: Neural Network for MNIST Dataset\n",
        "\n",
        "![Status](https://img.shields.io/static/v1.svg?label=Status&message=Finished&color=green)\n",
        "\n",
        "**Filled notebook:**\n",
        "[![View filled on Github](https://img.shields.io/static/v1.svg?logo=github&label=Repo&message=View%20On%20Github&color=lightgrey)](https://github.com/lkk688/DeepDataMiningLearning/blob/master/docs/notebooks/CMPE_pytorch4_2024Fall.ipynb)\n",
        "[![Open filled In Collab](https://colab.research.google.com/assets/colab-badge.svg)](https://colab.research.google.com/github/lkk688/DeepDataMiningLearning/blob/master/docs/notebooks/CMPE_pytorch4_2024Fall.ipynb)       \n",
        "**Author:** Kaikai Liu"
      ]
    },
    {
      "cell_type": "markdown",
      "metadata": {
        "id": "AHBD6HDpFPfB"
      },
      "source": [
        "## Install Pytorch"
      ]
    },
    {
      "cell_type": "markdown",
      "metadata": {
        "id": "Be7eF0nZ-dw9"
      },
      "source": [
        "Pytorch is already installed in Colab. If you are installing the pytorch in your local machine, follow the tutorials here: from https://pytorch.org/get-started/locally/. You can check our pytorch installation tutorials for Mac/Windows/Linux/HPC here: https://deepdatamininglearning.readthedocs.io/"
      ]
    },
    {
      "cell_type": "markdown",
      "metadata": {
        "id": "2lUmdFDa-zHE"
      },
      "source": [
        "Click \"Connect\" to connect to a Colab VM instance. In Runtime->Change Runtime type to select CPU/TPU/GPU."
      ]
    },
    {
      "cell_type": "code",
      "execution_count": null,
      "metadata": {
        "colab": {
          "base_uri": "https://localhost:8080/"
        },
        "id": "1vyDuiPkFTd5",
        "outputId": "07ebbb56-7991-4079-95e0-a35f3f499ee9"
      },
      "outputs": [
        {
          "name": "stdout",
          "output_type": "stream",
          "text": [
            "Requirement already satisfied: torch in /usr/local/lib/python3.10/dist-packages (2.1.0+cu121)\n",
            "Requirement already satisfied: torchvision in /usr/local/lib/python3.10/dist-packages (0.16.0+cu121)\n",
            "Requirement already satisfied: filelock in /usr/local/lib/python3.10/dist-packages (from torch) (3.13.1)\n",
            "Requirement already satisfied: typing-extensions in /usr/local/lib/python3.10/dist-packages (from torch) (4.5.0)\n",
            "Requirement already satisfied: sympy in /usr/local/lib/python3.10/dist-packages (from torch) (1.12)\n",
            "Requirement already satisfied: networkx in /usr/local/lib/python3.10/dist-packages (from torch) (3.2.1)\n",
            "Requirement already satisfied: jinja2 in /usr/local/lib/python3.10/dist-packages (from torch) (3.1.3)\n",
            "Requirement already satisfied: fsspec in /usr/local/lib/python3.10/dist-packages (from torch) (2023.6.0)\n",
            "Requirement already satisfied: triton==2.1.0 in /usr/local/lib/python3.10/dist-packages (from torch) (2.1.0)\n",
            "Requirement already satisfied: numpy in /usr/local/lib/python3.10/dist-packages (from torchvision) (1.23.5)\n",
            "Requirement already satisfied: requests in /usr/local/lib/python3.10/dist-packages (from torchvision) (2.31.0)\n",
            "Requirement already satisfied: pillow!=8.3.*,>=5.3.0 in /usr/local/lib/python3.10/dist-packages (from torchvision) (9.4.0)\n",
            "Requirement already satisfied: MarkupSafe>=2.0 in /usr/local/lib/python3.10/dist-packages (from jinja2->torch) (2.1.4)\n",
            "Requirement already satisfied: charset-normalizer<4,>=2 in /usr/local/lib/python3.10/dist-packages (from requests->torchvision) (3.3.2)\n",
            "Requirement already satisfied: idna<4,>=2.5 in /usr/local/lib/python3.10/dist-packages (from requests->torchvision) (3.6)\n",
            "Requirement already satisfied: urllib3<3,>=1.21.1 in /usr/local/lib/python3.10/dist-packages (from requests->torchvision) (2.0.7)\n",
            "Requirement already satisfied: certifi>=2017.4.17 in /usr/local/lib/python3.10/dist-packages (from requests->torchvision) (2023.11.17)\n",
            "Requirement already satisfied: mpmath>=0.19 in /usr/local/lib/python3.10/dist-packages (from sympy->torch) (1.3.0)\n"
          ]
        }
      ],
      "source": [
        "!pip3 install torch torchvision"
      ]
    },
    {
      "cell_type": "markdown",
      "metadata": {
        "id": "8TRnM7K8mGZa"
      },
      "source": [
        "If the installed version of PyTorch is lower than required, uninstall it and reinstall again by running the following commands:\n",
        "\n",
        "!pip3 uninstall --yes torch torchaudio torchvision torchtext torchdata\n",
        "!pip3 install torch torchaudio torchvision torchtext torchdata"
      ]
    },
    {
      "cell_type": "markdown",
      "metadata": {
        "id": "ogRnp8eU_kFv"
      },
      "source": [
        "## Check PyTorch Environment\n",
        "\n",
        "Pytorch is very similar to the `numpy` package. Let's start with importing PyTorch. The package is called `torch`, based on its original framework [Torch](http://torch.ch/). As a first step, we can check its version:"
      ]
    },
    {
      "cell_type": "code",
      "execution_count": null,
      "metadata": {
        "colab": {
          "base_uri": "https://localhost:8080/"
        },
        "id": "47lGOtCC_pCH",
        "outputId": "0fb79f73-82a3-4bc2-c1d5-c15b2553823c"
      },
      "outputs": [
        {
          "name": "stdout",
          "output_type": "stream",
          "text": [
            "Python 3.10.12\n"
          ]
        }
      ],
      "source": [
        "!python -V"
      ]
    },
    {
      "cell_type": "code",
      "execution_count": null,
      "metadata": {
        "colab": {
          "base_uri": "https://localhost:8080/"
        },
        "id": "_XCVSzRy_qN2",
        "outputId": "7ff7e56a-3521-454e-dce6-8b14a910195a"
      },
      "outputs": [
        {
          "name": "stdout",
          "output_type": "stream",
          "text": [
            "Sat Aug 10 20:33:13 2024       \n",
            "+---------------------------------------------------------------------------------------+\n",
            "| NVIDIA-SMI 535.104.05             Driver Version: 535.104.05   CUDA Version: 12.2     |\n",
            "|-----------------------------------------+----------------------+----------------------+\n",
            "| GPU  Name                 Persistence-M | Bus-Id        Disp.A | Volatile Uncorr. ECC |\n",
            "| Fan  Temp   Perf          Pwr:Usage/Cap |         Memory-Usage | GPU-Util  Compute M. |\n",
            "|                                         |                      |               MIG M. |\n",
            "|=========================================+======================+======================|\n",
            "|   0  Tesla T4                       Off | 00000000:00:04.0 Off |                    0 |\n",
            "| N/A   51C    P8              12W /  70W |      0MiB / 15360MiB |      0%      Default |\n",
            "|                                         |                      |                  N/A |\n",
            "+-----------------------------------------+----------------------+----------------------+\n",
            "                                                                                         \n",
            "+---------------------------------------------------------------------------------------+\n",
            "| Processes:                                                                            |\n",
            "|  GPU   GI   CI        PID   Type   Process name                            GPU Memory |\n",
            "|        ID   ID                                                             Usage      |\n",
            "|=======================================================================================|\n",
            "|  No running processes found                                                           |\n",
            "+---------------------------------------------------------------------------------------+\n"
          ]
        }
      ],
      "source": [
        "!nvidia-smi #check GPU"
      ]
    },
    {
      "cell_type": "code",
      "execution_count": null,
      "metadata": {
        "colab": {
          "base_uri": "https://localhost:8080/"
        },
        "id": "85fSPXNq_xwC",
        "outputId": "c4716d6d-799d-44c5-abb4-8d00397d7495"
      },
      "outputs": [
        {
          "name": "stdout",
          "output_type": "stream",
          "text": [
            "Using torch 2.3.1+cu121\n"
          ]
        }
      ],
      "source": [
        "import torch\n",
        "print(\"Using torch\", torch.__version__)"
      ]
    },
    {
      "cell_type": "code",
      "execution_count": null,
      "metadata": {
        "colab": {
          "base_uri": "https://localhost:8080/"
        },
        "id": "f4cdmbms_3bm",
        "outputId": "229dd9ea-0122-48ac-ed21-6c682b573739"
      },
      "outputs": [
        {
          "name": "stdout",
          "output_type": "stream",
          "text": [
            "tensor([[0.6778, 0.7837, 0.6664],\n",
            "        [0.6301, 0.9998, 0.7409],\n",
            "        [0.5495, 0.5978, 0.6948],\n",
            "        [0.2877, 0.6407, 0.9320],\n",
            "        [0.7372, 0.6757, 0.0932]])\n"
          ]
        }
      ],
      "source": [
        "x = torch.rand(5, 3)\n",
        "print(x)"
      ]
    },
    {
      "cell_type": "code",
      "execution_count": null,
      "metadata": {
        "colab": {
          "base_uri": "https://localhost:8080/"
        },
        "id": "4LCTuzlb_5ed",
        "outputId": "fa13a069-65b0-4db7-c5fc-d4ca124c2184"
      },
      "outputs": [
        {
          "name": "stdout",
          "output_type": "stream",
          "text": [
            "0.18.1+cu121\n"
          ]
        }
      ],
      "source": [
        "import torchvision\n",
        "print(torchvision.__version__)"
      ]
    },
    {
      "cell_type": "code",
      "execution_count": null,
      "metadata": {
        "id": "n2x-qnCK_OdY"
      },
      "outputs": [],
      "source": [
        "if torch.cuda.is_available():\n",
        "    device = torch.device('cuda')  # CUDA GPU\n",
        "elif torch.backends.mps.is_available():\n",
        "    device = torch.device('mps') #Apple GPU\n",
        "else:\n",
        "    device = torch.device(\"cpu\")"
      ]
    },
    {
      "cell_type": "code",
      "execution_count": null,
      "metadata": {
        "colab": {
          "base_uri": "https://localhost:8080/"
        },
        "id": "LceVUVNYACu5",
        "outputId": "4e72b56b-1429-4e9c-fd68-30fb1bc2aaf5"
      },
      "outputs": [
        {
          "name": "stdout",
          "output_type": "stream",
          "text": [
            "Using device: cuda\n",
            "Device name:  Tesla T4\n",
            "Device properties: _CudaDeviceProperties(name='Tesla T4', major=7, minor=5, total_memory=15102MB, multi_processor_count=40)\n",
            "Memory Usage:\n",
            "Allocated: 0.0 GB\n",
            "Cached:    0.0 GB\n"
          ]
        }
      ],
      "source": [
        "print('Using device:', device)\n",
        "#Additional Info when using cuda\n",
        "if device.type == 'cuda':\n",
        "    print(\"Device name: \", torch.cuda.get_device_name(0))\n",
        "    print(\"Device properties:\", torch.cuda.get_device_properties(0))\n",
        "    print('Memory Usage:')\n",
        "    print('Allocated:', round(torch.cuda.memory_allocated(0)/1024**3,1), 'GB')\n",
        "    print('Cached:   ', round(torch.cuda.memory_reserved(0)/1024**3,1), 'GB')"
      ]
    },
    {
      "cell_type": "code",
      "execution_count": null,
      "metadata": {
        "colab": {
          "base_uri": "https://localhost:8080/"
        },
        "id": "FVEeWwCUAGKj",
        "outputId": "17035988-5e95-4455-ba14-bcce77676d78"
      },
      "outputs": [
        {
          "data": {
            "text/plain": [
              "1"
            ]
          },
          "execution_count": 13,
          "metadata": {},
          "output_type": "execute_result"
        }
      ],
      "source": [
        "torch.cuda.device_count()"
      ]
    },
    {
      "cell_type": "code",
      "execution_count": null,
      "metadata": {
        "colab": {
          "base_uri": "https://localhost:8080/",
          "height": 35
        },
        "id": "VZPb2lftAIfb",
        "outputId": "fc211b0e-4ac6-48aa-bac8-f6cc5dd79820"
      },
      "outputs": [
        {
          "data": {
            "application/vnd.google.colaboratory.intrinsic+json": {
              "type": "string"
            },
            "text/plain": [
              "'12.1'"
            ]
          },
          "execution_count": 14,
          "metadata": {},
          "output_type": "execute_result"
        }
      ],
      "source": [
        "torch.version.cuda"
      ]
    },
    {
      "cell_type": "code",
      "execution_count": null,
      "metadata": {
        "colab": {
          "base_uri": "https://localhost:8080/"
        },
        "id": "4y3VuCzxALrE",
        "outputId": "d3f376de-5f0b-4fe7-aa49-b4d77b407930"
      },
      "outputs": [
        {
          "name": "stdout",
          "output_type": "stream",
          "text": [
            "nvcc: NVIDIA (R) Cuda compiler driver\n",
            "Copyright (c) 2005-2023 NVIDIA Corporation\n",
            "Built on Tue_Aug_15_22:02:13_PDT_2023\n",
            "Cuda compilation tools, release 12.2, V12.2.140\n",
            "Build cuda_12.2.r12.2/compiler.33191640_0\n"
          ]
        }
      ],
      "source": [
        "!nvcc -V"
      ]
    },
    {
      "cell_type": "code",
      "execution_count": null,
      "metadata": {
        "colab": {
          "base_uri": "https://localhost:8080/"
        },
        "id": "WDna707VAOes",
        "outputId": "2673d42e-a28e-4fb1-a924-fe1f2b060273"
      },
      "outputs": [
        {
          "data": {
            "text/plain": [
              "8906"
            ]
          },
          "execution_count": 16,
          "metadata": {},
          "output_type": "execute_result"
        }
      ],
      "source": [
        "torch.backends.cudnn.version()"
      ]
    },
    {
      "cell_type": "code",
      "execution_count": null,
      "metadata": {
        "colab": {
          "base_uri": "https://localhost:8080/"
        },
        "id": "ybCKHxPzARMn",
        "outputId": "f097d31a-5720-4ba3-96b7-a14cc31328aa"
      },
      "outputs": [
        {
          "name": "stdout",
          "output_type": "stream",
          "text": [
            "/usr/lib64-nvidia\n"
          ]
        }
      ],
      "source": [
        "!echo $LD_LIBRARY_PATH"
      ]
    },
    {
      "cell_type": "markdown",
      "metadata": {
        "id": "TfITcdKBAVYV"
      },
      "source": [
        "As in every machine learning framework, PyTorch provides functions that are stochastic like generating random numbers. However, a very good practice is to setup your code to be reproducible with the exact same random numbers. This is why we set a seed below."
      ]
    },
    {
      "cell_type": "code",
      "execution_count": null,
      "metadata": {
        "colab": {
          "base_uri": "https://localhost:8080/"
        },
        "id": "HsNtDPlbAUZM",
        "outputId": "d15dd192-f4eb-48b3-ba61-80dfbf037f30"
      },
      "outputs": [
        {
          "data": {
            "text/plain": [
              "<torch._C.Generator at 0x78f127be8130>"
            ]
          },
          "execution_count": 18,
          "metadata": {},
          "output_type": "execute_result"
        }
      ],
      "source": [
        "torch.manual_seed(42) # Setting the seed"
      ]
    },
    {
      "cell_type": "markdown",
      "metadata": {
        "id": "ImtLfsKAAdiS"
      },
      "source": [
        "## Load Google Drive Folder for Colab"
      ]
    },
    {
      "cell_type": "markdown",
      "metadata": {
        "id": "H26cKIjkmWNd"
      },
      "source": [
        "In Colab, add the following to load google drive folder"
      ]
    },
    {
      "cell_type": "code",
      "execution_count": null,
      "metadata": {
        "id": "PoKlV9Y4maYR"
      },
      "outputs": [],
      "source": [
        "from google.colab import drive\n",
        "drive.mount('/content/gdrive')"
      ]
    },
    {
      "cell_type": "code",
      "execution_count": null,
      "metadata": {
        "id": "WiI7HRwjmc1J"
      },
      "outputs": [],
      "source": [
        "import os\n",
        "filename = os.path.join(\"/content/gdrive/My Drive/data\", filename)"
      ]
    },
    {
      "cell_type": "markdown",
      "metadata": {
        "id": "6PQi_El2m_ke"
      },
      "source": [
        "Check the following tutorial regarding the external data for Colab: https://colab.research.google.com/notebooks/io.ipynb#scrollTo=XDg9OBaYqRMd"
      ]
    },
    {
      "cell_type": "markdown",
      "metadata": {
        "id": "LMGC0lkUtpOH"
      },
      "source": []
    },
    {
      "cell_type": "markdown",
      "metadata": {
        "id": "Cyd6sYY1KO3s"
      },
      "source": [
        "#Neural networks with PyTorch"
      ]
    },
    {
      "cell_type": "code",
      "execution_count": null,
      "metadata": {
        "id": "J-zH1N9VKSfW"
      },
      "outputs": [],
      "source": [
        "%matplotlib inline\n",
        "%config InlineBackend.figure_format = 'retina'\n",
        "\n",
        "import numpy as np\n",
        "import torch\n",
        "\n",
        "import helper\n",
        "\n",
        "import matplotlib.pyplot as plt"
      ]
    },
    {
      "cell_type": "code",
      "execution_count": null,
      "metadata": {
        "colab": {
          "base_uri": "https://localhost:8080/",
          "height": 34
        },
        "id": "m1g3F64uKasx",
        "outputId": "8805a656-d372-4ed8-f09c-f6e8c1e9cbaf"
      },
      "outputs": [
        {
          "name": "stdout",
          "output_type": "stream",
          "text": [
            "/content\n"
          ]
        }
      ],
      "source": [
        "!pwd"
      ]
    },
    {
      "cell_type": "markdown",
      "metadata": {
        "id": "Z-bqCWaAR6La"
      },
      "source": [
        "## MNIST Dataset"
      ]
    },
    {
      "cell_type": "markdown",
      "metadata": {
        "id": "CfSZKms9KqI2"
      },
      "source": [
        "Now we're going to build a larger network that can solve a (formerly) difficult problem, identifying text in an image. Here we'll use the MNIST dataset which consists of greyscale handwritten digits. Each image is 28x28 pixels"
      ]
    },
    {
      "cell_type": "code",
      "execution_count": null,
      "metadata": {
        "colab": {
          "base_uri": "https://localhost:8080/",
          "height": 403,
          "referenced_widgets": [
            "752fb34d4f5f49949a002c7f2aab9bea",
            "3488d1d8dde644c2bd05e823c5b97623",
            "ecf7eb3872314e7789921a07451b242a",
            "3634a03c8bc84c7abbac2115c5507bc2",
            "dc24c31c279c4e52a0793b1483262e07",
            "362559810add4572a2bb94fe24677992",
            "1425539fc33e4af9afa361c62a152b18",
            "88ce042dac3047bb889ab95addec3c5b",
            "77108867ccf14191ba84e64917ab2484",
            "017dd81a504f4074aa5935cbc367533b",
            "6040affd59724270b3e439746c3b9887",
            "ed029c1b8bd34966b8aa328f09599930",
            "8c93212633a74906858ec658cca734cc",
            "ea8e10d5788d4f00a7f599090c7aec3b",
            "346537770db4439d8822b5076d18860f",
            "0082f8c9359f4114a6022e393a6d3fa6",
            "bce76872a48f4f3bb48eb8bb6d3f6cdc",
            "555d1da6dbd94ccf98e3f812f7829e99",
            "d199b2b674bb42b8a7e4d90f0c02587a",
            "975d5256e01e4ec89aeab48542e9e2fc",
            "174be500fe5e44398f10b98e2576c39e",
            "9c701865dfc7454683733166a06db113",
            "6dd21088ddb74294a0d6f1b834e24e59",
            "43bcc1160d9c445fb5523f80e0c7f84a",
            "6bcf60e8b39b4ba88a73ec4ee6303f4a",
            "2f9a827c6c03459eae758e6a7f96025d",
            "c038bfeff2224a18b4c85c2c2110d57f",
            "2b4d2ba717f74732abf8c345b9a92de7",
            "7a4d33f75885425f80add82badfef386",
            "47e6c618e120447cbf4aeef0e51c6e52",
            "025543aef58047f9bb86a2cdc9d2bbdf",
            "688e1bcdeb67474aaf3242ee1e62afc5"
          ]
        },
        "id": "iERJRr07KYoE",
        "outputId": "d1eb21a3-5667-4ce3-abb6-198d97022e35"
      },
      "outputs": [
        {
          "name": "stdout",
          "output_type": "stream",
          "text": [
            "Downloading http://yann.lecun.com/exdb/mnist/train-images-idx3-ubyte.gz to /content/MNIST_data/MNIST/raw/train-images-idx3-ubyte.gz\n"
          ]
        },
        {
          "data": {
            "application/vnd.jupyter.widget-view+json": {
              "model_id": "752fb34d4f5f49949a002c7f2aab9bea",
              "version_major": 2,
              "version_minor": 0
            },
            "text/plain": [
              "HBox(children=(IntProgress(value=1, bar_style='info', max=1), HTML(value='')))"
            ]
          },
          "metadata": {
            "tags": []
          },
          "output_type": "display_data"
        },
        {
          "name": "stdout",
          "output_type": "stream",
          "text": [
            "\n",
            "Extracting /content/MNIST_data/MNIST/raw/train-images-idx3-ubyte.gz to /content/MNIST_data/MNIST/raw\n",
            "Downloading http://yann.lecun.com/exdb/mnist/train-labels-idx1-ubyte.gz to /content/MNIST_data/MNIST/raw/train-labels-idx1-ubyte.gz\n"
          ]
        },
        {
          "data": {
            "application/vnd.jupyter.widget-view+json": {
              "model_id": "77108867ccf14191ba84e64917ab2484",
              "version_major": 2,
              "version_minor": 0
            },
            "text/plain": [
              "HBox(children=(IntProgress(value=1, bar_style='info', max=1), HTML(value='')))"
            ]
          },
          "metadata": {
            "tags": []
          },
          "output_type": "display_data"
        },
        {
          "name": "stdout",
          "output_type": "stream",
          "text": [
            "\n",
            "Extracting /content/MNIST_data/MNIST/raw/train-labels-idx1-ubyte.gz to /content/MNIST_data/MNIST/raw\n",
            "Downloading http://yann.lecun.com/exdb/mnist/t10k-images-idx3-ubyte.gz to /content/MNIST_data/MNIST/raw/t10k-images-idx3-ubyte.gz\n"
          ]
        },
        {
          "data": {
            "application/vnd.jupyter.widget-view+json": {
              "model_id": "bce76872a48f4f3bb48eb8bb6d3f6cdc",
              "version_major": 2,
              "version_minor": 0
            },
            "text/plain": [
              "HBox(children=(IntProgress(value=1, bar_style='info', max=1), HTML(value='')))"
            ]
          },
          "metadata": {
            "tags": []
          },
          "output_type": "display_data"
        },
        {
          "name": "stdout",
          "output_type": "stream",
          "text": [
            "\n",
            "Extracting /content/MNIST_data/MNIST/raw/t10k-images-idx3-ubyte.gz to /content/MNIST_data/MNIST/raw\n",
            "Downloading http://yann.lecun.com/exdb/mnist/t10k-labels-idx1-ubyte.gz to /content/MNIST_data/MNIST/raw/t10k-labels-idx1-ubyte.gz\n"
          ]
        },
        {
          "data": {
            "application/vnd.jupyter.widget-view+json": {
              "model_id": "6bcf60e8b39b4ba88a73ec4ee6303f4a",
              "version_major": 2,
              "version_minor": 0
            },
            "text/plain": [
              "HBox(children=(IntProgress(value=1, bar_style='info', max=1), HTML(value='')))"
            ]
          },
          "metadata": {
            "tags": []
          },
          "output_type": "display_data"
        },
        {
          "name": "stdout",
          "output_type": "stream",
          "text": [
            "\n",
            "Extracting /content/MNIST_data/MNIST/raw/t10k-labels-idx1-ubyte.gz to /content/MNIST_data/MNIST/raw\n",
            "Processing...\n",
            "Done!\n"
          ]
        }
      ],
      "source": [
        "from torchvision import datasets, transforms\n",
        "\n",
        "# Define a transform to normalize the data\n",
        "transform = transforms.Compose([transforms.ToTensor(),\n",
        "                              transforms.Normalize((0.5,), (0.5,)),\n",
        "                              ])\n",
        "# Download and load the training data\n",
        "trainset = datasets.MNIST('/content/MNIST_data/', download=True, train=True, transform=transform)\n",
        "trainloader = torch.utils.data.DataLoader(trainset, batch_size=64, shuffle=True)\n",
        "#The batch size is the number of images we get in one iteration from the data loader and pass through our network, often called a batch. And shuffle=True tells it to shuffle the dataset every time we start going through the data loader again."
      ]
    },
    {
      "cell_type": "markdown",
      "metadata": {
        "id": "Xrbf1bhELCJA"
      },
      "source": [
        "I'm just grabbing the first batch so we can check out the data. We can see below that images is just a tensor with size (64, 1, 28, 28). So, 64 images per batch, 1 color channel, and 28x28 images."
      ]
    },
    {
      "cell_type": "code",
      "execution_count": null,
      "metadata": {
        "colab": {
          "base_uri": "https://localhost:8080/",
          "height": 68
        },
        "id": "rQlVEqNLLHQq",
        "outputId": "6fa39d7c-f5e8-498b-db78-2c3a3ef1997c"
      },
      "outputs": [
        {
          "name": "stdout",
          "output_type": "stream",
          "text": [
            "<class 'torch.Tensor'>\n",
            "torch.Size([64, 1, 28, 28])\n",
            "torch.Size([64])\n"
          ]
        }
      ],
      "source": [
        "dataiter = iter(trainloader)\n",
        "images, labels = next(dataiter)\n",
        "print(type(images))\n",
        "print(images.shape)\n",
        "print(labels.shape)"
      ]
    },
    {
      "cell_type": "code",
      "execution_count": null,
      "metadata": {
        "colab": {
          "base_uri": "https://localhost:8080/",
          "height": 265
        },
        "id": "VldEUbXBLJiC",
        "outputId": "bc6ed535-c983-44c5-ccce-9d2396274f08"
      },
      "outputs": [
        {
          "data": {
            "image/png": "[encoded data removed]",
            "text/plain": [
              "<Figure size 432x288 with 1 Axes>"
            ]
          },
          "metadata": {
            "image/png": {
              "height": 248,
              "width": 251
            },
            "tags": []
          },
          "output_type": "display_data"
        }
      ],
      "source": [
        "plt.imshow(images[1].numpy().squeeze(), cmap='Greys_r');"
      ]
    },
    {
      "cell_type": "markdown",
      "metadata": {
        "id": "erFfPcUcSEqo"
      },
      "source": [
        "## Torch NN Module"
      ]
    },
    {
      "cell_type": "markdown",
      "metadata": {
        "id": "_WIuw1FTLVC6"
      },
      "source": [
        "We'll see how to do it using PyTorch's nn module which provides a much more convenient and powerful method for defining network architectures."
      ]
    },
    {
      "cell_type": "markdown",
      "metadata": {
        "id": "bv8jcavnLdsS"
      },
      "source": [
        "In fully-connected networks, the input to each layer must be a one-dimensional vector (which can be stacked into a 2D tensor as a batch of multiple examples). However, our images are 28x28 2D tensors, so we need to convert them into 1D vectors. Thinking about sizes, we need to convert the batch of images with shape (64, 1, 28, 28) to a have a shape of (64, 784), 784 is 28 times 28. This is typically called flattening, we flattened the 2D images into 1D vectors.\n",
        "Previously you built a network with one output unit. Here we need 10 output units, one for each digit. We want our network to predict the digit shown in an image, so what we'll do is calculate probabilities that the image is of any one digit or class. This ends up being a discrete probability distribution over the classes (digits) that tells us the most likely class for the image."
      ]
    },
    {
      "cell_type": "code",
      "execution_count": null,
      "metadata": {
        "id": "9TVuTdMjLUfO"
      },
      "outputs": [],
      "source": [
        "def activation(x):\n",
        "    return 1/(1+torch.exp(-x))\n",
        "\n",
        "# Flatten the input images\n",
        "inputs = images.view(images.shape[0], -1)#(64, 1, 28, 28) to (64, 784)\n",
        "\n",
        "# Create parameters\n",
        "w1 = torch.randn(784, 256)\n",
        "b1 = torch.randn(256)\n",
        "\n",
        "w2 = torch.randn(256, 10)\n",
        "b2 = torch.randn(10)\n",
        "\n",
        "h = activation(torch.mm(inputs, w1) + b1)\n",
        "\n",
        "out = torch.mm(h, w2) + b2"
      ]
    },
    {
      "cell_type": "code",
      "execution_count": null,
      "metadata": {
        "colab": {
          "base_uri": "https://localhost:8080/",
          "height": 170
        },
        "id": "wULiOLjOMLwI",
        "outputId": "1da6ad4a-bf28-4ebe-d210-888cfc3deda8"
      },
      "outputs": [
        {
          "name": "stdout",
          "output_type": "stream",
          "text": [
            "torch.Size([64, 10])\n",
            "tensor([1.0000, 1.0000, 1.0000, 1.0000, 1.0000, 1.0000, 1.0000, 1.0000, 1.0000,\n",
            "        1.0000, 1.0000, 1.0000, 1.0000, 1.0000, 1.0000, 1.0000, 1.0000, 1.0000,\n",
            "        1.0000, 1.0000, 1.0000, 1.0000, 1.0000, 1.0000, 1.0000, 1.0000, 1.0000,\n",
            "        1.0000, 1.0000, 1.0000, 1.0000, 1.0000, 1.0000, 1.0000, 1.0000, 1.0000,\n",
            "        1.0000, 1.0000, 1.0000, 1.0000, 1.0000, 1.0000, 1.0000, 1.0000, 1.0000,\n",
            "        1.0000, 1.0000, 1.0000, 1.0000, 1.0000, 1.0000, 1.0000, 1.0000, 1.0000,\n",
            "        1.0000, 1.0000, 1.0000, 1.0000, 1.0000, 1.0000, 1.0000, 1.0000, 1.0000,\n",
            "        1.0000])\n"
          ]
        }
      ],
      "source": [
        "def softmax(x):\n",
        "    return torch.exp(x)/torch.sum(torch.exp(x), dim=1).view(-1, 1)\n",
        "\n",
        "probabilities = softmax(out)\n",
        "\n",
        "# Does it have the right shape? Should be (64, 10)\n",
        "print(probabilities.shape)\n",
        "# Does it sum to 1?\n",
        "print(probabilities.sum(dim=1))"
      ]
    },
    {
      "cell_type": "code",
      "execution_count": null,
      "metadata": {
        "colab": {
          "base_uri": "https://localhost:8080/",
          "height": 51
        },
        "id": "QC-NAetkMW1S",
        "outputId": "ed6030d5-ca07-48fe-a804-9c5cad4051cc"
      },
      "outputs": [
        {
          "name": "stdout",
          "output_type": "stream",
          "text": [
            "tensor([4.2316e+00, 2.2374e+01, 2.3805e-04, 2.0477e-02, 1.5087e-04, 2.1441e+01,\n",
            "        1.8832e-04, 1.9745e+00, 2.5309e+00, 1.1427e+01])\n"
          ]
        }
      ],
      "source": [
        "print(probabilities.sum(dim=0))"
      ]
    },
    {
      "cell_type": "markdown",
      "metadata": {
        "id": "C8AXSquCMiEi"
      },
      "source": [
        "PyTorch provides a module nn that makes building networks much simpler. Here I'll show you how to build the same one as above with 784 inputs, 256 hidden units, 10 output units and a softmax output."
      ]
    },
    {
      "cell_type": "code",
      "execution_count": null,
      "metadata": {
        "id": "vCJmS4rJMjw1"
      },
      "outputs": [],
      "source": [
        "from torch import nn"
      ]
    },
    {
      "cell_type": "code",
      "execution_count": null,
      "metadata": {
        "id": "3-nEJvN9Mmnq"
      },
      "outputs": [],
      "source": [
        "class Network(nn.Module):\n",
        "  #inheriting from nn.Module. Combined with super().__init__() this creates a class that tracks the architecture and provides a lot of useful methods and attributes.\n",
        "  #It is mandatory to inherit from nn.Module when you're creating a class for your network. The name of the class itself can be anything.\n",
        "    def __init__(self):\n",
        "        super().__init__()\n",
        "\n",
        "        # Inputs to hidden layer linear transformation\n",
        "        # creates a module for a linear transformation, $x\\mathbf{W} + b$, with 784 inputs and 256 outputs\n",
        "        self.hidden = nn.Linear(784, 256)\n",
        "        #You can access the weight and bias tensors once the network (net) is created with net.hidden.weight and net.hidden.bias.\n",
        "\n",
        "        #this creates another linear transformation with 256 inputs and 10 outputs.\n",
        "        # Output layer, 10 units - one for each digit\n",
        "        self.output = nn.Linear(256, 10)\n",
        "\n",
        "        # Define sigmoid activation and softmax output\n",
        "        self.sigmoid = nn.Sigmoid()\n",
        "        self.softmax = nn.Softmax(dim=1)\n",
        "        #Setting dim=1 in nn.Softmax(dim=1) calculates softmax across the columns.\n",
        "\n",
        "    #PyTorch networks created with nn.Module must have a forward method defined.\n",
        "    #It takes in a tensor x and passes it through the operations you defined in the __init__ method.\n",
        "    def forward(self, x):\n",
        "        # Pass the input tensor through each of our operations\n",
        "        #Here the input tensor x is passed through each operation a reassigned to x.\n",
        "        x = self.hidden(x)\n",
        "        x = self.sigmoid(x)\n",
        "        x = self.output(x)\n",
        "        x = self.softmax(x)\n",
        "\n",
        "        return x"
      ]
    },
    {
      "cell_type": "code",
      "execution_count": null,
      "metadata": {
        "colab": {
          "base_uri": "https://localhost:8080/",
          "height": 119
        },
        "id": "spzhKTHJNr5l",
        "outputId": "b265e453-f95e-4a7f-f6dc-5fae0ddfdc62"
      },
      "outputs": [
        {
          "data": {
            "text/plain": [
              "Network(\n",
              "  (hidden): Linear(in_features=784, out_features=256, bias=True)\n",
              "  (output): Linear(in_features=256, out_features=10, bias=True)\n",
              "  (sigmoid): Sigmoid()\n",
              "  (softmax): Softmax(dim=1)\n",
              ")"
            ]
          },
          "execution_count": 64,
          "metadata": {
            "tags": []
          },
          "output_type": "execute_result"
        }
      ],
      "source": [
        "# Create the network and look at it's text representation\n",
        "model = Network()\n",
        "model"
      ]
    },
    {
      "cell_type": "markdown",
      "metadata": {
        "id": "NtDayQ8qSVT2"
      },
      "source": [
        "## torch.nn.functional module"
      ]
    },
    {
      "cell_type": "markdown",
      "metadata": {
        "id": "Lp8jZGaVNy_b"
      },
      "source": [
        "You can define the network somewhat more concisely and clearly using the torch.nn.functional module. This is the most common way you'll see networks defined as many operations are simple element-wise functions. We normally import this module as F, import torch.nn.functional as F.\n"
      ]
    },
    {
      "cell_type": "code",
      "execution_count": null,
      "metadata": {
        "id": "QizW2cHxN3EI"
      },
      "outputs": [],
      "source": [
        "import torch.nn.functional as F\n",
        "\n",
        "class Network(nn.Module):\n",
        "    def __init__(self):\n",
        "        super().__init__()\n",
        "        # Inputs to hidden layer linear transformation\n",
        "        self.hidden = nn.Linear(784, 256)\n",
        "        # Output layer, 10 units - one for each digit\n",
        "        self.output = nn.Linear(256, 10)\n",
        "\n",
        "    def forward(self, x):\n",
        "        # Hidden layer with sigmoid activation\n",
        "        x = F.sigmoid(self.hidden(x))\n",
        "        # Output layer with softmax activation\n",
        "        x = F.softmax(self.output(x), dim=1)\n",
        "\n",
        "        return x"
      ]
    },
    {
      "cell_type": "markdown",
      "metadata": {
        "id": "7vJWRPfHOOxX"
      },
      "source": [
        "Another model"
      ]
    },
    {
      "cell_type": "code",
      "execution_count": null,
      "metadata": {
        "colab": {
          "base_uri": "https://localhost:8080/",
          "height": 102
        },
        "id": "oa8jW9hhOSQ5",
        "outputId": "bf1fa34f-b7ae-4eb2-eac9-2040523fef2b"
      },
      "outputs": [
        {
          "data": {
            "text/plain": [
              "Network(\n",
              "  (fc1): Linear(in_features=784, out_features=128, bias=True)\n",
              "  (fc2): Linear(in_features=128, out_features=64, bias=True)\n",
              "  (fc3): Linear(in_features=64, out_features=10, bias=True)\n",
              ")"
            ]
          },
          "execution_count": 66,
          "metadata": {
            "tags": []
          },
          "output_type": "execute_result"
        }
      ],
      "source": [
        "class Network(nn.Module):\n",
        "    def __init__(self):\n",
        "        super().__init__()\n",
        "        # Defining the layers, 128, 64, 10 units each\n",
        "        self.fc1 = nn.Linear(784, 128)\n",
        "        self.fc2 = nn.Linear(128, 64)\n",
        "        # Output layer, 10 units - one for each digit\n",
        "        self.fc3 = nn.Linear(64, 10)\n",
        "\n",
        "    def forward(self, x):\n",
        "        ''' Forward pass through the network, returns the output logits '''\n",
        "\n",
        "        x = self.fc1(x)\n",
        "        x = F.relu(x)\n",
        "        x = self.fc2(x)\n",
        "        x = F.relu(x)\n",
        "        x = self.fc3(x)\n",
        "        x = F.softmax(x, dim=1)\n",
        "\n",
        "        return x\n",
        "\n",
        "model = Network()\n",
        "model"
      ]
    },
    {
      "cell_type": "markdown",
      "metadata": {
        "id": "OgqogJKKOVGr"
      },
      "source": [
        "It's good practice to name your layers by their type of network, for instance 'fc' to represent a fully-connected layer. As you code your solution, use fc1, fc2, and fc3 as your layer names.\n",
        "ReLU function is used almost exclusively as the activation function for hidden layers.\n",
        "The only requirement is that for a network to approximate a non-linear function, the activation functions must be non-linear.  Here are a few more examples of common activation functions: Tanh (hyperbolic tangent), and ReLU (rectified linear unit)."
      ]
    },
    {
      "cell_type": "markdown",
      "metadata": {
        "id": "5ydhb7UfOjHq"
      },
      "source": [
        "initializing weights and biases: The weights and such are automatically initialized for you, but it's possible to customize how they are initialized. The weights and biases are tensors attached to the layer you defined, you can get them with model.fc1.weight for instance.\n",
        "\n"
      ]
    },
    {
      "cell_type": "code",
      "execution_count": null,
      "metadata": {
        "colab": {
          "base_uri": "https://localhost:8080/",
          "height": 476
        },
        "id": "Xql_nPNoOvbO",
        "outputId": "7346208e-7113-48e1-bf21-dfaa9ca844aa"
      },
      "outputs": [
        {
          "name": "stdout",
          "output_type": "stream",
          "text": [
            "Parameter containing:\n",
            "tensor([[ 0.0053,  0.0095,  0.0104,  ..., -0.0226,  0.0165,  0.0120],\n",
            "        [-0.0142, -0.0229, -0.0197,  ...,  0.0299, -0.0270, -0.0269],\n",
            "        [-0.0248,  0.0253,  0.0324,  ..., -0.0175, -0.0339,  0.0020],\n",
            "        ...,\n",
            "        [ 0.0054,  0.0103,  0.0017,  ..., -0.0147, -0.0111, -0.0241],\n",
            "        [ 0.0340, -0.0104,  0.0198,  ..., -0.0157, -0.0128, -0.0336],\n",
            "        [-0.0086, -0.0058,  0.0136,  ...,  0.0086,  0.0153,  0.0127]],\n",
            "       requires_grad=True)\n",
            "Parameter containing:\n",
            "tensor([-0.0080, -0.0018,  0.0310,  0.0209, -0.0279,  0.0038,  0.0211, -0.0280,\n",
            "        -0.0354, -0.0346,  0.0077,  0.0270,  0.0150, -0.0330,  0.0125,  0.0229,\n",
            "        -0.0355, -0.0016,  0.0294,  0.0053,  0.0350,  0.0210,  0.0011,  0.0176,\n",
            "         0.0002, -0.0127, -0.0130, -0.0164, -0.0134, -0.0212, -0.0277,  0.0214,\n",
            "         0.0184,  0.0059, -0.0313, -0.0188,  0.0225,  0.0299,  0.0299,  0.0047,\n",
            "        -0.0238, -0.0196,  0.0241,  0.0200, -0.0347, -0.0111,  0.0093, -0.0025,\n",
            "        -0.0106,  0.0144,  0.0206, -0.0061,  0.0274, -0.0055, -0.0128, -0.0354,\n",
            "         0.0009,  0.0235,  0.0074, -0.0114, -0.0300, -0.0162,  0.0109,  0.0064,\n",
            "         0.0137,  0.0116,  0.0147,  0.0229,  0.0002, -0.0051,  0.0008, -0.0148,\n",
            "        -0.0055, -0.0066,  0.0146, -0.0197,  0.0296, -0.0122, -0.0259, -0.0357,\n",
            "        -0.0261,  0.0071, -0.0005, -0.0032, -0.0273,  0.0274,  0.0201,  0.0258,\n",
            "        -0.0009, -0.0258, -0.0201, -0.0246, -0.0325, -0.0046,  0.0031, -0.0323,\n",
            "        -0.0232, -0.0155,  0.0153,  0.0127, -0.0217,  0.0051,  0.0143, -0.0073,\n",
            "         0.0288, -0.0254, -0.0116, -0.0073,  0.0269,  0.0228, -0.0298, -0.0285,\n",
            "         0.0147,  0.0162, -0.0060, -0.0224, -0.0093,  0.0154, -0.0324,  0.0049,\n",
            "         0.0227,  0.0034,  0.0141,  0.0305,  0.0022,  0.0235,  0.0039,  0.0142],\n",
            "       requires_grad=True)\n"
          ]
        }
      ],
      "source": [
        "print(model.fc1.weight)\n",
        "print(model.fc1.bias)"
      ]
    },
    {
      "cell_type": "markdown",
      "metadata": {
        "id": "DKXig7oAO3kA"
      },
      "source": [
        "For custom initialization, we want to modify these tensors in place. These are actually autograd Variables, so we need to get back the actual tensors with model.fc1.weight.data. Once we have the tensors, we can fill them with zeros (for biases) or random normal values."
      ]
    },
    {
      "cell_type": "code",
      "execution_count": null,
      "metadata": {
        "colab": {
          "base_uri": "https://localhost:8080/",
          "height": 139
        },
        "id": "_T9SPxuPO5fp",
        "outputId": "bad0ed5b-9e8d-4307-c6fc-aa8268600363"
      },
      "outputs": [
        {
          "data": {
            "text/plain": [
              "tensor([0., 0., 0., 0., 0., 0., 0., 0., 0., 0., 0., 0., 0., 0., 0., 0., 0., 0., 0., 0., 0., 0., 0., 0.,\n",
              "        0., 0., 0., 0., 0., 0., 0., 0., 0., 0., 0., 0., 0., 0., 0., 0., 0., 0., 0., 0., 0., 0., 0., 0.,\n",
              "        0., 0., 0., 0., 0., 0., 0., 0., 0., 0., 0., 0., 0., 0., 0., 0., 0., 0., 0., 0., 0., 0., 0., 0.,\n",
              "        0., 0., 0., 0., 0., 0., 0., 0., 0., 0., 0., 0., 0., 0., 0., 0., 0., 0., 0., 0., 0., 0., 0., 0.,\n",
              "        0., 0., 0., 0., 0., 0., 0., 0., 0., 0., 0., 0., 0., 0., 0., 0., 0., 0., 0., 0., 0., 0., 0., 0.,\n",
              "        0., 0., 0., 0., 0., 0., 0., 0.])"
            ]
          },
          "execution_count": 68,
          "metadata": {
            "tags": []
          },
          "output_type": "execute_result"
        }
      ],
      "source": [
        "# Set biases to all zeros\n",
        "model.fc1.bias.data.fill_(0)"
      ]
    },
    {
      "cell_type": "code",
      "execution_count": null,
      "metadata": {
        "colab": {
          "base_uri": "https://localhost:8080/",
          "height": 238
        },
        "id": "ZqTFSchKO99H",
        "outputId": "2b838f55-b693-48b8-abb6-ec6edc7e58f2"
      },
      "outputs": [
        {
          "data": {
            "text/plain": [
              "tensor([[-2.6965e-02,  3.2594e-03,  7.2188e-03,  ...,  2.4345e-03,\n",
              "          5.3860e-04,  3.9906e-03],\n",
              "        [-4.0252e-03, -9.4899e-03,  1.6548e-02,  ...,  9.1848e-03,\n",
              "          8.1340e-03, -6.1363e-04],\n",
              "        [ 9.9076e-04,  7.7060e-04, -9.5502e-04,  ...,  6.8196e-03,\n",
              "         -5.0805e-03,  1.7135e-02],\n",
              "        ...,\n",
              "        [ 1.4525e-02,  1.1392e-02, -7.0820e-03,  ...,  6.6372e-03,\n",
              "          8.9632e-03, -3.5935e-04],\n",
              "        [-8.3963e-03, -1.1518e-02, -1.4619e-02,  ..., -1.8183e-05,\n",
              "         -9.8635e-03, -2.0011e-03],\n",
              "        [ 1.0964e-02, -3.1923e-03, -6.5580e-03,  ...,  6.6183e-03,\n",
              "         -1.7163e-02,  1.0629e-03]])"
            ]
          },
          "execution_count": 69,
          "metadata": {
            "tags": []
          },
          "output_type": "execute_result"
        }
      ],
      "source": [
        "# sample from random normal with standard dev = 0.01\n",
        "model.fc1.weight.data.normal_(std=0.01)"
      ]
    },
    {
      "cell_type": "markdown",
      "metadata": {
        "id": "Y8cbKJgySbMP"
      },
      "source": [
        "## Test the forward pass"
      ]
    },
    {
      "cell_type": "markdown",
      "metadata": {
        "id": "88mlqWudPBqt"
      },
      "source": [
        "Now that we have a network, let's see what happens when we pass in an image."
      ]
    },
    {
      "cell_type": "code",
      "execution_count": null,
      "metadata": {
        "id": "V3kJhacDQQNb"
      },
      "outputs": [],
      "source": [
        "import matplotlib.pyplot as plt\n",
        "import numpy as np\n",
        "from torch import nn, optim\n",
        "from torch.autograd import Variable\n",
        "\n",
        "\n",
        "def test_network(net, trainloader):\n",
        "\n",
        "    criterion = nn.MSELoss()\n",
        "    optimizer = optim.Adam(net.parameters(), lr=0.001)\n",
        "\n",
        "    dataiter = iter(trainloader)\n",
        "    images, labels = next(dataiter)\n",
        "\n",
        "    # Create Variables for the inputs and targets\n",
        "    inputs = Variable(images)\n",
        "    targets = Variable(images)\n",
        "\n",
        "    # Clear the gradients from all Variables\n",
        "    optimizer.zero_grad()\n",
        "\n",
        "    # Forward pass, then backward pass, then update weights\n",
        "    output = net.forward(inputs)\n",
        "    loss = criterion(output, targets)\n",
        "    loss.backward()\n",
        "    optimizer.step()\n",
        "\n",
        "    return True\n",
        "\n",
        "\n",
        "def imshow(image, ax=None, title=None, normalize=True):\n",
        "    \"\"\"Imshow for Tensor.\"\"\"\n",
        "    if ax is None:\n",
        "        fig, ax = plt.subplots()\n",
        "    image = image.numpy().transpose((1, 2, 0))\n",
        "\n",
        "    if normalize:\n",
        "        mean = np.array([0.485, 0.456, 0.406])\n",
        "        std = np.array([0.229, 0.224, 0.225])\n",
        "        image = std * image + mean\n",
        "        image = np.clip(image, 0, 1)\n",
        "\n",
        "    ax.imshow(image)\n",
        "    ax.spines['top'].set_visible(False)\n",
        "    ax.spines['right'].set_visible(False)\n",
        "    ax.spines['left'].set_visible(False)\n",
        "    ax.spines['bottom'].set_visible(False)\n",
        "    ax.tick_params(axis='both', length=0)\n",
        "    ax.set_xticklabels('')\n",
        "    ax.set_yticklabels('')\n",
        "\n",
        "    return ax\n",
        "\n",
        "\n",
        "def view_recon(img, recon):\n",
        "    ''' Function for displaying an image (as a PyTorch Tensor) and its\n",
        "        reconstruction also a PyTorch Tensor\n",
        "    '''\n",
        "\n",
        "    fig, axes = plt.subplots(ncols=2, sharex=True, sharey=True)\n",
        "    axes[0].imshow(img.numpy().squeeze())\n",
        "    axes[1].imshow(recon.data.numpy().squeeze())\n",
        "    for ax in axes:\n",
        "        ax.axis('off')\n",
        "        ax.set_adjustable('box-forced')\n",
        "\n",
        "def view_classify(img, ps, version=\"MNIST\"):\n",
        "    ''' Function for viewing an image and it's predicted classes.\n",
        "    '''\n",
        "    ps = ps.data.numpy().squeeze()\n",
        "\n",
        "    fig, (ax1, ax2) = plt.subplots(figsize=(6,9), ncols=2)\n",
        "    ax1.imshow(img.resize_(1, 28, 28).numpy().squeeze())\n",
        "    ax1.axis('off')\n",
        "    ax2.barh(np.arange(10), ps)\n",
        "    ax2.set_aspect(0.1)\n",
        "    ax2.set_yticks(np.arange(10))\n",
        "    if version == \"MNIST\":\n",
        "        ax2.set_yticklabels(np.arange(10))\n",
        "    elif version == \"Fashion\":\n",
        "        ax2.set_yticklabels(['T-shirt/top',\n",
        "                            'Trouser',\n",
        "                            'Pullover',\n",
        "                            'Dress',\n",
        "                            'Coat',\n",
        "                            'Sandal',\n",
        "                            'Shirt',\n",
        "                            'Sneaker',\n",
        "                            'Bag',\n",
        "                            'Ankle Boot'], size='small');\n",
        "    ax2.set_title('Class Probability')\n",
        "    ax2.set_xlim(0, 1.1)\n",
        "\n",
        "    plt.tight_layout()"
      ]
    },
    {
      "cell_type": "code",
      "execution_count": null,
      "metadata": {
        "id": "k2kp_JXePGm8"
      },
      "outputs": [],
      "source": [
        "\n",
        "# Grab some data\n",
        "dataiter = iter(trainloader)\n",
        "images, labels = next(dataiter)\n",
        "\n",
        "# Resize images into a 1D vector, new shape is (batch size, color channels, image pixels)\n",
        "images.resize_(64, 1, 784)\n",
        "# or images.resize_(images.shape[0], 1, 784) to automatically get batch size\n",
        "\n",
        "# Forward pass through the network\n",
        "img_idx = 0\n",
        "ps = model.forward(images[img_idx,:])\n",
        "\n",
        "img = images[img_idx]\n",
        "\n"
      ]
    },
    {
      "cell_type": "code",
      "execution_count": null,
      "metadata": {
        "colab": {
          "base_uri": "https://localhost:8080/",
          "height": 252
        },
        "id": "KDWbnAzMP24f",
        "outputId": "2c7e794e-202a-44c6-88dd-75321efea3f0"
      },
      "outputs": [
        {
          "data": {
            "image/png": "[encoded data removed]",
            "text/plain": [
              "<Figure size 432x648 with 2 Axes>"
            ]
          },
          "metadata": {
            "image/png": {
              "height": 235,
              "width": 424
            },
            "tags": []
          },
          "output_type": "display_data"
        }
      ],
      "source": [
        "view_classify(img.view(1, 28, 28), ps)"
      ]
    },
    {
      "cell_type": "markdown",
      "metadata": {
        "id": "hP3jZ6O8SgwL"
      },
      "source": [
        "## nn.Sequential"
      ]
    },
    {
      "cell_type": "markdown",
      "metadata": {
        "id": "Pg4rifuJQYxH"
      },
      "source": [
        "Using nn.Sequential: PyTorch provides a convenient way to build networks like this where a tensor is passed sequentially through operations, nn.Sequential (documentation). Using this to build the equivalent network:"
      ]
    },
    {
      "cell_type": "code",
      "execution_count": null,
      "metadata": {
        "colab": {
          "base_uri": "https://localhost:8080/",
          "height": 388
        },
        "id": "zSsTTIgyQfuG",
        "outputId": "6b97f6e6-2bd7-4e67-ea30-e9eb3d91f086"
      },
      "outputs": [
        {
          "name": "stdout",
          "output_type": "stream",
          "text": [
            "Sequential(\n",
            "  (0): Linear(in_features=784, out_features=128, bias=True)\n",
            "  (1): ReLU()\n",
            "  (2): Linear(in_features=128, out_features=64, bias=True)\n",
            "  (3): ReLU()\n",
            "  (4): Linear(in_features=64, out_features=10, bias=True)\n",
            "  (5): Softmax(dim=1)\n",
            ")\n"
          ]
        },
        {
          "data": {
            "image/png": "[encoded data removed]",
            "text/plain": [
              "<Figure size 432x648 with 2 Axes>"
            ]
          },
          "metadata": {
            "image/png": {
              "height": 235,
              "width": 424
            },
            "tags": []
          },
          "output_type": "display_data"
        }
      ],
      "source": [
        "# Hyperparameters for our network\n",
        "input_size = 784\n",
        "hidden_sizes = [128, 64]\n",
        "output_size = 10\n",
        "\n",
        "# Build a feed-forward network\n",
        "model = nn.Sequential(nn.Linear(input_size, hidden_sizes[0]),\n",
        "                      nn.ReLU(),\n",
        "                      nn.Linear(hidden_sizes[0], hidden_sizes[1]),\n",
        "                      nn.ReLU(),\n",
        "                      nn.Linear(hidden_sizes[1], output_size),\n",
        "                      nn.Softmax(dim=1))\n",
        "print(model)\n",
        "\n",
        "# Forward pass through the network and display output\n",
        "images, labels = next(iter(trainloader))\n",
        "images.resize_(images.shape[0], 1, 784)\n",
        "ps = model.forward(images[0,:])\n",
        "view_classify(images[0].view(1, 28, 28), ps)"
      ]
    },
    {
      "cell_type": "markdown",
      "metadata": {
        "id": "RUBGm2NSQniq"
      },
      "source": [
        "The operations are availble by passing in the appropriate index. For example, if you want to get first Linear operation and look at the weights, you'd use model[0]."
      ]
    },
    {
      "cell_type": "code",
      "execution_count": null,
      "metadata": {
        "colab": {
          "base_uri": "https://localhost:8080/",
          "height": 187
        },
        "id": "1QyFsLFJQpyn",
        "outputId": "ae382f4d-7b94-452d-bdc0-694bed7c1c3d"
      },
      "outputs": [
        {
          "name": "stdout",
          "output_type": "stream",
          "text": [
            "Linear(in_features=784, out_features=128, bias=True)\n"
          ]
        },
        {
          "data": {
            "text/plain": [
              "Parameter containing:\n",
              "tensor([[-0.0152, -0.0294,  0.0026,  ...,  0.0148,  0.0261, -0.0223],\n",
              "        [ 0.0032,  0.0163,  0.0208,  ..., -0.0124, -0.0124,  0.0186],\n",
              "        [ 0.0315, -0.0142, -0.0310,  ..., -0.0192, -0.0179,  0.0007],\n",
              "        ...,\n",
              "        [-0.0064, -0.0138, -0.0133,  ..., -0.0205, -0.0312,  0.0161],\n",
              "        [ 0.0131,  0.0127, -0.0273,  ...,  0.0140, -0.0335, -0.0295],\n",
              "        [ 0.0213, -0.0146, -0.0260,  ..., -0.0235,  0.0335, -0.0196]],\n",
              "       requires_grad=True)"
            ]
          },
          "execution_count": 80,
          "metadata": {
            "tags": []
          },
          "output_type": "execute_result"
        }
      ],
      "source": [
        "print(model[0])\n",
        "model[0].weight"
      ]
    },
    {
      "cell_type": "markdown",
      "metadata": {
        "id": "5cl3XcYWSm-H"
      },
      "source": [
        "## nn.Sequential with OrderedDict"
      ]
    },
    {
      "cell_type": "markdown",
      "metadata": {
        "id": "0jLR8vOZQwMR"
      },
      "source": [
        "You can also pass in an OrderedDict to name the individual layers and operations, instead of using incremental integers. Note that dictionary keys must be unique, so each operation must have a different name."
      ]
    },
    {
      "cell_type": "code",
      "execution_count": null,
      "metadata": {
        "colab": {
          "base_uri": "https://localhost:8080/",
          "height": 153
        },
        "id": "C-BxTVvRQzau",
        "outputId": "59647cf4-6fd2-491e-a4d0-0530d27b474e"
      },
      "outputs": [
        {
          "data": {
            "text/plain": [
              "Sequential(\n",
              "  (fc1): Linear(in_features=784, out_features=128, bias=True)\n",
              "  (relu1): ReLU()\n",
              "  (fc2): Linear(in_features=128, out_features=64, bias=True)\n",
              "  (relu2): ReLU()\n",
              "  (output): Linear(in_features=64, out_features=10, bias=True)\n",
              "  (softmax): Softmax(dim=1)\n",
              ")"
            ]
          },
          "execution_count": 81,
          "metadata": {
            "tags": []
          },
          "output_type": "execute_result"
        }
      ],
      "source": [
        "from collections import OrderedDict\n",
        "model = nn.Sequential(OrderedDict([\n",
        "                      ('fc1', nn.Linear(input_size, hidden_sizes[0])),\n",
        "                      ('relu1', nn.ReLU()),\n",
        "                      ('fc2', nn.Linear(hidden_sizes[0], hidden_sizes[1])),\n",
        "                      ('relu2', nn.ReLU()),\n",
        "                      ('output', nn.Linear(hidden_sizes[1], output_size)),\n",
        "                      ('softmax', nn.Softmax(dim=1))]))\n",
        "model"
      ]
    },
    {
      "cell_type": "markdown",
      "metadata": {
        "id": "PT967o7DQ10C"
      },
      "source": [
        "Now you can access layers either by integer or the name"
      ]
    },
    {
      "cell_type": "code",
      "execution_count": null,
      "metadata": {
        "colab": {
          "base_uri": "https://localhost:8080/",
          "height": 51
        },
        "id": "7OuEUDnXQ3Lz",
        "outputId": "33d2555a-a738-4362-af81-03d87b685f19"
      },
      "outputs": [
        {
          "name": "stdout",
          "output_type": "stream",
          "text": [
            "Linear(in_features=784, out_features=128, bias=True)\n",
            "Linear(in_features=784, out_features=128, bias=True)\n"
          ]
        }
      ],
      "source": [
        "print(model[0])\n",
        "print(model.fc1)"
      ]
    },
    {
      "cell_type": "markdown",
      "metadata": {
        "id": "aI1N25R3Q9GD"
      },
      "source": [
        "## Training Neural Networks via nn.NLLLoss"
      ]
    },
    {
      "cell_type": "markdown",
      "metadata": {
        "id": "2BVKHqbfRlzV"
      },
      "source": [
        "Training the network!"
      ]
    },
    {
      "cell_type": "markdown",
      "metadata": {
        "id": "FUCzeZXyT5So"
      },
      "source": [
        "it's more convenient to build the model with a log-softmax output using nn.LogSoftmax or F.log_softmax (documentation). Then you can get the actual probabilites by taking the exponential torch.exp(output). With a log-softmax output, you want to use the negative log likelihood loss, nn.NLLLoss (documentation)."
      ]
    },
    {
      "cell_type": "code",
      "execution_count": null,
      "metadata": {
        "colab": {
          "base_uri": "https://localhost:8080/",
          "height": 102
        },
        "id": "z3B9mMGJRnli",
        "outputId": "551d5468-aadb-41f9-9116-2769fe05ec8d"
      },
      "outputs": [
        {
          "name": "stdout",
          "output_type": "stream",
          "text": [
            "Training loss: 1.91916799659668\n",
            "Training loss: 0.8666147714230552\n",
            "Training loss: 0.5323591251363123\n",
            "Training loss: 0.4345304797421386\n",
            "Training loss: 0.3882274371283903\n"
          ]
        }
      ],
      "source": [
        "from torch import optim\n",
        "\n",
        "model = nn.Sequential(nn.Linear(784, 128),\n",
        "                      nn.ReLU(),\n",
        "                      nn.Linear(128, 64),\n",
        "                      nn.ReLU(),\n",
        "                      nn.Linear(64, 10),\n",
        "                      nn.LogSoftmax(dim=1))\n",
        "\n",
        "criterion = nn.NLLLoss()\n",
        "optimizer = optim.SGD(model.parameters(), lr=0.003)\n",
        "\n",
        "epochs = 5\n",
        "for e in range(epochs):\n",
        "    running_loss = 0\n",
        "    for images, labels in trainloader:\n",
        "        # Flatten MNIST images into a 784 long vector\n",
        "        images = images.view(images.shape[0], -1)\n",
        "\n",
        "        # Training pass\n",
        "        optimizer.zero_grad()\n",
        "\n",
        "        output = model(images)\n",
        "        loss = criterion(output, labels)\n",
        "        loss.backward()\n",
        "        optimizer.step()\n",
        "\n",
        "        running_loss += loss.item()\n",
        "    else:\n",
        "        print(f\"Training loss: {running_loss/len(trainloader)}\")"
      ]
    },
    {
      "cell_type": "code",
      "execution_count": null,
      "metadata": {
        "colab": {
          "base_uri": "https://localhost:8080/",
          "height": 252
        },
        "id": "wNJPPjg1S3yB",
        "outputId": "309a62c0-ed29-40f2-cdde-4202df712282"
      },
      "outputs": [
        {
          "data": {
            "image/png": "[encoded data removed]",
            "text/plain": [
              "<Figure size 432x648 with 2 Axes>"
            ]
          },
          "metadata": {
            "image/png": {
              "height": 235,
              "width": 424
            },
            "tags": []
          },
          "output_type": "display_data"
        }
      ],
      "source": [
        "%matplotlib inline\n",
        "import helper\n",
        "\n",
        "images, labels = next(iter(trainloader))\n",
        "\n",
        "img = images[0].view(1, 784)\n",
        "# Turn off gradients to speed up this part\n",
        "with torch.no_grad():\n",
        "    logps = model(img)\n",
        "\n",
        "# Output of the network are log-probabilities, need to take exponential for probabilities\n",
        "ps = torch.exp(logps)\n",
        "view_classify(img.view(1, 28, 28), ps)"
      ]
    },
    {
      "cell_type": "markdown",
      "metadata": {
        "id": "-pF3ytvoTv5_"
      },
      "source": [
        "## MNIST with L1 norm"
      ]
    },
    {
      "cell_type": "code",
      "execution_count": null,
      "metadata": {
        "id": "G1zHndErT3Sm"
      },
      "outputs": [],
      "source": [
        "import os\n",
        "import torch\n",
        "from torch import nn\n",
        "from torchvision.datasets import MNIST\n",
        "from torch.utils.data import DataLoader\n",
        "from torchvision import transforms"
      ]
    },
    {
      "cell_type": "code",
      "execution_count": null,
      "metadata": {
        "colab": {
          "base_uri": "https://localhost:8080/"
        },
        "id": "yl7XvmEzTyAv",
        "outputId": "2abcc9e4-6210-4a74-e9e4-0ab4cdb11bac"
      },
      "outputs": [
        {
          "name": "stdout",
          "output_type": "stream",
          "text": [
            "Downloading http://yann.lecun.com/exdb/mnist/train-images-idx3-ubyte.gz\n",
            "Downloading http://yann.lecun.com/exdb/mnist/train-images-idx3-ubyte.gz to /content/MNIST/raw/train-images-idx3-ubyte.gz\n"
          ]
        },
        {
          "name": "stderr",
          "output_type": "stream",
          "text": [
            "100%|██████████| 9912422/9912422 [00:00<00:00, 158307674.20it/s]"
          ]
        },
        {
          "name": "stdout",
          "output_type": "stream",
          "text": [
            "Extracting /content/MNIST/raw/train-images-idx3-ubyte.gz to /content/MNIST/raw\n"
          ]
        },
        {
          "name": "stderr",
          "output_type": "stream",
          "text": [
            "\n"
          ]
        },
        {
          "name": "stdout",
          "output_type": "stream",
          "text": [
            "\n",
            "Downloading http://yann.lecun.com/exdb/mnist/train-labels-idx1-ubyte.gz\n",
            "Downloading http://yann.lecun.com/exdb/mnist/train-labels-idx1-ubyte.gz to /content/MNIST/raw/train-labels-idx1-ubyte.gz\n"
          ]
        },
        {
          "name": "stderr",
          "output_type": "stream",
          "text": [
            "100%|██████████| 28881/28881 [00:00<00:00, 41399758.65it/s]\n"
          ]
        },
        {
          "name": "stdout",
          "output_type": "stream",
          "text": [
            "Extracting /content/MNIST/raw/train-labels-idx1-ubyte.gz to /content/MNIST/raw\n",
            "\n",
            "Downloading http://yann.lecun.com/exdb/mnist/t10k-images-idx3-ubyte.gz\n",
            "Downloading http://yann.lecun.com/exdb/mnist/t10k-images-idx3-ubyte.gz to /content/MNIST/raw/t10k-images-idx3-ubyte.gz\n"
          ]
        },
        {
          "name": "stderr",
          "output_type": "stream",
          "text": [
            "100%|██████████| 1648877/1648877 [00:00<00:00, 58524438.29it/s]"
          ]
        },
        {
          "name": "stdout",
          "output_type": "stream",
          "text": [
            "Extracting /content/MNIST/raw/t10k-images-idx3-ubyte.gz to /content/MNIST/raw\n"
          ]
        },
        {
          "name": "stderr",
          "output_type": "stream",
          "text": [
            "\n"
          ]
        },
        {
          "name": "stdout",
          "output_type": "stream",
          "text": [
            "\n",
            "Downloading http://yann.lecun.com/exdb/mnist/t10k-labels-idx1-ubyte.gz\n",
            "Downloading http://yann.lecun.com/exdb/mnist/t10k-labels-idx1-ubyte.gz to /content/MNIST/raw/t10k-labels-idx1-ubyte.gz\n"
          ]
        },
        {
          "name": "stderr",
          "output_type": "stream",
          "text": [
            "100%|██████████| 4542/4542 [00:00<00:00, 3374761.52it/s]\n"
          ]
        },
        {
          "name": "stdout",
          "output_type": "stream",
          "text": [
            "Extracting /content/MNIST/raw/t10k-labels-idx1-ubyte.gz to /content/MNIST/raw\n",
            "\n"
          ]
        }
      ],
      "source": [
        "# Set fixed random number seed\n",
        "torch.manual_seed(42)\n",
        "\n",
        "# Prepare CIFAR-10 dataset\n",
        "dataset = MNIST(os.getcwd(), download=True, transform=transforms.ToTensor())\n",
        "trainloader = torch.utils.data.DataLoader(dataset, batch_size=10, shuffle=True, num_workers=1)"
      ]
    },
    {
      "cell_type": "code",
      "execution_count": null,
      "metadata": {
        "id": "K0wx7MwOUEEa"
      },
      "outputs": [],
      "source": [
        "class MLP(nn.Module):\n",
        "  '''\n",
        "    Multilayer Perceptron.\n",
        "  '''\n",
        "  def __init__(self):\n",
        "    super().__init__()\n",
        "    self.layers = nn.Sequential(\n",
        "      nn.Flatten(),\n",
        "      nn.Linear(28 * 28 * 1, 64),\n",
        "      nn.ReLU(),\n",
        "      nn.Linear(64, 32),\n",
        "      nn.ReLU(),\n",
        "      nn.Linear(32, 10)\n",
        "    )\n",
        "\n",
        "\n",
        "  def forward(self, x):\n",
        "    '''Forward pass'''\n",
        "    return self.layers(x)\n",
        "\n",
        "  def compute_l1_loss(self, w):\n",
        "      return torch.abs(w).sum()"
      ]
    },
    {
      "cell_type": "code",
      "execution_count": null,
      "metadata": {
        "id": "u9rRBAjjUH-M"
      },
      "outputs": [],
      "source": [
        "# Initialize the MLP\n",
        "mlp = MLP()\n",
        "\n",
        "# Define the loss function and optimizer\n",
        "#loss_function = nn.CrossEntropyLoss()\n",
        "#optimizer = torch.optim.Adam(mlp.parameters(), lr=1e-3) #lr=1e-4\n",
        "#optimizer = optim.SGD(model.parameters(), lr=0.003)\n",
        "\n",
        "loss_function = nn.NLLLoss() #nn.CrossEntropyLoss()\n",
        "optimizer = optim.SGD(mlp.parameters(), lr=0.003)"
      ]
    },
    {
      "cell_type": "code",
      "execution_count": null,
      "metadata": {
        "colab": {
          "base_uri": "https://localhost:8080/"
        },
        "id": "C8wpMNQUUQJE",
        "outputId": "1a61d24b-4948-4674-c8db-d4b1fe899402"
      },
      "outputs": [
        {
          "name": "stdout",
          "output_type": "stream",
          "text": [
            "Starting epoch 1\n",
            "Loss after mini-batch   500: 0.89534 (of which 0.91890 L1 loss)\n",
            "Loss after mini-batch  1000: 0.79132 (of which 0.85138 L1 loss)\n",
            "Loss after mini-batch  1500: 0.78278 (of which 0.85333 L1 loss)\n",
            "Loss after mini-batch  2000: 0.76488 (of which 0.85443 L1 loss)\n",
            "Loss after mini-batch  2500: 0.76180 (of which 0.85543 L1 loss)\n",
            "Loss after mini-batch  3000: 0.78230 (of which 0.85660 L1 loss)\n",
            "Loss after mini-batch  3500: 0.77853 (of which 0.85785 L1 loss)\n",
            "Loss after mini-batch  4000: 0.75869 (of which 0.85816 L1 loss)\n",
            "Loss after mini-batch  4500: 0.82480 (of which 0.85936 L1 loss)\n",
            "Loss after mini-batch  5000: 0.80073 (of which 0.86069 L1 loss)\n",
            "Loss after mini-batch  5500: 0.77297 (of which 0.86392 L1 loss)\n",
            "Loss after mini-batch  6000: 0.76496 (of which 0.86530 L1 loss)\n",
            "Starting epoch 2\n",
            "Loss after mini-batch   500: 0.80290 (of which 0.86718 L1 loss)\n",
            "Loss after mini-batch  1000: 0.75021 (of which 0.86947 L1 loss)\n",
            "Loss after mini-batch  1500: 0.73842 (of which 0.87238 L1 loss)\n",
            "Loss after mini-batch  2000: 0.77199 (of which 0.87497 L1 loss)\n",
            "Loss after mini-batch  2500: 0.78227 (of which 0.87757 L1 loss)\n",
            "Loss after mini-batch  3000: 0.78909 (of which 0.87957 L1 loss)\n",
            "Loss after mini-batch  3500: 0.77931 (of which 0.88269 L1 loss)\n",
            "Loss after mini-batch  4000: 0.70826 (of which 0.88444 L1 loss)\n",
            "Loss after mini-batch  4500: 0.75349 (of which 0.88590 L1 loss)\n",
            "Loss after mini-batch  5000: 0.83172 (of which 0.88822 L1 loss)\n",
            "Loss after mini-batch  5500: 0.81958 (of which 0.89125 L1 loss)\n",
            "Loss after mini-batch  6000: 0.72161 (of which 0.89445 L1 loss)\n",
            "Starting epoch 3\n",
            "Loss after mini-batch   500: 0.82348 (of which 0.89693 L1 loss)\n",
            "Loss after mini-batch  1000: 0.72175 (of which 0.89934 L1 loss)\n",
            "Loss after mini-batch  1500: 0.75920 (of which 0.90228 L1 loss)\n",
            "Loss after mini-batch  2000: 0.85397 (of which 0.90392 L1 loss)\n",
            "Loss after mini-batch  2500: 0.84270 (of which 0.90532 L1 loss)\n",
            "Loss after mini-batch  3000: 0.76924 (of which 0.90718 L1 loss)\n",
            "Loss after mini-batch  3500: 0.81098 (of which 0.91035 L1 loss)\n",
            "Loss after mini-batch  4000: 0.80262 (of which 0.91274 L1 loss)\n",
            "Loss after mini-batch  4500: 0.81656 (of which 0.91556 L1 loss)\n",
            "Loss after mini-batch  5000: 0.73589 (of which 0.91964 L1 loss)\n",
            "Loss after mini-batch  5500: 0.89981 (of which 0.92223 L1 loss)\n",
            "Loss after mini-batch  6000: 0.87121 (of which 0.92500 L1 loss)\n",
            "Starting epoch 4\n",
            "Loss after mini-batch   500: 0.71782 (of which 0.92703 L1 loss)\n",
            "Loss after mini-batch  1000: 0.80789 (of which 0.92926 L1 loss)\n",
            "Loss after mini-batch  1500: 0.77687 (of which 0.93287 L1 loss)\n",
            "Loss after mini-batch  2000: 0.81731 (of which 0.93587 L1 loss)\n",
            "Loss after mini-batch  2500: 0.85529 (of which 0.93876 L1 loss)\n",
            "Loss after mini-batch  3000: 0.69475 (of which 0.94194 L1 loss)\n",
            "Loss after mini-batch  3500: 0.72821 (of which 0.94440 L1 loss)\n",
            "Loss after mini-batch  4000: 0.90623 (of which 0.94604 L1 loss)\n",
            "Loss after mini-batch  4500: 0.74034 (of which 0.94743 L1 loss)\n",
            "Loss after mini-batch  5000: 0.79906 (of which 0.95068 L1 loss)\n",
            "Loss after mini-batch  5500: 0.51570 (of which 0.95435 L1 loss)\n",
            "Loss after mini-batch  6000: 0.90734 (of which 0.95771 L1 loss)\n",
            "Starting epoch 5\n",
            "Loss after mini-batch   500: 0.84283 (of which 0.96185 L1 loss)\n",
            "Loss after mini-batch  1000: 0.86331 (of which 0.96461 L1 loss)\n",
            "Loss after mini-batch  1500: 0.78513 (of which 0.96654 L1 loss)\n",
            "Loss after mini-batch  2000: 0.89947 (of which 0.96923 L1 loss)\n",
            "Loss after mini-batch  2500: 0.70580 (of which 0.97115 L1 loss)\n",
            "Loss after mini-batch  3000: 0.91668 (of which 0.97362 L1 loss)\n",
            "Loss after mini-batch  3500: 0.82416 (of which 0.97772 L1 loss)\n",
            "Loss after mini-batch  4000: 0.69839 (of which 0.98055 L1 loss)\n",
            "Loss after mini-batch  4500: 0.78368 (of which 0.98260 L1 loss)\n",
            "Loss after mini-batch  5000: 0.63840 (of which 0.98470 L1 loss)\n",
            "Loss after mini-batch  5500: 0.75028 (of which 0.98733 L1 loss)\n",
            "Loss after mini-batch  6000: 0.95719 (of which 0.98985 L1 loss)\n",
            "Training process has finished.\n"
          ]
        }
      ],
      "source": [
        "# Run the training loop\n",
        "for epoch in range(0, 5): # 5 epochs at maximum\n",
        "\n",
        "  # Print epoch\n",
        "  print(f'Starting epoch {epoch+1}')\n",
        "\n",
        "  # Iterate over the DataLoader for training data\n",
        "  for i, data in enumerate(trainloader, 0):\n",
        "\n",
        "    # Get inputs\n",
        "    inputs, targets = data\n",
        "\n",
        "    # Zero the gradients\n",
        "    optimizer.zero_grad()\n",
        "\n",
        "    # Perform forward pass\n",
        "    outputs = mlp(inputs)\n",
        "\n",
        "    # Compute loss\n",
        "    loss = loss_function(outputs, targets)\n",
        "\n",
        "    # Compute L1 loss component\n",
        "    l1_weight = 0.1 #1.0\n",
        "    l1_parameters = []\n",
        "    for parameter in mlp.parameters():\n",
        "        l1_parameters.append(parameter.view(-1))\n",
        "    l1 = l1_weight * mlp.compute_l1_loss(torch.cat(l1_parameters))\n",
        "\n",
        "    # Add L1 loss component\n",
        "    loss += l1\n",
        "\n",
        "    # Perform backward pass\n",
        "    loss.backward()\n",
        "\n",
        "    # Perform optimization\n",
        "    optimizer.step()\n",
        "\n",
        "    # Print statistics\n",
        "    minibatch_loss = loss.item()\n",
        "    if i % 500 == 499:\n",
        "        print('Loss after mini-batch %5d: %.5f (of which %.5f L1 loss)' %\n",
        "              (i + 1, minibatch_loss, l1))\n",
        "        current_loss = 0.0\n",
        "\n",
        "# Process is complete.\n",
        "print('Training process has finished.')"
      ]
    },
    {
      "cell_type": "markdown",
      "metadata": {
        "id": "1fnh56jhcILH"
      },
      "source": [
        "## MNIST with L2 norm"
      ]
    },
    {
      "cell_type": "code",
      "execution_count": null,
      "metadata": {
        "id": "pnq9nGZxcKNU"
      },
      "outputs": [],
      "source": [
        "class MLP(nn.Module):\n",
        "  '''\n",
        "    Multilayer Perceptron.\n",
        "  '''\n",
        "  def __init__(self):\n",
        "    super().__init__()\n",
        "    self.layers = nn.Sequential(\n",
        "      nn.Flatten(),\n",
        "      nn.Linear(28 * 28 * 1, 64),\n",
        "      nn.ReLU(),\n",
        "      nn.Linear(64, 32),\n",
        "      nn.ReLU(),\n",
        "      nn.Linear(32, 10)\n",
        "    )\n",
        "\n",
        "\n",
        "  def forward(self, x):\n",
        "    '''Forward pass'''\n",
        "    return self.layers(x)\n",
        "\n",
        "  def compute_l2_loss(self, w):\n",
        "      return torch.square(w).sum()"
      ]
    },
    {
      "cell_type": "code",
      "execution_count": null,
      "metadata": {
        "id": "mmErnavkcRvf"
      },
      "outputs": [],
      "source": [
        "# Initialize the MLP\n",
        "mlp2 = MLP()\n",
        "\n",
        "# Define the loss function and optimizer\n",
        "loss_function = nn.CrossEntropyLoss()\n",
        "optimizer = torch.optim.Adam(mlp.parameters(), lr=1e-4)"
      ]
    },
    {
      "cell_type": "code",
      "execution_count": null,
      "metadata": {
        "colab": {
          "base_uri": "https://localhost:8080/"
        },
        "id": "x8PZGdx6cX9M",
        "outputId": "9616a4f8-f61c-4666-8775-094867cccf3f"
      },
      "outputs": [
        {
          "name": "stdout",
          "output_type": "stream",
          "text": [
            "Starting epoch 1\n",
            "Loss after mini-batch   500: 2.28985 (of which 0.00000 l2 loss)\n",
            "Loss after mini-batch  1000: 2.33224 (of which 0.00000 l2 loss)\n",
            "Loss after mini-batch  1500: 2.29291 (of which 0.00000 l2 loss)\n",
            "Loss after mini-batch  2000: 2.35104 (of which 0.00000 l2 loss)\n",
            "Loss after mini-batch  2500: 2.40571 (of which 0.00000 l2 loss)\n",
            "Loss after mini-batch  3000: 2.32717 (of which 0.00000 l2 loss)\n",
            "Loss after mini-batch  3500: 2.34617 (of which 0.00000 l2 loss)\n",
            "Loss after mini-batch  4000: 2.35007 (of which 0.00000 l2 loss)\n",
            "Loss after mini-batch  4500: 2.26785 (of which 0.00000 l2 loss)\n",
            "Loss after mini-batch  5000: 2.27904 (of which 0.00000 l2 loss)\n",
            "Loss after mini-batch  5500: 2.28733 (of which 0.00000 l2 loss)\n",
            "Loss after mini-batch  6000: 2.34296 (of which 0.00000 l2 loss)\n",
            "Starting epoch 2\n",
            "Loss after mini-batch   500: 2.32021 (of which 0.00000 l2 loss)\n",
            "Loss after mini-batch  1000: 2.25215 (of which 0.00000 l2 loss)\n",
            "Loss after mini-batch  1500: 2.26117 (of which 0.00000 l2 loss)\n",
            "Loss after mini-batch  2000: 2.33205 (of which 0.00000 l2 loss)\n",
            "Loss after mini-batch  2500: 2.30601 (of which 0.00000 l2 loss)\n",
            "Loss after mini-batch  3000: 2.28638 (of which 0.00000 l2 loss)\n",
            "Loss after mini-batch  3500: 2.28610 (of which 0.00000 l2 loss)\n",
            "Loss after mini-batch  4000: 2.27601 (of which 0.00000 l2 loss)\n",
            "Loss after mini-batch  4500: 2.34327 (of which 0.00000 l2 loss)\n",
            "Loss after mini-batch  5000: 2.31752 (of which 0.00000 l2 loss)\n",
            "Loss after mini-batch  5500: 2.30984 (of which 0.00000 l2 loss)\n",
            "Loss after mini-batch  6000: 2.39672 (of which 0.00000 l2 loss)\n",
            "Starting epoch 3\n",
            "Loss after mini-batch   500: 2.31689 (of which 0.00000 l2 loss)\n",
            "Loss after mini-batch  1000: 2.30470 (of which 0.00000 l2 loss)\n",
            "Loss after mini-batch  1500: 2.30414 (of which 0.00000 l2 loss)\n",
            "Loss after mini-batch  2000: 2.31271 (of which 0.00000 l2 loss)\n",
            "Loss after mini-batch  2500: 2.27290 (of which 0.00000 l2 loss)\n",
            "Loss after mini-batch  3000: 2.28910 (of which 0.00000 l2 loss)\n",
            "Loss after mini-batch  3500: 2.25034 (of which 0.00000 l2 loss)\n",
            "Loss after mini-batch  4000: 2.25874 (of which 0.00000 l2 loss)\n",
            "Loss after mini-batch  4500: 2.36190 (of which 0.00000 l2 loss)\n",
            "Loss after mini-batch  5000: 2.27021 (of which 0.00000 l2 loss)\n",
            "Loss after mini-batch  5500: 2.29700 (of which 0.00000 l2 loss)\n",
            "Loss after mini-batch  6000: 2.39115 (of which 0.00000 l2 loss)\n",
            "Starting epoch 4\n",
            "Loss after mini-batch   500: 2.34794 (of which 0.00000 l2 loss)\n",
            "Loss after mini-batch  1000: 2.31431 (of which 0.00000 l2 loss)\n",
            "Loss after mini-batch  1500: 2.28480 (of which 0.00000 l2 loss)\n",
            "Loss after mini-batch  2000: 2.26846 (of which 0.00000 l2 loss)\n",
            "Loss after mini-batch  2500: 2.33563 (of which 0.00000 l2 loss)\n",
            "Loss after mini-batch  3000: 2.31080 (of which 0.00000 l2 loss)\n",
            "Loss after mini-batch  3500: 2.28333 (of which 0.00000 l2 loss)\n",
            "Loss after mini-batch  4000: 2.29260 (of which 0.00000 l2 loss)\n",
            "Loss after mini-batch  4500: 2.32124 (of which 0.00000 l2 loss)\n",
            "Loss after mini-batch  5000: 2.31609 (of which 0.00000 l2 loss)\n",
            "Loss after mini-batch  5500: 2.34066 (of which 0.00000 l2 loss)\n",
            "Loss after mini-batch  6000: 2.26887 (of which 0.00000 l2 loss)\n",
            "Starting epoch 5\n",
            "Loss after mini-batch   500: 2.29404 (of which 0.00000 l2 loss)\n",
            "Loss after mini-batch  1000: 2.31633 (of which 0.00000 l2 loss)\n",
            "Loss after mini-batch  1500: 2.34334 (of which 0.00000 l2 loss)\n",
            "Loss after mini-batch  2000: 2.32537 (of which 0.00000 l2 loss)\n",
            "Loss after mini-batch  2500: 2.36943 (of which 0.00000 l2 loss)\n",
            "Loss after mini-batch  3000: 2.34235 (of which 0.00000 l2 loss)\n",
            "Loss after mini-batch  3500: 2.36184 (of which 0.00000 l2 loss)\n",
            "Loss after mini-batch  4000: 2.31933 (of which 0.00000 l2 loss)\n",
            "Loss after mini-batch  4500: 2.34067 (of which 0.00000 l2 loss)\n",
            "Loss after mini-batch  5000: 2.32128 (of which 0.00000 l2 loss)\n",
            "Loss after mini-batch  5500: 2.31978 (of which 0.00000 l2 loss)\n",
            "Loss after mini-batch  6000: 2.37059 (of which 0.00000 l2 loss)\n",
            "Training process has finished.\n"
          ]
        }
      ],
      "source": [
        "# Run the training loop\n",
        "for epoch in range(0, 5): # 5 epochs at maximum\n",
        "\n",
        "  # Print epoch\n",
        "  print(f'Starting epoch {epoch+1}')\n",
        "\n",
        "  # Iterate over the DataLoader for training data\n",
        "  for i, data in enumerate(trainloader, 0):\n",
        "\n",
        "    # Get inputs\n",
        "    inputs, targets = data\n",
        "\n",
        "    # Zero the gradients\n",
        "    optimizer.zero_grad()\n",
        "\n",
        "    # Perform forward pass\n",
        "    outputs = mlp2(inputs)\n",
        "\n",
        "    # Compute loss\n",
        "    loss = loss_function(outputs, targets)\n",
        "\n",
        "    # Compute l2 loss component\n",
        "    l2_weight = 1.0\n",
        "    l2_parameters = []\n",
        "    for parameter in mlp.parameters():\n",
        "        l2_parameters.append(parameter.view(-1))\n",
        "    l2 = l2_weight * mlp2.compute_l2_loss(torch.cat(l2_parameters))\n",
        "\n",
        "    # Add l2 loss component\n",
        "    loss += l2\n",
        "\n",
        "    # Perform backward pass\n",
        "    loss.backward()\n",
        "\n",
        "    # Perform optimization\n",
        "    optimizer.step()\n",
        "\n",
        "    # Print statistics\n",
        "    minibatch_loss = loss.item()\n",
        "    if i % 500 == 499:\n",
        "        print('Loss after mini-batch %5d: %.5f (of which %.5f l2 loss)' %\n",
        "              (i + 1, minibatch_loss, l2))\n",
        "        current_loss = 0.0\n",
        "\n",
        "# Process is complete.\n",
        "print('Training process has finished.')"
      ]
    },
    {
      "cell_type": "markdown",
      "metadata": {
        "id": "7KdA5u6GdZcz"
      },
      "source": [
        "## Elastic Net (L1+L2) Regularization with PyTorch"
      ]
    },
    {
      "cell_type": "code",
      "execution_count": null,
      "metadata": {
        "id": "B4fcXOqPdasa"
      },
      "outputs": [],
      "source": [
        "class MLP(nn.Module):\n",
        "  '''\n",
        "    Multilayer Perceptron.\n",
        "  '''\n",
        "  def __init__(self):\n",
        "    super().__init__()\n",
        "    self.layers = nn.Sequential(\n",
        "      nn.Flatten(),\n",
        "      nn.Linear(28 * 28 * 1, 64),\n",
        "      nn.ReLU(),\n",
        "      nn.Linear(64, 32),\n",
        "      nn.ReLU(),\n",
        "      nn.Linear(32, 10)\n",
        "    )\n",
        "\n",
        "\n",
        "  def forward(self, x):\n",
        "    '''Forward pass'''\n",
        "    return self.layers(x)\n",
        "\n",
        "  def compute_l1_loss(self, w):\n",
        "      return torch.abs(w).sum()\n",
        "\n",
        "  def compute_l2_loss(self, w):\n",
        "      return torch.square(w).sum()"
      ]
    },
    {
      "cell_type": "code",
      "execution_count": null,
      "metadata": {
        "id": "2zVpBywcdmk_"
      },
      "outputs": [],
      "source": [
        "# Initialize the MLP\n",
        "mlp = MLP()\n",
        "\n",
        "# Define the loss function and optimizer\n",
        "loss_function = nn.CrossEntropyLoss()\n",
        "optimizer = torch.optim.Adam(mlp.parameters(), lr=1e-4)"
      ]
    },
    {
      "cell_type": "code",
      "execution_count": null,
      "metadata": {
        "colab": {
          "base_uri": "https://localhost:8080/"
        },
        "id": "fs3tRjG8dp-2",
        "outputId": "bc2187d5-e104-40ed-e2f7-63e981f60132"
      },
      "outputs": [
        {
          "name": "stdout",
          "output_type": "stream",
          "text": [
            "Starting epoch 1\n",
            "Loss after mini-batch   500: 24.79208 (of which 19.76384 L1 loss; 2.71377 L2 loss)\n",
            "Loss after mini-batch  1000: 7.45958 (of which 4.76212 L1 loss; 0.38665 L2 loss)\n",
            "Loss after mini-batch  1500: 2.98764 (of which 0.65812 L1 loss; 0.02930 L2 loss)\n",
            "Loss after mini-batch  2000: 2.48230 (of which 0.17971 L1 loss; 0.00001 L2 loss)\n",
            "Loss after mini-batch  2500: 2.48037 (of which 0.17778 L1 loss; 0.00001 L2 loss)\n",
            "Loss after mini-batch  3000: 2.47990 (of which 0.17730 L1 loss; 0.00001 L2 loss)\n",
            "Loss after mini-batch  3500: 2.47955 (of which 0.17696 L1 loss; 0.00001 L2 loss)\n",
            "Loss after mini-batch  4000: 2.47973 (of which 0.17713 L1 loss; 0.00001 L2 loss)\n",
            "Loss after mini-batch  4500: 2.47883 (of which 0.17624 L1 loss; 0.00001 L2 loss)\n",
            "Loss after mini-batch  5000: 2.47921 (of which 0.17663 L1 loss; 0.00001 L2 loss)\n",
            "Loss after mini-batch  5500: 2.48054 (of which 0.17796 L1 loss; 0.00001 L2 loss)\n",
            "Loss after mini-batch  6000: 2.48066 (of which 0.17808 L1 loss; 0.00001 L2 loss)\n",
            "Starting epoch 2\n",
            "Loss after mini-batch   500: 2.48047 (of which 0.17788 L1 loss; 0.00001 L2 loss)\n",
            "Loss after mini-batch  1000: 2.48027 (of which 0.17768 L1 loss; 0.00001 L2 loss)\n",
            "Loss after mini-batch  1500: 2.48057 (of which 0.17797 L1 loss; 0.00001 L2 loss)\n",
            "Loss after mini-batch  2000: 2.48184 (of which 0.17925 L1 loss; 0.00001 L2 loss)\n",
            "Loss after mini-batch  2500: 2.48275 (of which 0.18016 L1 loss; 0.00001 L2 loss)\n",
            "Loss after mini-batch  3000: 2.48287 (of which 0.18029 L1 loss; 0.00001 L2 loss)\n",
            "Loss after mini-batch  3500: 2.48428 (of which 0.18169 L1 loss; 0.00001 L2 loss)\n",
            "Loss after mini-batch  4000: 2.48569 (of which 0.18310 L1 loss; 0.00001 L2 loss)\n",
            "Loss after mini-batch  4500: 2.48625 (of which 0.18365 L1 loss; 0.00001 L2 loss)\n",
            "Loss after mini-batch  5000: 2.48743 (of which 0.18484 L1 loss; 0.00001 L2 loss)\n",
            "Loss after mini-batch  5500: 2.48711 (of which 0.18451 L1 loss; 0.00001 L2 loss)\n",
            "Loss after mini-batch  6000: 2.48683 (of which 0.18424 L1 loss; 0.00001 L2 loss)\n",
            "Starting epoch 3\n",
            "Loss after mini-batch   500: 2.48787 (of which 0.18528 L1 loss; 0.00001 L2 loss)\n",
            "Loss after mini-batch  1000: 2.48779 (of which 0.18520 L1 loss; 0.00001 L2 loss)\n",
            "Loss after mini-batch  1500: 2.48710 (of which 0.18449 L1 loss; 0.00001 L2 loss)\n",
            "Loss after mini-batch  2000: 2.48744 (of which 0.18485 L1 loss; 0.00001 L2 loss)\n",
            "Loss after mini-batch  2500: 2.48799 (of which 0.18541 L1 loss; 0.00001 L2 loss)\n",
            "Loss after mini-batch  3000: 2.48777 (of which 0.18517 L1 loss; 0.00001 L2 loss)\n",
            "Loss after mini-batch  3500: 2.48768 (of which 0.18509 L1 loss; 0.00001 L2 loss)\n",
            "Loss after mini-batch  4000: 2.48720 (of which 0.18461 L1 loss; 0.00001 L2 loss)\n",
            "Loss after mini-batch  4500: 2.48697 (of which 0.18438 L1 loss; 0.00001 L2 loss)\n",
            "Loss after mini-batch  5000: 2.48784 (of which 0.18524 L1 loss; 0.00001 L2 loss)\n",
            "Loss after mini-batch  5500: 2.48795 (of which 0.18535 L1 loss; 0.00001 L2 loss)\n",
            "Loss after mini-batch  6000: 2.48758 (of which 0.18499 L1 loss; 0.00001 L2 loss)\n",
            "Starting epoch 4\n",
            "Loss after mini-batch   500: 2.48798 (of which 0.18538 L1 loss; 0.00001 L2 loss)\n",
            "Loss after mini-batch  1000: 2.48827 (of which 0.18566 L1 loss; 0.00001 L2 loss)\n",
            "Loss after mini-batch  1500: 2.48763 (of which 0.18503 L1 loss; 0.00001 L2 loss)\n",
            "Loss after mini-batch  2000: 2.48738 (of which 0.18479 L1 loss; 0.00001 L2 loss)\n",
            "Loss after mini-batch  2500: 2.48710 (of which 0.18451 L1 loss; 0.00001 L2 loss)\n",
            "Loss after mini-batch  3000: 2.48675 (of which 0.18415 L1 loss; 0.00001 L2 loss)\n",
            "Loss after mini-batch  3500: 2.48818 (of which 0.18559 L1 loss; 0.00001 L2 loss)\n",
            "Loss after mini-batch  4000: 2.48841 (of which 0.18582 L1 loss; 0.00001 L2 loss)\n",
            "Loss after mini-batch  4500: 2.48750 (of which 0.18492 L1 loss; 0.00001 L2 loss)\n",
            "Loss after mini-batch  5000: 2.48786 (of which 0.18527 L1 loss; 0.00001 L2 loss)\n",
            "Loss after mini-batch  5500: 2.48803 (of which 0.18543 L1 loss; 0.00001 L2 loss)\n",
            "Loss after mini-batch  6000: 2.48742 (of which 0.18482 L1 loss; 0.00001 L2 loss)\n",
            "Starting epoch 5\n",
            "Loss after mini-batch   500: 2.48741 (of which 0.18481 L1 loss; 0.00001 L2 loss)\n",
            "Loss after mini-batch  1000: 2.48731 (of which 0.18471 L1 loss; 0.00001 L2 loss)\n",
            "Loss after mini-batch  1500: 2.48698 (of which 0.18439 L1 loss; 0.00001 L2 loss)\n",
            "Loss after mini-batch  2000: 2.48835 (of which 0.18576 L1 loss; 0.00001 L2 loss)\n",
            "Loss after mini-batch  2500: 2.48813 (of which 0.18553 L1 loss; 0.00001 L2 loss)\n",
            "Loss after mini-batch  3000: 2.48722 (of which 0.18463 L1 loss; 0.00001 L2 loss)\n",
            "Loss after mini-batch  3500: 2.48784 (of which 0.18525 L1 loss; 0.00001 L2 loss)\n",
            "Loss after mini-batch  4000: 2.48790 (of which 0.18531 L1 loss; 0.00001 L2 loss)\n",
            "Loss after mini-batch  4500: 2.48763 (of which 0.18504 L1 loss; 0.00001 L2 loss)\n",
            "Loss after mini-batch  5000: 2.48771 (of which 0.18512 L1 loss; 0.00001 L2 loss)\n",
            "Loss after mini-batch  5500: 2.48731 (of which 0.18472 L1 loss; 0.00001 L2 loss)\n",
            "Loss after mini-batch  6000: 2.48710 (of which 0.18450 L1 loss; 0.00001 L2 loss)\n",
            "Training process has finished.\n"
          ]
        }
      ],
      "source": [
        "# Run the training loop\n",
        "for epoch in range(0, 5): # 5 epochs at maximum\n",
        "\n",
        "  # Print epoch\n",
        "  print(f'Starting epoch {epoch+1}')\n",
        "\n",
        "  # Iterate over the DataLoader for training data\n",
        "  for i, data in enumerate(trainloader, 0):\n",
        "\n",
        "    # Get inputs\n",
        "    inputs, targets = data\n",
        "\n",
        "    # Zero the gradients\n",
        "    optimizer.zero_grad()\n",
        "\n",
        "    # Perform forward pass\n",
        "    outputs = mlp(inputs)\n",
        "\n",
        "    # Compute loss\n",
        "    loss = loss_function(outputs, targets)\n",
        "\n",
        "    # Specify L1 and L2 weights\n",
        "    l1_weight = 0.3\n",
        "    l2_weight = 0.7\n",
        "\n",
        "    # Compute L1 and L2 loss component\n",
        "    parameters = []\n",
        "    for parameter in mlp.parameters():\n",
        "        parameters.append(parameter.view(-1))\n",
        "    l1 = l1_weight * mlp.compute_l1_loss(torch.cat(parameters))\n",
        "    l2 = l2_weight * mlp.compute_l2_loss(torch.cat(parameters))\n",
        "\n",
        "    # Add L1 and L2 loss components\n",
        "    loss += l1\n",
        "    loss += l2\n",
        "\n",
        "    # Perform backward pass\n",
        "    loss.backward()\n",
        "\n",
        "    # Perform optimization\n",
        "    optimizer.step()\n",
        "\n",
        "    # Print statistics\n",
        "    minibatch_loss = loss.item()\n",
        "    if i % 500 == 499:\n",
        "        print('Loss after mini-batch %5d: %.5f (of which %.5f L1 loss; %0.5f L2 loss)' %\n",
        "              (i + 1, minibatch_loss, l1, l2))\n",
        "        current_loss = 0.0\n",
        "\n",
        "# Process is complete.\n",
        "print('Training process has finished.')"
      ]
    },
    {
      "cell_type": "markdown",
      "metadata": {
        "id": "PeVXSjRwdJv5"
      },
      "source": [
        "## MNIST with NLLLoss and weight_decay"
      ]
    },
    {
      "cell_type": "code",
      "execution_count": null,
      "metadata": {
        "id": "O64ZNo2IfCxg"
      },
      "outputs": [],
      "source": [
        "class MLP(nn.Module):\n",
        "  '''\n",
        "    Multilayer Perceptron.\n",
        "  '''\n",
        "  def __init__(self):\n",
        "    super().__init__()\n",
        "    self.layers = nn.Sequential(\n",
        "      nn.Flatten(),\n",
        "      nn.Linear(28 * 28 * 1, 128),\n",
        "      nn.ReLU(),\n",
        "      nn.Linear(128, 64),\n",
        "      nn.ReLU(),\n",
        "      nn.Linear(64, 10),\n",
        "      nn.LogSoftmax(dim=1)\n",
        "    )\n",
        "\n",
        "  def forward(self, x):\n",
        "    '''Forward pass'''\n",
        "    return self.layers(x)"
      ]
    },
    {
      "cell_type": "code",
      "execution_count": null,
      "metadata": {
        "id": "WTlXstdgdLZ6"
      },
      "outputs": [],
      "source": [
        "# Initialize the MLP\n",
        "mlp = MLP()\n",
        "\n",
        "# Define the loss function and optimizer\n",
        "loss_function = nn.NLLLoss() #nn.CrossEntropyLoss()\n",
        "optimizer = optim.SGD(mlp.parameters(), lr=0.003, weight_decay=0.1)\n",
        "#optimizer = torch.optim.Adam(mlp.parameters(), lr=1e-4, weight_decay=1.0)\n"
      ]
    },
    {
      "cell_type": "code",
      "execution_count": null,
      "metadata": {
        "colab": {
          "base_uri": "https://localhost:8080/"
        },
        "id": "FbN7ffzcfdh_",
        "outputId": "8d9e9205-4033-4826-901e-a4fd8c39a9fe"
      },
      "outputs": [
        {
          "name": "stdout",
          "output_type": "stream",
          "text": [
            "Starting epoch 1\n",
            "Loss after mini-batch   500: 2.29625\n",
            "Loss after mini-batch  1000: 2.26610\n",
            "Loss after mini-batch  1500: 2.25018\n",
            "Loss after mini-batch  2000: 2.21213\n",
            "Loss after mini-batch  2500: 2.27765\n",
            "Loss after mini-batch  3000: 2.22091\n",
            "Loss after mini-batch  3500: 2.10362\n",
            "Loss after mini-batch  4000: 2.01979\n",
            "Loss after mini-batch  4500: 1.97962\n",
            "Loss after mini-batch  5000: 1.94818\n",
            "Loss after mini-batch  5500: 1.72742\n",
            "Loss after mini-batch  6000: 1.62884\n",
            "Training loss: 2.1073102538784343\n",
            "Starting epoch 2\n",
            "Loss after mini-batch   500: 1.58494\n",
            "Loss after mini-batch  1000: 1.54844\n",
            "Loss after mini-batch  1500: 1.47698\n",
            "Loss after mini-batch  2000: 1.68031\n",
            "Loss after mini-batch  2500: 1.26278\n",
            "Loss after mini-batch  3000: 1.69299\n",
            "Loss after mini-batch  3500: 1.57599\n",
            "Loss after mini-batch  4000: 1.33420\n",
            "Loss after mini-batch  4500: 1.34147\n",
            "Loss after mini-batch  5000: 0.88728\n",
            "Loss after mini-batch  5500: 1.09051\n",
            "Loss after mini-batch  6000: 1.24930\n",
            "Training loss: 1.3009029420117537\n",
            "Starting epoch 3\n",
            "Loss after mini-batch   500: 0.92717\n",
            "Loss after mini-batch  1000: 1.02074\n",
            "Loss after mini-batch  1500: 0.82795\n",
            "Loss after mini-batch  2000: 0.91176\n",
            "Loss after mini-batch  2500: 1.28605\n",
            "Loss after mini-batch  3000: 1.18358\n",
            "Loss after mini-batch  3500: 1.29021\n",
            "Loss after mini-batch  4000: 1.15309\n",
            "Loss after mini-batch  4500: 0.87906\n",
            "Loss after mini-batch  5000: 0.82815\n",
            "Loss after mini-batch  5500: 1.01584\n",
            "Loss after mini-batch  6000: 1.31254\n",
            "Training loss: 1.0302667961021263\n",
            "Starting epoch 4\n",
            "Loss after mini-batch   500: 0.69871\n",
            "Loss after mini-batch  1000: 1.27257\n",
            "Loss after mini-batch  1500: 1.02664\n",
            "Loss after mini-batch  2000: 0.77824\n",
            "Loss after mini-batch  2500: 1.07892\n",
            "Loss after mini-batch  3000: 1.09908\n",
            "Loss after mini-batch  3500: 0.96080\n",
            "Loss after mini-batch  4000: 1.12298\n",
            "Loss after mini-batch  4500: 1.45345\n",
            "Loss after mini-batch  5000: 1.14305\n",
            "Loss after mini-batch  5500: 0.90617\n",
            "Loss after mini-batch  6000: 1.19905\n",
            "Training loss: 1.0061287305603426\n",
            "Starting epoch 5\n",
            "Loss after mini-batch   500: 0.76721\n",
            "Loss after mini-batch  1000: 0.67737\n",
            "Loss after mini-batch  1500: 0.90001\n",
            "Loss after mini-batch  2000: 1.14996\n",
            "Loss after mini-batch  2500: 1.07475\n",
            "Loss after mini-batch  3000: 1.00569\n",
            "Loss after mini-batch  3500: 0.74219\n",
            "Loss after mini-batch  4000: 1.36583\n",
            "Loss after mini-batch  4500: 1.22845\n",
            "Loss after mini-batch  5000: 1.01766\n",
            "Loss after mini-batch  5500: 0.71392\n",
            "Loss after mini-batch  6000: 0.75855\n",
            "Training loss: 1.000247830380996\n",
            "Training process has finished.\n"
          ]
        }
      ],
      "source": [
        "# Run the training loop\n",
        "for epoch in range(0, 5): # 5 epochs at maximum\n",
        "\n",
        "  # Print epoch\n",
        "  print(f'Starting epoch {epoch+1}')\n",
        "  running_loss = 0\n",
        "\n",
        "  # Iterate over the DataLoader for training data\n",
        "  for i, data in enumerate(trainloader, 0):\n",
        "\n",
        "    # Get inputs\n",
        "    inputs, targets = data\n",
        "\n",
        "    # Zero the gradients\n",
        "    optimizer.zero_grad()\n",
        "\n",
        "    # Perform forward pass\n",
        "    outputs = mlp(inputs)\n",
        "\n",
        "    # Compute loss\n",
        "    loss = loss_function(outputs, targets)\n",
        "\n",
        "    # Perform backward pass\n",
        "    loss.backward()\n",
        "\n",
        "    # Perform optimization\n",
        "    optimizer.step()\n",
        "\n",
        "    # Print statistics\n",
        "    minibatch_loss = loss.item()\n",
        "\n",
        "    running_loss += minibatch_loss\n",
        "    if i % 500 == 499:\n",
        "        print('Loss after mini-batch %5d: %.5f' %\n",
        "              (i + 1, minibatch_loss))\n",
        "        current_loss = 0.0\n",
        "\n",
        "  print(f\"Training loss: {running_loss/len(trainloader)}\")\n",
        "\n",
        "# Process is complete.\n",
        "print('Training process has finished.')"
      ]
    },
    {
      "cell_type": "code",
      "execution_count": null,
      "metadata": {
        "colab": {
          "base_uri": "https://localhost:8080/"
        },
        "id": "RPdvq10xbNR6",
        "outputId": "3fdef934-2712-40dd-8c2e-461135674f16"
      },
      "outputs": [
        {
          "data": {
            "text/plain": [
              "torch.Size([1, 784])"
            ]
          },
          "execution_count": 126,
          "metadata": {},
          "output_type": "execute_result"
        }
      ],
      "source": [
        "images, labels = next(iter(trainloader))\n",
        "\n",
        "img = images[4].view(1, 784)\n",
        "img.shape"
      ]
    },
    {
      "cell_type": "code",
      "execution_count": null,
      "metadata": {
        "id": "Mr7Z1HGkbP2B"
      },
      "outputs": [],
      "source": [
        "# Turn off gradients to speed up this part\n",
        "with torch.inference_mode():#torch.no_grad():\n",
        "    logps = mlp(img)"
      ]
    },
    {
      "cell_type": "code",
      "execution_count": null,
      "metadata": {
        "colab": {
          "base_uri": "https://localhost:8080/"
        },
        "id": "99U6wtODbUCs",
        "outputId": "2fe4165c-72d2-4c7a-8c16-ed9a3a20b8c9"
      },
      "outputs": [
        {
          "data": {
            "text/plain": [
              "torch.Size([1, 10])"
            ]
          },
          "execution_count": 128,
          "metadata": {},
          "output_type": "execute_result"
        }
      ],
      "source": [
        "logps.shape"
      ]
    },
    {
      "cell_type": "code",
      "execution_count": null,
      "metadata": {
        "colab": {
          "base_uri": "https://localhost:8080/"
        },
        "id": "sHX8CyPAblCm",
        "outputId": "4b9194aa-91ce-418e-9247-19ce677eb98d"
      },
      "outputs": [
        {
          "data": {
            "text/plain": [
              "tensor([[-8.1563, -0.2899, -2.4180, -3.3348, -5.1323, -4.9474, -4.8144, -5.0262,\n",
              "         -2.4226, -4.5796]])"
            ]
          },
          "execution_count": 129,
          "metadata": {},
          "output_type": "execute_result"
        }
      ],
      "source": [
        "logps"
      ]
    },
    {
      "cell_type": "code",
      "execution_count": null,
      "metadata": {
        "id": "YsX8tt9kjsLt"
      },
      "outputs": [],
      "source": [
        "# Output of the network are log-probabilities, need to take exponential for probabilities\n",
        "ps = torch.exp(logps)"
      ]
    },
    {
      "cell_type": "code",
      "execution_count": null,
      "metadata": {
        "colab": {
          "base_uri": "https://localhost:8080/"
        },
        "id": "7W6uxwkvjtwJ",
        "outputId": "dbc01963-0f39-4c08-d0b0-0cbde02ec202"
      },
      "outputs": [
        {
          "data": {
            "text/plain": [
              "tensor([[2.8694e-04, 7.4836e-01, 8.9103e-02, 3.5621e-02, 5.9032e-03, 7.1020e-03,\n",
              "         8.1121e-03, 6.5634e-03, 8.8692e-02, 1.0259e-02]])"
            ]
          },
          "execution_count": 131,
          "metadata": {},
          "output_type": "execute_result"
        }
      ],
      "source": [
        "ps"
      ]
    },
    {
      "cell_type": "code",
      "execution_count": null,
      "metadata": {
        "colab": {
          "base_uri": "https://localhost:8080/",
          "height": 345
        },
        "id": "EEzdZAUWb2N9",
        "outputId": "e5c82c7a-36e8-47f8-f168-9a5eea8727e8"
      },
      "outputs": [
        {
          "data": {
            "image/png": "[encoded data removed]",
            "text/plain": [
              "<Figure size 600x900 with 2 Axes>"
            ]
          },
          "metadata": {},
          "output_type": "display_data"
        }
      ],
      "source": [
        "view_classify(img.view(1, 28, 28), ps)"
      ]
    },
    {
      "cell_type": "markdown",
      "metadata": {
        "id": "6X3RI0kvm5pq"
      },
      "source": [
        "## MNIST with CrossEntropyLoss"
      ]
    },
    {
      "cell_type": "code",
      "execution_count": null,
      "metadata": {
        "id": "j_bFQBhEm83F"
      },
      "outputs": [],
      "source": [
        "class MLP(nn.Module):\n",
        "  '''\n",
        "    Multilayer Perceptron.\n",
        "  '''\n",
        "  def __init__(self):\n",
        "    super().__init__()\n",
        "    self.layers = nn.Sequential(\n",
        "      nn.Flatten(),\n",
        "      nn.Linear(28 * 28 * 1, 128),\n",
        "      nn.ReLU(),\n",
        "      nn.Linear(128, 64),\n",
        "      nn.ReLU(),\n",
        "      nn.Linear(64, 10)\n",
        "    )\n",
        "\n",
        "  def forward(self, x):\n",
        "    '''Forward pass'''\n",
        "    return self.layers(x)"
      ]
    },
    {
      "cell_type": "code",
      "execution_count": null,
      "metadata": {
        "id": "5QQrtsNhm_kc"
      },
      "outputs": [],
      "source": [
        "# Initialize the MLP\n",
        "mlp = MLP()\n",
        "\n",
        "# Define the loss function and optimizer\n",
        "loss_function = nn.CrossEntropyLoss() #nn.NLLLoss() #\n",
        "optimizer = optim.SGD(mlp.parameters(), lr=0.003)\n",
        "#optimizer = torch.optim.Adam(mlp.parameters(), lr=1e-4, weight_decay=1.0)\n"
      ]
    },
    {
      "cell_type": "code",
      "execution_count": null,
      "metadata": {
        "colab": {
          "base_uri": "https://localhost:8080/"
        },
        "id": "v_hY2C1LnNDs",
        "outputId": "bd8cb859-e6a8-4b1e-8eff-c52caa07c7e6"
      },
      "outputs": [
        {
          "name": "stdout",
          "output_type": "stream",
          "text": [
            "Starting epoch 1\n",
            "Loss after mini-batch   500: 2.25046\n",
            "Loss after mini-batch  1000: 2.16376\n",
            "Loss after mini-batch  1500: 1.96465\n",
            "Loss after mini-batch  2000: 1.58757\n",
            "Loss after mini-batch  2500: 1.53447\n",
            "Loss after mini-batch  3000: 0.80353\n",
            "Loss after mini-batch  3500: 0.95084\n",
            "Loss after mini-batch  4000: 0.62841\n",
            "Loss after mini-batch  4500: 0.75914\n",
            "Loss after mini-batch  5000: 0.30831\n",
            "Loss after mini-batch  5500: 0.72984\n",
            "Loss after mini-batch  6000: 0.36736\n",
            "Training loss: 1.1904746963642538\n",
            "Starting epoch 2\n",
            "Loss after mini-batch   500: 0.53681\n",
            "Loss after mini-batch  1000: 1.08308\n",
            "Loss after mini-batch  1500: 0.17222\n",
            "Loss after mini-batch  2000: 0.32273\n",
            "Loss after mini-batch  2500: 0.68576\n",
            "Loss after mini-batch  3000: 0.49540\n",
            "Loss after mini-batch  3500: 0.89996\n",
            "Loss after mini-batch  4000: 0.72107\n",
            "Loss after mini-batch  4500: 0.08715\n",
            "Loss after mini-batch  5000: 1.15909\n",
            "Loss after mini-batch  5500: 0.16427\n",
            "Loss after mini-batch  6000: 0.25617\n",
            "Training loss: 0.3868188751336808\n",
            "Starting epoch 3\n",
            "Loss after mini-batch   500: 0.34473\n",
            "Loss after mini-batch  1000: 0.20918\n",
            "Loss after mini-batch  1500: 0.49215\n",
            "Loss after mini-batch  2000: 0.19498\n",
            "Loss after mini-batch  2500: 0.31197\n",
            "Loss after mini-batch  3000: 0.15188\n",
            "Loss after mini-batch  3500: 0.14149\n",
            "Loss after mini-batch  4000: 0.53511\n",
            "Loss after mini-batch  4500: 0.39472\n",
            "Loss after mini-batch  5000: 0.21145\n",
            "Loss after mini-batch  5500: 0.71297\n",
            "Loss after mini-batch  6000: 0.06088\n",
            "Training loss: 0.31486154966397834\n",
            "Starting epoch 4\n",
            "Loss after mini-batch   500: 0.16839\n",
            "Loss after mini-batch  1000: 0.13464\n",
            "Loss after mini-batch  1500: 0.06833\n",
            "Loss after mini-batch  2000: 0.56926\n",
            "Loss after mini-batch  2500: 0.19176\n",
            "Loss after mini-batch  3000: 0.34995\n",
            "Loss after mini-batch  3500: 0.43087\n",
            "Loss after mini-batch  4000: 0.06487\n",
            "Loss after mini-batch  4500: 0.24522\n",
            "Loss after mini-batch  5000: 0.31683\n",
            "Loss after mini-batch  5500: 0.34262\n",
            "Loss after mini-batch  6000: 0.03751\n",
            "Training loss: 0.27681184728986896\n",
            "Starting epoch 5\n",
            "Loss after mini-batch   500: 0.32519\n",
            "Loss after mini-batch  1000: 0.86186\n",
            "Loss after mini-batch  1500: 0.06744\n",
            "Loss after mini-batch  2000: 0.81044\n",
            "Loss after mini-batch  2500: 0.04933\n",
            "Loss after mini-batch  3000: 0.30404\n",
            "Loss after mini-batch  3500: 0.15972\n",
            "Loss after mini-batch  4000: 0.33133\n",
            "Loss after mini-batch  4500: 0.03876\n",
            "Loss after mini-batch  5000: 0.42773\n",
            "Loss after mini-batch  5500: 0.17214\n",
            "Loss after mini-batch  6000: 0.34788\n",
            "Training loss: 0.2477605757758332\n",
            "Training process has finished.\n"
          ]
        }
      ],
      "source": [
        "# Run the training loop\n",
        "for epoch in range(0, 5): # 5 epochs at maximum\n",
        "\n",
        "  # Print epoch\n",
        "  print(f'Starting epoch {epoch+1}')\n",
        "  running_loss = 0\n",
        "\n",
        "  # Iterate over the DataLoader for training data\n",
        "  for i, data in enumerate(trainloader, 0):\n",
        "\n",
        "    # Get inputs\n",
        "    inputs, targets = data\n",
        "\n",
        "    # Zero the gradients\n",
        "    optimizer.zero_grad()\n",
        "\n",
        "    # Perform forward pass\n",
        "    outputs = mlp(inputs)\n",
        "\n",
        "    # Compute loss\n",
        "    loss = loss_function(outputs, targets)\n",
        "\n",
        "    # Perform backward pass\n",
        "    loss.backward()\n",
        "\n",
        "    # Perform optimization\n",
        "    optimizer.step()\n",
        "\n",
        "    # Print statistics\n",
        "    minibatch_loss = loss.item()\n",
        "\n",
        "    running_loss += minibatch_loss\n",
        "    if i % 500 == 499:\n",
        "        print('Loss after mini-batch %5d: %.5f' %\n",
        "              (i + 1, minibatch_loss))\n",
        "        current_loss = 0.0\n",
        "\n",
        "  print(f\"Training loss: {running_loss/len(trainloader)}\")\n",
        "\n",
        "# Process is complete.\n",
        "print('Training process has finished.')"
      ]
    },
    {
      "cell_type": "code",
      "execution_count": null,
      "metadata": {
        "colab": {
          "base_uri": "https://localhost:8080/"
        },
        "id": "4mkKHtsZoSLg",
        "outputId": "e0241f44-6fb6-47b5-a2e2-e41ed6d53b76"
      },
      "outputs": [
        {
          "data": {
            "text/plain": [
              "torch.Size([1, 784])"
            ]
          },
          "execution_count": 104,
          "metadata": {},
          "output_type": "execute_result"
        }
      ],
      "source": [
        "images, labels = next(iter(trainloader))\n",
        "\n",
        "img = images[4].view(1, 784)\n",
        "img.shape"
      ]
    },
    {
      "cell_type": "code",
      "execution_count": null,
      "metadata": {
        "id": "a-z2mL2GoVxI"
      },
      "outputs": [],
      "source": [
        "# Turn off gradients to speed up this part\n",
        "with torch.inference_mode():#torch.no_grad():\n",
        "    logps = mlp(img)"
      ]
    },
    {
      "cell_type": "code",
      "execution_count": null,
      "metadata": {
        "colab": {
          "base_uri": "https://localhost:8080/"
        },
        "id": "ksU53DWwoWlF",
        "outputId": "d0800f70-730c-4361-9258-cc2bc8df1aa6"
      },
      "outputs": [
        {
          "data": {
            "text/plain": [
              "tensor([[ 9.5915, -8.2068,  3.8632,  1.4661, -6.0676,  4.5186, -3.6643, -1.8895,\n",
              "          3.2487, -1.4855]])"
            ]
          },
          "execution_count": 106,
          "metadata": {},
          "output_type": "execute_result"
        }
      ],
      "source": [
        "logps"
      ]
    },
    {
      "cell_type": "code",
      "execution_count": null,
      "metadata": {
        "colab": {
          "base_uri": "https://localhost:8080/"
        },
        "id": "0HaaN6nYokly",
        "outputId": "4ab48ce2-3680-473c-f1b2-192df9c8d093"
      },
      "outputs": [
        {
          "data": {
            "text/plain": [
              "tensor([[9.8853e-01, 1.8419e-08, 3.2155e-03, 2.9252e-04, 1.5644e-07, 6.1927e-03,\n",
              "         1.7300e-06, 1.0206e-05, 1.7392e-03, 1.5287e-05]])"
            ]
          },
          "execution_count": 108,
          "metadata": {},
          "output_type": "execute_result"
        }
      ],
      "source": [
        "ps = torch.nn.functional.softmax(logps, dim=1)\n",
        "ps"
      ]
    },
    {
      "cell_type": "code",
      "execution_count": null,
      "metadata": {
        "colab": {
          "base_uri": "https://localhost:8080/",
          "height": 345
        },
        "id": "GoVdCJ86ouBU",
        "outputId": "fcc46634-bf32-456e-cd69-c39a266e12b6"
      },
      "outputs": [
        {
          "data": {
            "image/png": "[encoded data removed]",
            "text/plain": [
              "<Figure size 600x900 with 2 Axes>"
            ]
          },
          "metadata": {},
          "output_type": "display_data"
        }
      ],
      "source": [
        "view_classify(img.view(1, 28, 28), ps)"
      ]
    },
    {
      "cell_type": "code",
      "execution_count": null,
      "metadata": {
        "colab": {
          "base_uri": "https://localhost:8080/"
        },
        "id": "hgqCeC19Y6Vl",
        "outputId": "56afc10d-2a91-4ab7-92a6-b4de462c5113"
      },
      "outputs": [
        {
          "data": {
            "text/plain": [
              "tensor([[-9.2253e-06, -2.2464e-06, -1.8543e-05,  4.4214e-06,  1.6578e-05,\n",
              "          1.1587e-05,  1.9855e-05, -1.0638e-05, -4.3036e-06,  1.2927e-05]])"
            ]
          },
          "execution_count": 9,
          "metadata": {},
          "output_type": "execute_result"
        }
      ],
      "source": [
        "logps"
      ]
    }
  ],
  "metadata": {
    "accelerator": "GPU",
    "colab": {
      "gpuType": "T4",
      "provenance": [],
      "toc_visible": true
    },
    "kernelspec": {
      "display_name": "Python 3",
      "name": "python3"
    }
  },
  "nbformat": 4,
  "nbformat_minor": 0
}
