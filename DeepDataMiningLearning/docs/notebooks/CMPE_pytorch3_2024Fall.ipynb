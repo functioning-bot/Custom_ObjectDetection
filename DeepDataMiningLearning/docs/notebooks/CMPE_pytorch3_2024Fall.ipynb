{
  "cells": [
    {
      "cell_type": "markdown",
      "metadata": {
        "id": "oB4jrJaT-mr3"
      },
      "source": [
        "# Tutorial 3: PyTorch Autograd\n",
        "\n",
        "![Status](https://img.shields.io/static/v1.svg?label=Status&message=Finished&color=green)\n",
        "\n",
        "**Filled notebook:**\n",
        "[![View filled on Github](https://img.shields.io/static/v1.svg?logo=github&label=Repo&message=View%20On%20Github&color=lightgrey)](https://github.com/lkk688/DeepDataMiningLearning/blob/master/docs/notebooks/CMPE_pytorch3_2024Fall.ipynb)\n",
        "[![Open filled In Collab](https://colab.research.google.com/assets/colab-badge.svg)](https://colab.research.google.com/github/lkk688/DeepDataMiningLearning/blob/master/docs/notebooks/CMPE_pytorch3_2024Fall.ipynb)       \n",
        "**Author:** Kaikai Liu"
      ]
    },
    {
      "cell_type": "markdown",
      "metadata": {
        "id": "AHBD6HDpFPfB"
      },
      "source": [
        "## Install Pytorch"
      ]
    },
    {
      "cell_type": "markdown",
      "metadata": {
        "id": "Be7eF0nZ-dw9"
      },
      "source": [
        "Pytorch is already installed in Colab. If you are installing the pytorch in your local machine, follow the tutorials here: from https://pytorch.org/get-started/locally/. You can check our pytorch installation tutorials for Mac/Windows/Linux/HPC here: https://deepdatamininglearning.readthedocs.io/"
      ]
    },
    {
      "cell_type": "markdown",
      "metadata": {
        "id": "2lUmdFDa-zHE"
      },
      "source": [
        "Click \"Connect\" to connect to a Colab VM instance. In Runtime->Change Runtime type to select CPU/TPU/GPU."
      ]
    },
    {
      "cell_type": "code",
      "execution_count": null,
      "metadata": {
        "colab": {
          "base_uri": "https://localhost:8080/"
        },
        "id": "1vyDuiPkFTd5",
        "outputId": "07ebbb56-7991-4079-95e0-a35f3f499ee9"
      },
      "outputs": [
        {
          "name": "stdout",
          "output_type": "stream",
          "text": [
            "Requirement already satisfied: torch in /usr/local/lib/python3.10/dist-packages (2.1.0+cu121)\n",
            "Requirement already satisfied: torchvision in /usr/local/lib/python3.10/dist-packages (0.16.0+cu121)\n",
            "Requirement already satisfied: filelock in /usr/local/lib/python3.10/dist-packages (from torch) (3.13.1)\n",
            "Requirement already satisfied: typing-extensions in /usr/local/lib/python3.10/dist-packages (from torch) (4.5.0)\n",
            "Requirement already satisfied: sympy in /usr/local/lib/python3.10/dist-packages (from torch) (1.12)\n",
            "Requirement already satisfied: networkx in /usr/local/lib/python3.10/dist-packages (from torch) (3.2.1)\n",
            "Requirement already satisfied: jinja2 in /usr/local/lib/python3.10/dist-packages (from torch) (3.1.3)\n",
            "Requirement already satisfied: fsspec in /usr/local/lib/python3.10/dist-packages (from torch) (2023.6.0)\n",
            "Requirement already satisfied: triton==2.1.0 in /usr/local/lib/python3.10/dist-packages (from torch) (2.1.0)\n",
            "Requirement already satisfied: numpy in /usr/local/lib/python3.10/dist-packages (from torchvision) (1.23.5)\n",
            "Requirement already satisfied: requests in /usr/local/lib/python3.10/dist-packages (from torchvision) (2.31.0)\n",
            "Requirement already satisfied: pillow!=8.3.*,>=5.3.0 in /usr/local/lib/python3.10/dist-packages (from torchvision) (9.4.0)\n",
            "Requirement already satisfied: MarkupSafe>=2.0 in /usr/local/lib/python3.10/dist-packages (from jinja2->torch) (2.1.4)\n",
            "Requirement already satisfied: charset-normalizer<4,>=2 in /usr/local/lib/python3.10/dist-packages (from requests->torchvision) (3.3.2)\n",
            "Requirement already satisfied: idna<4,>=2.5 in /usr/local/lib/python3.10/dist-packages (from requests->torchvision) (3.6)\n",
            "Requirement already satisfied: urllib3<3,>=1.21.1 in /usr/local/lib/python3.10/dist-packages (from requests->torchvision) (2.0.7)\n",
            "Requirement already satisfied: certifi>=2017.4.17 in /usr/local/lib/python3.10/dist-packages (from requests->torchvision) (2023.11.17)\n",
            "Requirement already satisfied: mpmath>=0.19 in /usr/local/lib/python3.10/dist-packages (from sympy->torch) (1.3.0)\n"
          ]
        }
      ],
      "source": [
        "!pip3 install torch torchvision"
      ]
    },
    {
      "cell_type": "markdown",
      "metadata": {
        "id": "8TRnM7K8mGZa"
      },
      "source": [
        "If the installed version of PyTorch is lower than required, uninstall it and reinstall again by running the following commands:\n",
        "\n",
        "!pip3 uninstall --yes torch torchaudio torchvision torchtext torchdata\n",
        "!pip3 install torch torchaudio torchvision torchtext torchdata"
      ]
    },
    {
      "cell_type": "markdown",
      "metadata": {
        "id": "ogRnp8eU_kFv"
      },
      "source": [
        "## Check PyTorch Environment\n",
        "\n",
        "Pytorch is very similar to the `numpy` package. Let's start with importing PyTorch. The package is called `torch`, based on its original framework [Torch](http://torch.ch/). As a first step, we can check its version:"
      ]
    },
    {
      "cell_type": "code",
      "execution_count": null,
      "metadata": {
        "colab": {
          "base_uri": "https://localhost:8080/"
        },
        "id": "47lGOtCC_pCH",
        "outputId": "0fb79f73-82a3-4bc2-c1d5-c15b2553823c"
      },
      "outputs": [
        {
          "name": "stdout",
          "output_type": "stream",
          "text": [
            "Python 3.10.12\n"
          ]
        }
      ],
      "source": [
        "!python -V"
      ]
    },
    {
      "cell_type": "code",
      "execution_count": null,
      "metadata": {
        "colab": {
          "base_uri": "https://localhost:8080/"
        },
        "id": "_XCVSzRy_qN2",
        "outputId": "7ff7e56a-3521-454e-dce6-8b14a910195a"
      },
      "outputs": [
        {
          "name": "stdout",
          "output_type": "stream",
          "text": [
            "Sat Aug 10 20:33:13 2024       \n",
            "+---------------------------------------------------------------------------------------+\n",
            "| NVIDIA-SMI 535.104.05             Driver Version: 535.104.05   CUDA Version: 12.2     |\n",
            "|-----------------------------------------+----------------------+----------------------+\n",
            "| GPU  Name                 Persistence-M | Bus-Id        Disp.A | Volatile Uncorr. ECC |\n",
            "| Fan  Temp   Perf          Pwr:Usage/Cap |         Memory-Usage | GPU-Util  Compute M. |\n",
            "|                                         |                      |               MIG M. |\n",
            "|=========================================+======================+======================|\n",
            "|   0  Tesla T4                       Off | 00000000:00:04.0 Off |                    0 |\n",
            "| N/A   51C    P8              12W /  70W |      0MiB / 15360MiB |      0%      Default |\n",
            "|                                         |                      |                  N/A |\n",
            "+-----------------------------------------+----------------------+----------------------+\n",
            "                                                                                         \n",
            "+---------------------------------------------------------------------------------------+\n",
            "| Processes:                                                                            |\n",
            "|  GPU   GI   CI        PID   Type   Process name                            GPU Memory |\n",
            "|        ID   ID                                                             Usage      |\n",
            "|=======================================================================================|\n",
            "|  No running processes found                                                           |\n",
            "+---------------------------------------------------------------------------------------+\n"
          ]
        }
      ],
      "source": [
        "!nvidia-smi #check GPU"
      ]
    },
    {
      "cell_type": "code",
      "execution_count": null,
      "metadata": {
        "colab": {
          "base_uri": "https://localhost:8080/"
        },
        "id": "85fSPXNq_xwC",
        "outputId": "c4716d6d-799d-44c5-abb4-8d00397d7495"
      },
      "outputs": [
        {
          "name": "stdout",
          "output_type": "stream",
          "text": [
            "Using torch 2.3.1+cu121\n"
          ]
        }
      ],
      "source": [
        "import torch\n",
        "print(\"Using torch\", torch.__version__)"
      ]
    },
    {
      "cell_type": "code",
      "execution_count": null,
      "metadata": {
        "colab": {
          "base_uri": "https://localhost:8080/"
        },
        "id": "f4cdmbms_3bm",
        "outputId": "229dd9ea-0122-48ac-ed21-6c682b573739"
      },
      "outputs": [
        {
          "name": "stdout",
          "output_type": "stream",
          "text": [
            "tensor([[0.6778, 0.7837, 0.6664],\n",
            "        [0.6301, 0.9998, 0.7409],\n",
            "        [0.5495, 0.5978, 0.6948],\n",
            "        [0.2877, 0.6407, 0.9320],\n",
            "        [0.7372, 0.6757, 0.0932]])\n"
          ]
        }
      ],
      "source": [
        "x = torch.rand(5, 3)\n",
        "print(x)"
      ]
    },
    {
      "cell_type": "code",
      "execution_count": null,
      "metadata": {
        "colab": {
          "base_uri": "https://localhost:8080/"
        },
        "id": "4LCTuzlb_5ed",
        "outputId": "fa13a069-65b0-4db7-c5fc-d4ca124c2184"
      },
      "outputs": [
        {
          "name": "stdout",
          "output_type": "stream",
          "text": [
            "0.18.1+cu121\n"
          ]
        }
      ],
      "source": [
        "import torchvision\n",
        "print(torchvision.__version__)"
      ]
    },
    {
      "cell_type": "code",
      "execution_count": null,
      "metadata": {
        "id": "n2x-qnCK_OdY"
      },
      "outputs": [],
      "source": [
        "if torch.cuda.is_available():\n",
        "    device = torch.device('cuda')  # CUDA GPU\n",
        "elif torch.backends.mps.is_available():\n",
        "    device = torch.device('mps') #Apple GPU\n",
        "else:\n",
        "    device = torch.device(\"cpu\")"
      ]
    },
    {
      "cell_type": "code",
      "execution_count": null,
      "metadata": {
        "colab": {
          "base_uri": "https://localhost:8080/"
        },
        "id": "LceVUVNYACu5",
        "outputId": "4e72b56b-1429-4e9c-fd68-30fb1bc2aaf5"
      },
      "outputs": [
        {
          "name": "stdout",
          "output_type": "stream",
          "text": [
            "Using device: cuda\n",
            "Device name:  Tesla T4\n",
            "Device properties: _CudaDeviceProperties(name='Tesla T4', major=7, minor=5, total_memory=15102MB, multi_processor_count=40)\n",
            "Memory Usage:\n",
            "Allocated: 0.0 GB\n",
            "Cached:    0.0 GB\n"
          ]
        }
      ],
      "source": [
        "print('Using device:', device)\n",
        "#Additional Info when using cuda\n",
        "if device.type == 'cuda':\n",
        "    print(\"Device name: \", torch.cuda.get_device_name(0))\n",
        "    print(\"Device properties:\", torch.cuda.get_device_properties(0))\n",
        "    print('Memory Usage:')\n",
        "    print('Allocated:', round(torch.cuda.memory_allocated(0)/1024**3,1), 'GB')\n",
        "    print('Cached:   ', round(torch.cuda.memory_reserved(0)/1024**3,1), 'GB')"
      ]
    },
    {
      "cell_type": "code",
      "execution_count": null,
      "metadata": {
        "colab": {
          "base_uri": "https://localhost:8080/"
        },
        "id": "FVEeWwCUAGKj",
        "outputId": "17035988-5e95-4455-ba14-bcce77676d78"
      },
      "outputs": [
        {
          "data": {
            "text/plain": [
              "1"
            ]
          },
          "execution_count": 13,
          "metadata": {},
          "output_type": "execute_result"
        }
      ],
      "source": [
        "torch.cuda.device_count()"
      ]
    },
    {
      "cell_type": "code",
      "execution_count": null,
      "metadata": {
        "colab": {
          "base_uri": "https://localhost:8080/",
          "height": 35
        },
        "id": "VZPb2lftAIfb",
        "outputId": "fc211b0e-4ac6-48aa-bac8-f6cc5dd79820"
      },
      "outputs": [
        {
          "data": {
            "application/vnd.google.colaboratory.intrinsic+json": {
              "type": "string"
            },
            "text/plain": [
              "'12.1'"
            ]
          },
          "execution_count": 14,
          "metadata": {},
          "output_type": "execute_result"
        }
      ],
      "source": [
        "torch.version.cuda"
      ]
    },
    {
      "cell_type": "code",
      "execution_count": null,
      "metadata": {
        "colab": {
          "base_uri": "https://localhost:8080/"
        },
        "id": "4y3VuCzxALrE",
        "outputId": "d3f376de-5f0b-4fe7-aa49-b4d77b407930"
      },
      "outputs": [
        {
          "name": "stdout",
          "output_type": "stream",
          "text": [
            "nvcc: NVIDIA (R) Cuda compiler driver\n",
            "Copyright (c) 2005-2023 NVIDIA Corporation\n",
            "Built on Tue_Aug_15_22:02:13_PDT_2023\n",
            "Cuda compilation tools, release 12.2, V12.2.140\n",
            "Build cuda_12.2.r12.2/compiler.33191640_0\n"
          ]
        }
      ],
      "source": [
        "!nvcc -V"
      ]
    },
    {
      "cell_type": "code",
      "execution_count": null,
      "metadata": {
        "colab": {
          "base_uri": "https://localhost:8080/"
        },
        "id": "WDna707VAOes",
        "outputId": "2673d42e-a28e-4fb1-a924-fe1f2b060273"
      },
      "outputs": [
        {
          "data": {
            "text/plain": [
              "8906"
            ]
          },
          "execution_count": 16,
          "metadata": {},
          "output_type": "execute_result"
        }
      ],
      "source": [
        "torch.backends.cudnn.version()"
      ]
    },
    {
      "cell_type": "code",
      "execution_count": null,
      "metadata": {
        "colab": {
          "base_uri": "https://localhost:8080/"
        },
        "id": "ybCKHxPzARMn",
        "outputId": "f097d31a-5720-4ba3-96b7-a14cc31328aa"
      },
      "outputs": [
        {
          "name": "stdout",
          "output_type": "stream",
          "text": [
            "/usr/lib64-nvidia\n"
          ]
        }
      ],
      "source": [
        "!echo $LD_LIBRARY_PATH"
      ]
    },
    {
      "cell_type": "markdown",
      "metadata": {
        "id": "TfITcdKBAVYV"
      },
      "source": [
        "As in every machine learning framework, PyTorch provides functions that are stochastic like generating random numbers. However, a very good practice is to setup your code to be reproducible with the exact same random numbers. This is why we set a seed below."
      ]
    },
    {
      "cell_type": "code",
      "execution_count": null,
      "metadata": {
        "colab": {
          "base_uri": "https://localhost:8080/"
        },
        "id": "HsNtDPlbAUZM",
        "outputId": "d15dd192-f4eb-48b3-ba61-80dfbf037f30"
      },
      "outputs": [
        {
          "data": {
            "text/plain": [
              "<torch._C.Generator at 0x78f127be8130>"
            ]
          },
          "execution_count": 18,
          "metadata": {},
          "output_type": "execute_result"
        }
      ],
      "source": [
        "torch.manual_seed(42) # Setting the seed"
      ]
    },
    {
      "cell_type": "markdown",
      "metadata": {
        "id": "ImtLfsKAAdiS"
      },
      "source": [
        "## Load Google Drive Folder for Colab"
      ]
    },
    {
      "cell_type": "markdown",
      "metadata": {
        "id": "H26cKIjkmWNd"
      },
      "source": [
        "In Colab, add the following to load google drive folder"
      ]
    },
    {
      "cell_type": "code",
      "execution_count": null,
      "metadata": {
        "id": "PoKlV9Y4maYR"
      },
      "outputs": [],
      "source": [
        "from google.colab import drive\n",
        "drive.mount('/content/gdrive')"
      ]
    },
    {
      "cell_type": "code",
      "execution_count": null,
      "metadata": {
        "id": "WiI7HRwjmc1J"
      },
      "outputs": [],
      "source": [
        "import os\n",
        "filename = os.path.join(\"/content/gdrive/My Drive/data\", filename)"
      ]
    },
    {
      "cell_type": "markdown",
      "metadata": {
        "id": "6PQi_El2m_ke"
      },
      "source": [
        "Check the following tutorial regarding the external data for Colab: https://colab.research.google.com/notebooks/io.ipynb#scrollTo=XDg9OBaYqRMd"
      ]
    },
    {
      "cell_type": "markdown",
      "metadata": {
        "id": "GKlumCs7Vo4d"
      },
      "source": [
        "## Autograd"
      ]
    },
    {
      "cell_type": "markdown",
      "metadata": {
        "id": "pkH6O4b8eOLg"
      },
      "source": [
        "When training neural networks, the most frequently used algorithm is\n",
        "**back propagation**. In this algorithm, parameters (model weights) are\n",
        "adjusted according to the **gradient** of the loss function with respect\n",
        "to the given parameter.\n",
        "\n",
        "To compute those gradients, PyTorch has a built-in differentiation engine\n",
        "called ``torch.autograd``. It supports automatic computation of gradient for any\n",
        "computational graph."
      ]
    },
    {
      "cell_type": "markdown",
      "metadata": {
        "id": "j3eMangGN_xp"
      },
      "source": [
        "We can use automatic differentiation to automate the computation of backward passes in neural networks. The autograd package in PyTorch provides this functionality. When using autograd, the forward pass of your network will define a computational graph; nodes in the graph will be Tensors, and edges will be functions that produce output Tensors from input Tensors. Backpropagating through this graph then allows you to easily compute gradients. Each Tensor represents a node in a computational graph. If x is a Tensor that has x.requires_grad=True then x.grad is another Tensor holding the gradient of x with respect to some scalar value."
      ]
    },
    {
      "cell_type": "markdown",
      "metadata": {
        "id": "_AQa46z0eTsJ"
      },
      "source": [
        "Consider the simplest one-layer neural network, with input ``x``,\n",
        "parameters ``w`` and ``b``, and some loss function. It can be defined in\n",
        "PyTorch in the following manner:"
      ]
    },
    {
      "cell_type": "code",
      "execution_count": null,
      "metadata": {
        "id": "MqTqlzO8ekuP"
      },
      "outputs": [],
      "source": [
        "import torch\n",
        "\n",
        "x = torch.ones(5)  # input tensor\n",
        "y = torch.zeros(3)  # expected output\n",
        "w = torch.randn(5, 3, requires_grad=True)\n",
        "b = torch.randn(3, requires_grad=True)\n",
        "z = torch.matmul(x, w)+b\n",
        "loss = torch.nn.functional.binary_cross_entropy_with_logits(z, y)"
      ]
    },
    {
      "cell_type": "markdown",
      "metadata": {
        "id": "Inyj3oAqet6e"
      },
      "source": [
        "A function that we apply to tensors to construct computational graph is\n",
        "in fact an object of class ``Function``. This object knows how to\n",
        "compute the function in the *forward* direction, and also how to compute\n",
        "its derivative during the *backward propagation* step. A reference to\n",
        "the backward propagation function is stored in ``grad_fn`` property of a\n",
        "tensor. You can find more information of ``Function`` [in the\n",
        "documentation](https://pytorch.org/docs/stable/autograd.html#function)_."
      ]
    },
    {
      "cell_type": "code",
      "execution_count": null,
      "metadata": {
        "colab": {
          "base_uri": "https://localhost:8080/"
        },
        "id": "zb7PjADWewxv",
        "outputId": "a0bcad62-3844-4edf-8660-8e0fcd62c111"
      },
      "outputs": [
        {
          "name": "stdout",
          "output_type": "stream",
          "text": [
            "Gradient function for z = <AddBackward0 object at 0x79a53ce1e260>\n",
            "Gradient function for loss = <BinaryCrossEntropyWithLogitsBackward0 object at 0x79a53ce1e6b0>\n"
          ]
        }
      ],
      "source": [
        "print(f\"Gradient function for z = {z.grad_fn}\")\n",
        "print(f\"Gradient function for loss = {loss.grad_fn}\")"
      ]
    },
    {
      "cell_type": "markdown",
      "metadata": {
        "id": "2W7md8pLe2Wu"
      },
      "source": [
        "### Computing Gradients\n",
        "\n",
        "To optimize weights of parameters in the neural network, we need to\n",
        "compute the derivatives of our loss function with respect to parameters,\n",
        "namely, we need $\\frac{\\partial loss}{\\partial w}$ and\n",
        "$\\frac{\\partial loss}{\\partial b}$ under some fixed values of\n",
        "``x`` and ``y``. To compute those derivatives, we call\n",
        "``loss.backward()``, and then retrieve the values from ``w.grad`` and\n",
        "``b.grad``:"
      ]
    },
    {
      "cell_type": "code",
      "execution_count": null,
      "metadata": {
        "colab": {
          "base_uri": "https://localhost:8080/"
        },
        "id": "6mcuS04Ke65m",
        "outputId": "6fc7a406-cba2-40d8-fd9e-cacc58fd69e5"
      },
      "outputs": [
        {
          "name": "stdout",
          "output_type": "stream",
          "text": [
            "tensor([[0.1422, 0.2518, 0.0272],\n",
            "        [0.1422, 0.2518, 0.0272],\n",
            "        [0.1422, 0.2518, 0.0272],\n",
            "        [0.1422, 0.2518, 0.0272],\n",
            "        [0.1422, 0.2518, 0.0272]])\n",
            "tensor([0.1422, 0.2518, 0.0272])\n"
          ]
        }
      ],
      "source": [
        "loss.backward()\n",
        "print(w.grad)\n",
        "print(b.grad)"
      ]
    },
    {
      "cell_type": "markdown",
      "metadata": {
        "id": "-ynKH4_1fAut"
      },
      "source": [
        "<div class=\"alert alert-info\"><h4>Note</h4><p>- We can only obtain the ``grad`` properties for the leaf\n",
        "    nodes of the computational graph, which have ``requires_grad`` property\n",
        "    set to ``True``. For all other nodes in our graph, gradients will not be\n",
        "    available.\n",
        "  - We can only perform gradient calculations using\n",
        "    ``backward`` once on a given graph, for performance reasons. If we need\n",
        "    to do several ``backward`` calls on the same graph, we need to pass\n",
        "    ``retain_graph=True`` to the ``backward`` call.</p></div>\n",
        "\n",
        "\n"
      ]
    },
    {
      "cell_type": "markdown",
      "metadata": {
        "id": "VEc7oxHZfFgm"
      },
      "source": [
        "By default, all tensors with ``requires_grad=True`` are tracking their\n",
        "computational history and support gradient computation. However, there\n",
        "are some cases when we do not need to do that, for example, when we have\n",
        "trained the model and just want to apply it to some input data, i.e. we\n",
        "only want to do *forward* computations through the network. We can stop\n",
        "tracking computations by surrounding our computation code with\n",
        "``torch.no_grad()`` block:"
      ]
    },
    {
      "cell_type": "code",
      "execution_count": null,
      "metadata": {
        "colab": {
          "base_uri": "https://localhost:8080/"
        },
        "id": "l7Bk2KCGfHto",
        "outputId": "ec40bb44-37aa-49a6-cb80-31eeaacd61de"
      },
      "outputs": [
        {
          "name": "stdout",
          "output_type": "stream",
          "text": [
            "True\n",
            "False\n"
          ]
        }
      ],
      "source": [
        "z = torch.matmul(x, w)+b\n",
        "print(z.requires_grad)\n",
        "\n",
        "with torch.no_grad():\n",
        "    z = torch.matmul(x, w)+b\n",
        "print(z.requires_grad)"
      ]
    },
    {
      "cell_type": "markdown",
      "metadata": {
        "id": "BV5SjMZifKmn"
      },
      "source": [
        "Another way to achieve the same result is to use the ``detach()`` method\n",
        "on the tensor:\n"
      ]
    },
    {
      "cell_type": "code",
      "execution_count": null,
      "metadata": {
        "colab": {
          "base_uri": "https://localhost:8080/"
        },
        "id": "5bhXIVGkfM8_",
        "outputId": "3f3fb5e0-2436-4cda-a21a-98e5cb176bc4"
      },
      "outputs": [
        {
          "name": "stdout",
          "output_type": "stream",
          "text": [
            "False\n"
          ]
        }
      ],
      "source": [
        "z = torch.matmul(x, w)+b\n",
        "z_det = z.detach()\n",
        "print(z_det.requires_grad)"
      ]
    },
    {
      "cell_type": "markdown",
      "metadata": {
        "id": "ptAJAevyfTVI"
      },
      "source": [
        "Conceptually, autograd keeps a record of data (tensors) and all executed\n",
        "operations (along with the resulting new tensors) in a directed acyclic\n",
        "graph (DAG) consisting of\n",
        "[Function](https://pytorch.org/docs/stable/autograd.html#torch.autograd.Function)_\n",
        "objects. In this DAG, leaves are the input tensors, roots are the output\n",
        "tensors. By tracing this graph from roots to leaves, you can\n",
        "automatically compute the gradients using the chain rule.\n",
        "\n",
        "In a forward pass, autograd does two things simultaneously:\n",
        "\n",
        "- run the requested operation to compute a resulting tensor\n",
        "- maintain the operation’s *gradient function* in the DAG.\n",
        "\n",
        "The backward pass kicks off when ``.backward()`` is called on the DAG\n",
        "root. ``autograd`` then:\n",
        "\n",
        "- computes the gradients from each ``.grad_fn``,\n",
        "- accumulates them in the respective tensor’s ``.grad`` attribute\n",
        "- using the chain rule, propagates all the way to the leaf tensors.\n",
        "\n",
        "<div class=\"alert alert-info\"><h4>Note</h4><p>**DAGs are dynamic in PyTorch**\n",
        "  An important thing to note is that the graph is recreated from scratch; after each\n",
        "  ``.backward()`` call, autograd starts populating a new graph. This is\n",
        "  exactly what allows you to use control flow statements in your model;\n",
        "  you can change the shape, size and operations at every iteration if\n",
        "  needed.</p></div>\n"
      ]
    },
    {
      "cell_type": "markdown",
      "metadata": {
        "id": "nAmGvYigfWon"
      },
      "source": [
        "In many cases, we have a scalar loss function, and we need to compute\n",
        "the gradient with respect to some parameters. However, there are cases\n",
        "when the output function is an arbitrary tensor. In this case, PyTorch\n",
        "allows you to compute so-called **Jacobian product**, and not the actual\n",
        "gradient.\n",
        "\n",
        "For a vector function $\\vec{y}=f(\\vec{x})$, where\n",
        "$\\vec{x}=\\langle x_1,\\dots,x_n\\rangle$ and\n",
        "$\\vec{y}=\\langle y_1,\\dots,y_m\\rangle$, a gradient of\n",
        "$\\vec{y}$ with respect to $\\vec{x}$ is given by **Jacobian\n",
        "matrix**:\n",
        "\n",
        "\\begin{align}J=\\left(\\begin{array}{ccc}\n",
        "      \\frac{\\partial y_{1}}{\\partial x_{1}} & \\cdots & \\frac{\\partial y_{1}}{\\partial x_{n}}\\\\\n",
        "      \\vdots & \\ddots & \\vdots\\\\\n",
        "      \\frac{\\partial y_{m}}{\\partial x_{1}} & \\cdots & \\frac{\\partial y_{m}}{\\partial x_{n}}\n",
        "      \\end{array}\\right)\\end{align}\n",
        "\n",
        "Instead of computing the Jacobian matrix itself, PyTorch allows you to\n",
        "compute **Jacobian Product** $v^T\\cdot J$ for a given input vector\n",
        "$v=(v_1 \\dots v_m)$. This is achieved by calling ``backward`` with\n",
        "$v$ as an argument. The size of $v$ should be the same as\n",
        "the size of the original tensor, with respect to which we want to\n",
        "compute the product:\n"
      ]
    },
    {
      "cell_type": "markdown",
      "metadata": {
        "id": "nFo-aTpvgD-J"
      },
      "source": [
        "https://pytorch.org/docs/stable/generated/torch.Tensor.backward.html\n",
        "Tensor.backward(gradient=None, retain_graph=None, create_graph=False, inputs=None)"
      ]
    },
    {
      "cell_type": "markdown",
      "metadata": {
        "id": "5odxdvrqnfr-"
      },
      "source": [
        "if you pass vᵀ as the gradient argument, then y.backward(gradient) will give you not J but vᵀ・J as the result of x.grad"
      ]
    },
    {
      "cell_type": "code",
      "execution_count": null,
      "metadata": {
        "id": "Q7ykQmMFniLc"
      },
      "outputs": [],
      "source": [
        "import torch\n",
        "import numpy as np\n",
        "from torch import tensor\n",
        "from numpy import array"
      ]
    },
    {
      "cell_type": "markdown",
      "metadata": {
        "id": "JJEW2aAsnmjI"
      },
      "source": [
        "a simple example where x=1 and y = x^2 are both scalar."
      ]
    },
    {
      "cell_type": "code",
      "execution_count": null,
      "metadata": {
        "colab": {
          "base_uri": "https://localhost:8080/"
        },
        "id": "wTFREg59npN8",
        "outputId": "57b020c8-46ac-424e-e1e5-422c4e0abc69"
      },
      "outputs": [
        {
          "name": "stdout",
          "output_type": "stream",
          "text": [
            "x: tensor(1., requires_grad=True)\n",
            "y: tensor(1., grad_fn=<PowBackward0>)\n",
            "x.grad: tensor(2.)\n"
          ]
        }
      ],
      "source": [
        "x = tensor(1., requires_grad=True)\n",
        "print('x:', x)\n",
        "y = x**2\n",
        "print('y:', y)\n",
        "y.backward() # this is the same as y.backward(tensor(1.))\n",
        "print('x.grad:', x.grad)"
      ]
    },
    {
      "cell_type": "markdown",
      "metadata": {
        "id": "JvgfMBRQnws8"
      },
      "source": [
        "Now manually calculate Jacobian J. In this case x and y are both scalar (each only has one component x_1 and y_1 respectively). And we have"
      ]
    },
    {
      "cell_type": "markdown",
      "metadata": {
        "id": "w6dODUCrn06z"
      },
      "source": [
        "![image.png](data:image/png;base64,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)"
      ]
    },
    {
      "cell_type": "code",
      "execution_count": null,
      "metadata": {
        "colab": {
          "base_uri": "https://localhost:8080/"
        },
        "id": "fWs7x5vnnxMm",
        "outputId": "90bb115c-eca3-46fd-cb06-c5f65bac4ff4"
      },
      "outputs": [
        {
          "name": "stdout",
          "output_type": "stream",
          "text": [
            "J: [[2.]]\n"
          ]
        }
      ],
      "source": [
        "#in numpy\n",
        "x = x.detach().numpy() #input convert to numpy\n",
        "J = array([[2*x]])\n",
        "print('J:', J)"
      ]
    },
    {
      "cell_type": "markdown",
      "metadata": {
        "id": "N0ltJ4xPoJPQ"
      },
      "source": [
        "In this example, we did not pass the gradient argument to backward(), and this defaults to passing the value 1. As a reminder, vᵀ is our gradientwith value 1. We can confirm that vᵀ・J gives the same result as x.grad."
      ]
    },
    {
      "cell_type": "code",
      "execution_count": null,
      "metadata": {
        "colab": {
          "base_uri": "https://localhost:8080/"
        },
        "id": "kV1xVg7roJyX",
        "outputId": "7fb5c362-26dc-40df-eb81-7bf33797cb40"
      },
      "outputs": [
        {
          "name": "stdout",
          "output_type": "stream",
          "text": [
            "vᵀ: [[1]]\n",
            "vᵀ・J: [[2.]]\n"
          ]
        }
      ],
      "source": [
        "vᵀ = array([[1,]])\n",
        "print('vᵀ:', vᵀ)\n",
        "print('vᵀ・J:', vᵀ@J)"
      ]
    },
    {
      "cell_type": "markdown",
      "metadata": {
        "id": "ddwIJQfYoV1G"
      },
      "source": [
        "We can try to pass a non-default gradient with the value 100 to backward() instead of the default value 1."
      ]
    },
    {
      "cell_type": "code",
      "execution_count": null,
      "metadata": {
        "colab": {
          "base_uri": "https://localhost:8080/"
        },
        "id": "5lWM1pXBoZsV",
        "outputId": "fd89d893-89cb-49bf-d8d5-320da70646e4"
      },
      "outputs": [
        {
          "name": "stdout",
          "output_type": "stream",
          "text": [
            "x: tensor(1., requires_grad=True)\n",
            "y: tensor(1., grad_fn=<PowBackward0>)\n",
            "x.grad: tensor(200.)\n"
          ]
        }
      ],
      "source": [
        "x = tensor(1., requires_grad=True)\n",
        "print('x:', x)\n",
        "y = x**2\n",
        "print('y:', y)\n",
        "gradient_value = 100.\n",
        "y.backward(tensor(gradient_value))\n",
        "print('x.grad:', x.grad)"
      ]
    },
    {
      "cell_type": "code",
      "execution_count": null,
      "metadata": {
        "colab": {
          "base_uri": "https://localhost:8080/"
        },
        "id": "YkAtjuNpoeL5",
        "outputId": "4660742e-d588-435a-b9c1-9039b087eb73"
      },
      "outputs": [
        {
          "name": "stdout",
          "output_type": "stream",
          "text": [
            "J: [[2.]]\n",
            "vᵀ: [[100.]]\n",
            "vᵀ・J: [[200.]]\n"
          ]
        }
      ],
      "source": [
        "#numpy version - match with pytorch results\n",
        "x = x.detach().numpy()\n",
        "J = array([[2*x]])\n",
        "print('J:', J)\n",
        "vᵀ = array([[gradient_value,]])\n",
        "print('vᵀ:', vᵀ)\n",
        "print('vᵀ・J:', vᵀ@J)"
      ]
    },
    {
      "cell_type": "markdown",
      "metadata": {
        "id": "7BE52RPYopEW"
      },
      "source": [
        "Another Eample: input is vector, output is scalar"
      ]
    },
    {
      "cell_type": "markdown",
      "metadata": {
        "id": "tYUgcyyCotbQ"
      },
      "source": [
        "x=[x_1,x_2]=[1,2] is a vector and y=sum(x) is a scalar."
      ]
    },
    {
      "cell_type": "code",
      "execution_count": null,
      "metadata": {
        "colab": {
          "base_uri": "https://localhost:8080/"
        },
        "id": "s6PTLuTaowNo",
        "outputId": "82a75ae0-87c3-4973-f5c6-1579321b2c6e"
      },
      "outputs": [
        {
          "name": "stdout",
          "output_type": "stream",
          "text": [
            "x: tensor([1., 2.], requires_grad=True)\n",
            "y: tensor(3., grad_fn=<AddBackward0>)\n",
            "x.grad: tensor([1., 1.])\n"
          ]
        }
      ],
      "source": [
        "x = tensor([1., 2.], requires_grad=True)\n",
        "print('x:', x)\n",
        "y = sum(x)\n",
        "print('y:', y)\n",
        "y.backward()\n",
        "print('x.grad:', x.grad)"
      ]
    },
    {
      "cell_type": "markdown",
      "metadata": {
        "id": "EX-2drhwo1io"
      },
      "source": [
        "Now manually calculate Jacobian J. In this since x is a vector with components x_1 and x_2, and y=x_1+x_2 is a scalar. We have"
      ]
    },
    {
      "cell_type": "markdown",
      "metadata": {
        "id": "Sqw05K_jo4Gg"
      },
      "source": [
        "![image.png](data:image/png;base64,iVBORw0KGgoAAAANSUhEUgAAAd4AAAB4CAYAAABcrJOEAAAMP2lDQ1BJQ0MgUHJvZmlsZQAASImVVwdYU8kWnluSkEBooUsJvQkiUgJICaGF3hFshCRAKDEGgoodXVRw7SICNnRVRMEKiB1RLCyKvS8WFJR1sWBX3qSArvvK9873zb3//efMf86cO7cMAGonOSJRDqoOQK4wXxwb7E8fl5xCJ/UABOgBHWADLDncPBEzOjocQBs6/93e3YDe0K46SLX+2f9fTYPHz+MCgERDnMbL4+ZCfBAAvIorEucDQJTy5tPyRVIMG9ASwwQhXizFGXJcJcVpcrxX5hMfy4K4FQAlFQ5HnAGA6mXI0wu4GVBDtR9iJyFPIARAjQ6xT27uFB7EqRDbQB8RxFJ9RtoPOhl/00wb1uRwMoaxfC4yUwoQ5IlyODP+z3L8b8vNkQzFsIJNJVMcEiudM6zbrewpYVKsAnGfMC0yCmJNiD8IeDJ/iFFKpiQkQe6PGnLzWLBm8D4D1InHCQiD2BDiIGFOZLiCT0sXBLEhhisEnS7IZ8dDrAfxYn5eYJzCZ7N4SqwiFtqQLmYxFfw5jlgWVxrrgSQ7ganQf53JZyv0MdXCzPgkiCkQWxQIEiMhVoXYMS87LkzhM7YwkxU55COWxErzt4A4li8M9pfrYwXp4qBYhX9Jbt7QfLHNmQJ2pALvz8+MD5HXB2vlcmT5w7lgl/lCZsKQDj9vXPjQXHj8gED53LEevjAhTqHzQZTvHysfi1NEOdEKf9yMnxMs5c0gdskriFOMxRPz4YKU6+PpovzoeHmeeGEWJzRang++AoQDFggAdCCBLQ1MAVlA0NHX2Aev5D1BgAPEIAPwgYOCGRqRJOsRwmMcKAR/QsQHecPj/GW9fFAA+a/DrPzoANJlvQWyEdngKcS5IAzkwGuJbJRwOFoieAIZwT+ic2DjwnxzYJP2/3t+iP3OMCETrmAkQxHpakOexEBiADGEGES0xQ1wH9wLD4dHP9iccQbuMTSP7/6Ep4ROwiPCdUIX4fZkQZH4pywjQBfUD1LUIu3HWuBWUNMV98e9oTpUxnVwA+CAu8A4TNwXRnaFLEuRt7Qq9J+0/zaDH+6Gwo/sREbJumQ/ss3PI1XtVF2HVaS1/rE+8lzThuvNGu75OT7rh+rz4DnsZ09sMXYAa8NOYeexo1gjoGMnsCasHTsmxcOr64lsdQ1Fi5Xlkw11BP+IN3RnpZXMc6p16nX6Iu/L50+XvqMBa4pohliQkZlPZ8IvAp/OFnIdR9KdnZxdAJB+X+Svrzcxsu8GotP+nVvwBwDeJwYHB49850JPALDPHT7+h79zNgz46VAG4NxhrkRcIOdw6YEA3xJq8EnTB8bAHH6/HIAzcANewA8EglAQBeJBMpgEs8+E61wMpoFZYD4oBqVgBVgLKsAmsBXsBHvAftAIjoJT4Cy4CC6D6+AuXD3d4AXoB+/AZwRBSAgVoSH6iAliidgjzggD8UECkXAkFklGUpEMRIhIkFnIAqQUWYVUIFuQGmQfchg5hZxHOpHbyEOkF3mNfEIxVAXVQo1QK3QUykCZaBgaj05EM9CpaCG6EF2GlqPV6G60AT2FXkSvo13oC3QAA5gypoOZYg4YA2NhUVgKlo6JsTlYCVaGVWN1WDO8z1exLqwP+4gTcRpOxx3gCg7BE3AuPhWfgy/FK/CdeAPeil/FH+L9+DcClWBIsCd4EtiEcYQMwjRCMaGMsJ1wiHAGPkvdhHdEIlGHaE10h89iMjGLOJO4lLiBWE88SewkPiYOkEgkfZI9yZsUReKQ8knFpPWk3aQTpCukbtIHJWUlEyVnpSClFCWhUpFSmdIupeNKV5SeKX0mq5MtyZ7kKDKPPIO8nLyN3Ey+RO4mf6ZoUKwp3pR4ShZlPqWcUkc5Q7lHeaOsrGym7KEcoyxQnqdcrrxX+ZzyQ+WPKpoqdioslQkqEpVlKjtUTqrcVnlDpVKtqH7UFGo+dRm1hnqa+oD6QZWm6qjKVuWpzlWtVG1QvaL6Uo2sZqnGVJukVqhWpnZA7ZJanzpZ3Uqdpc5Rn6NeqX5Y/ab6gAZNY7RGlEauxlKNXRrnNXo0SZpWmoGaPM2Fmls1T2s+pmE0cxqLxqUtoG2jnaF1axG1rLXYWllapVp7tDq0+rU1tV20E7Wna1dqH9Pu0sF0rHTYOjk6y3X269zQ+aRrpMvU5esu0a3TvaL7Xm+Enp8eX69Er17vut4nfbp+oH62/kr9Rv37BriBnUGMwTSDjQZnDPpGaI3wGsEdUTJi/4g7hqihnWGs4UzDrYbthgNGxkbBRiKj9UanjfqMdYz9jLOM1xgfN+41oZn4mAhM1picMHlO16Yz6Tn0cnorvd/U0DTEVGK6xbTD9LOZtVmCWZFZvdl9c4o5wzzdfI15i3m/hYlFhMUsi1qLO5ZkS4ZlpuU6yzbL91bWVklWi6warXqs9azZ1oXWtdb3bKg2vjZTbaptrtkSbRm22bYbbC/boXaudpl2lXaX7FF7N3uB/Qb7zpGEkR4jhSOrR950UHFgOhQ41Do8dNRxDHcscmx0fDnKYlTKqJWj2kZ9c3J1ynHa5nR3tObo0NFFo5tHv3a2c+Y6VzpfG0MdEzRm7pimMa9c7F34LhtdbrnSXCNcF7m2uH51c3cTu9W59bpbuKe6V7nfZGgxohlLGec8CB7+HnM9jnp89HTzzPfc7/mXl4NXttcur56x1mP5Y7eNfext5s3x3uLd5UP3SfXZ7NPla+rL8a32feRn7sfz2+73jGnLzGLuZr70d/IX+x/yf8/yZM1mnQzAAoIDSgI6AjUDEwIrAh8EmQVlBNUG9Qe7Bs8MPhlCCAkLWRlyk23E5rJr2P2h7qGzQ1vDVMLiwirCHoXbhYvDmyPQiNCI1RH3Ii0jhZGNUSCKHbU66n60dfTU6CMxxJjomMqYp7GjY2fFtsXR4ibH7Yp7F+8fvzz+boJNgiShJVEtcUJiTeL7pICkVUld40aNmz3uYrJBsiC5KYWUkpiyPWVgfOD4teO7J7hOKJ5wY6L1xOkTz08ymJQz6dhktcmcyQdSCalJqbtSv3CiONWcgTR2WlVaP5fFXcd9wfPjreH18r35q/jP0r3TV6X3ZHhnrM7ozfTNLMvsE7AEFYJXWSFZm7LeZ0dl78gezEnKqc9Vyk3NPSzUFGYLW6cYT5k+pVNkLyoWdU31nLp2ar84TLw9D8mbmNeUrwV/5NslNpJfJA8LfAoqCz5MS5x2YLrGdOH09hl2M5bMeFYYVPjbTHwmd2bLLNNZ82c9nM2cvWUOMidtTstc87kL53bPC563cz5lfvb834ucilYVvV2QtKB5odHCeQsf/xL8S22xarG4+OYir0WbFuOLBYs7loxZsn7JtxJeyYVSp9Ky0i9LuUsv/Dr61/JfB5elL+tY7rZ84wriCuGKGyt9V+5cpbGqcNXj1RGrG9bQ15Ssebt28trzZS5lm9ZR1knWdZWHlzett1i/Yv2XisyK65X+lfVVhlVLqt5v4G24stFvY90mo02lmz5tFmy+tSV4S0O1VXXZVuLWgq1PtyVua/uN8VvNdoPtpdu/7hDu6NoZu7O1xr2mZpfhruW1aK2ktnf3hN2X9wTsaapzqNtSr1Nfuhfslex9vi913439YftbDjAO1B20PFh1iHaopAFpmNHQ35jZ2NWU3NR5OPRwS7NX86Ejjkd2HDU9WnlM+9jy45TjC48Pnig8MXBSdLLvVMapxy2TW+6eHnf6WmtMa8eZsDPnzgadPd3GbDtxzvvc0fOe5w9fYFxovOh2saHdtf3Q766/H+pw62i45H6p6bLH5ebOsZ3Hr/heOXU14OrZa+xrF69HXu+8kXDj1s0JN7tu8W713M65/epOwZ3Pd+fdI9wrua9+v+yB4YPqP2z/qO9y6zr2MOBh+6O4R3cfcx+/eJL35Ev3wqfUp2XPTJ7V9Dj3HO0N6r38fPzz7heiF5/7iv/U+LPqpc3Lg3/5/dXeP66/+5X41eDrpW/03+x46/K2ZSB64MG73Hef35d80P+w8yPjY9unpE/PPk/7QvpS/tX2a/O3sG/3BnMHB0UcMUf2K4DBhqanA/B6BwDUZABocH9GGS/f/8kMke9ZZQj8JyzfI8rMDYA6+P8e0wf/bm4CsHcb3H5BfbUJAERTAYj3AOiYMcNtaK8m21dKjQj3AZujv6blpoF/Y/I95w95/3wGUlUX8PP5Xx5ofIiAazPiAAAAimVYSWZNTQAqAAAACAAEARoABQAAAAEAAAA+ARsABQAAAAEAAABGASgAAwAAAAEAAgAAh2kABAAAAAEAAABOAAAAAAAAAJAAAAABAAAAkAAAAAEAA5KGAAcAAAASAAAAeKACAAQAAAABAAAB3qADAAQAAAABAAAAeAAAAABBU0NJSQAAAFNjcmVlbnNob3TxS3wuAAAACXBIWXMAABYlAAAWJQFJUiTwAAAB1mlUWHRYTUw6Y29tLmFkb2JlLnhtcAAAAAAAPHg6eG1wbWV0YSB4bWxuczp4PSJhZG9iZTpuczptZXRhLyIgeDp4bXB0az0iWE1QIENvcmUgNi4wLjAiPgogICA8cmRmOlJERiB4bWxuczpyZGY9Imh0dHA6Ly93d3cudzMub3JnLzE5OTkvMDIvMjItcmRmLXN5bnRheC1ucyMiPgogICAgICA8cmRmOkRlc2NyaXB0aW9uIHJkZjphYm91dD0iIgogICAgICAgICAgICB4bWxuczpleGlmPSJodHRwOi8vbnMuYWRvYmUuY29tL2V4aWYvMS4wLyI+CiAgICAgICAgIDxleGlmOlBpeGVsWURpbWVuc2lvbj4xMjA8L2V4aWY6UGl4ZWxZRGltZW5zaW9uPgogICAgICAgICA8ZXhpZjpQaXhlbFhEaW1lbnNpb24+NDc4PC9leGlmOlBpeGVsWERpbWVuc2lvbj4KICAgICAgICAgPGV4aWY6VXNlckNvbW1lbnQ+U2NyZWVuc2hvdDwvZXhpZjpVc2VyQ29tbWVudD4KICAgICAgPC9yZGY6RGVzY3JpcHRpb24+CiAgIDwvcmRmOlJERj4KPC94OnhtcG1ldGE+CgCXWJUAAAAcaURPVAAAAAIAAAAAAAAAPAAAACgAAAA8AAAAPAAAI5UF/wIoAAAjYUlEQVR4Aezdd5glRdUG8N4lIyaCOeyigkQjCKKyZkHBAJjDYwDMfpjA8KePCuYcASOYc84BFMygAiooggoCCiIgcfnur4YzWzT3zgwzt3vu7p7ap6dvpwpvnTrvOaeqe5dcPUhNpkQgEUgEEoFEIBHoBYElSby94JyFJAKJQCKQCCQCBYEk3hSERCARSAQSgUSgRwSSeHsEO4tKBBKBRCARSASSeFMGEoFEIBFIBBKBHhFI4u0R7CwqEUgEEoFEIBFI4k0ZSAQSgUQgEUgEekQgibdHsLOoRCARSAQSgUQgiTdlIBFIBBKBRCAR6BGBJN4ewc6iEoFEIBFIBBKBJN6UgUQgEUgEEoFEoEcEknh7BDuLSgQSgUQgEUgEknhTBhKBRCARSAQSgR4RSOLtEewsKhFIBBKBRCARSOJNGUgEEoFEIBFIBHpEIIm3R7CzqEQgEUgEEoFEIIk3ZSARSAQSgUQgEegRgSTeHsHOohKBRCARSAQSgSTelIFEIBFIBBKBRKBHBJJ4ewQ7i0oEEoFEIBFIBJJ4UwYSgUQgEUgEEoEeEUji7RHsLCoRSAQSgUQgEUjiTRlIBBKBRCARSAR6RCCJt0ews6hEIBFIBBKBRCCJN2UgEUgEEoFEIBHoEYEk3h7BzqISgUQgEUgEEoEk3pSBGRG4+uqry/UlS5bMeF9eTAQSgUQgEZgbAkm8c8Npou666qqrmssvv7y55JJLmosuuqhZZ511ms0226zZaKONxl7PIN7YI2CbY1sQcuzHXoHVLMPAaVS1A6e4L45H3T+J58nfFVdc0fzvf/9rLr744iJ/N73pTZsNN9xwEqubdUoEJg6BJN6J65LhFaoVNYX3r3/9q/nb3/7W/OlPf2o23njj5l73uldzm9vcZvjDCzirXBtlKyF5ZOHYeb9tS5cunSbhBRS3Wj8Kj5UrVxZcoiFwkZwPnBy7V3JupjTb9ZmeHee1ur6XXnppc/755zdnnXVW8+c//7kQ7j3ucY/mlre85XWKjOeuc+GaE5PSvlH1y/OJQBcIJPF2geqY8wzlFZ7uP//5z+b3v/99Id7//ve/zS1ucYvmfve7X3P7299+zCVPEYTyZyNeCjS2sVdiNcgQRvUWVYZJnPeb4SIh4mbAvUuWTuEW97f3npmEpA2S+jD8EC+j76c//WlpE/m7053u1GyyySbN+uuvP13leG76ROvHpLSvVa08TAQ6RSCJt1N4F555rbgovH//+9/NCSec0Hz5y18uoeZ73/vezV3vetei9ISbu0hBHPKmKG31uVImvTzgiLhezq0lf2ARnm7t+TsXBgtcXAsPOM7X9w+Dy3OTlq688sqG1/u73/2u+eIXv9hceOGFzT3vec9m++23b+5whzs0m2666bRHP1vdJ7F9s9U5rycCC0UgiXehCHb4fJAbJW07++yzi6f761//uvnZz37W3PjGN2722WefRpivPcfblUKLOtlL0+VMHRbyrc9PXy93r3l/Ao/iwQ6aVxOpc+ZCpXXXWbdZus6qcPwwoi43tv5MGn51e3m83/jGN5rTTz+9rC9Yvnx5wxBctmxZs8EGGzTrrrvuKvlotSsOJ619Ua/cJwJdIpDE2yW6C8ybkqOgeRdCyjzdz3/+883f//735ta3vnWzww47NLvvvnuz5ZZblvAepR+EWBPAAqsx/XjUR50YAgPft4QZlcXbFTpdefXUHOfSJQOSuSaMuqYq18ADQNFG2MSx30G8wq8xP+569FO5eYY/ke8Mt/R2SZ1Lva+JblxwwQVljveXv/xl8+1vf7tZb731mr333rsYgje/+c1L2Fn9Z2rDTNd6a1gWlAj0jEASb8+AX5/iQrFbSHXqqacWL/frX/96UX4PfehDy4KqO9/5zsXbDaUYih8Zjot8I+8IdVvJKtwYm9Wsm2+2ebPJDTcpXg6CWVuIN0LGMXfrGE4X/ufCsuL30ssuLTjB0KpzkYkb3vCGxVCKZ2aSiUkgJnWPVH4PDtXriiuvKG1EvB/5yEeac845p7nb3e42vVnsh4xnaucktC/alvtEoC8Eknj7QnqWckK51YrIOVuE9H7729+W1cy3u93tmkc+8pHF4w0lLvvwRP0O4h0H+Ua+//jHP4rXzeO+7LLLihd+3nnnNZttulmzy667NFtttVWz+eabl1XW0Y7Yq9OalvRNm3hhdfZZZzcnnHhCc+YZZzYXXXxRmQPlHcJml12mcELAG2+08ZQ3OMM07mLjFzKo76brMiBe50U3tNfK5u9973vNb37zm+aMM84oq+sf+9jHNne/+92njYxRfT+d56gb8nwisAYikMQ7AZ1KiQ1LPEre5a9+9avmqKOOas4888xm+WAejUJ70IMeVH57Lp63DyKg0IJ8F6rcgni9PkK5ImDvEVvoRdHyaJDudtttVxZ6WWWtzHa56hd1bV+vzw/DYhLPwcUmhYGjHebiTQvoL/0nYgEz3t/WW2/dbLvNtsVoKjhN+KrmYX3WPqd9p5xySnPsscc2X/rSl4o8IN7ddtutWTaY773JTW4ysvvaMjLyxrXwQhvnxGrhQgDTOi0Wpkm8dS8swu96cCk+BINAmNelvI855pjmE5/4RJkvfNSjHtXc5z73KUQXq5jjmdhHM+QxDsGKOgqhXnD+BSWUOqDQQihC4LHd6la3ah73uMc1O+64Y1G+yKhOSCrmPJFQXI/83TuuOtfldvE76nz1yqmBHPPZyjIn/5///KesOtdeBgqv0Hbaaac1cNpv3/2a7XfY/jo4RR9Gv7WPu2jLbHkOq0Oc86zoh5XNxx93fHPEkUeU93uFnL1bbg0C8o32RFn18861r8d9a/M+DF4YtI3owC9xm7uEwKwYyobsIMoEu9jmnst47kziHQ+O886FMMQgkkl97AMZ3pP8yU9+0vz4xz8uocr999+/eBJe2TBnGAMv8ojjeVdohgdL3SqiQS5WtKrfZz/72eYGN7hB87znPa+sbFU3q1rrVBOva7WXWOrfGhD1s5P2O+obuNcDOepa8Br0rzCzvjzuuOOmcXrOc55Tws7mx2MOdFjfRf61gqjPRVmLtY+62PPyP/rRj5bXjLTJ60VW3VsEWC8u05Z4Luo9rO1xbU3e1zgEBs7ZRJV8mU5qvx/tXC0TjjMNR0AUkAFM/8CV3qF/yOhiYZjEO7yvej1bDz4FB0EJ637sYx9rvD5EcCiwpz71qSXUTJHV5NVHhUMhRFk8HaTCKHjXu95VTiPe+973vs2wTwh6PoTfzYS+Tb6BRZyPsiZtH/Ws6xWKM865x6CPVelCse95z3vK4D/wwAOLASUM69UbKfCI3/G8Y0oCJs5F2YulNNSnndSJEfbDH/6wGItkdosttmie8pSnFM+XoegLa9GO9vNr4/F0X7YMTmOE3DBsrafQz9Z13OhGN5ry2AZgkQVbptkRiAgUQ4b8GW9hyLTH7Oy5jeeOJN7x4DjvXGLwhQDYx+phivoDH/hA89e//rWxetmc2V577VXCzJ5zb1ht867A9XgQ+ZuzVD/CbA5aHX7+858X4qUseOS77rprWVTDMEDOFInfvDuLwYSZPVtC1wPilgeiDg/e8epCvOoaKfoyvqPtW9raCBft/8UvftG8853vLMfPfOYzS2QA8brmvrDKY/UzBRE48XzgiLzgONf3ZKNufezN9f7xj39sfvSjHzWf/vSnSztjamSbbbYpRJzEu6onQl68hldHTMjNueeeWzZfqdPn1k8wZMiSlMRbYJjTH3iSTRtHwfjyCiZjcLH0TBLvnLqum5sMvHoghRK3UvgPf/hDUWCf+cxnikLec889y2chzZ15R5ISlvpUZCxwi6lY4RYQqTvC/Mtf/lJCqOryhCc8oYQY1S0UCEKhPHzLd9ttty3PIG55ISNpp512am5729tOJKGUCs7hT3gq5nQZSxZU6UvJIDfHa64eTk972tPK156QKNK1cM1zMNO/jBd4IXH5WNEOM58FdZ4ShmnIzByq1+ktZDkiINYk8Oz1r/l+axLIr09Kqq/N/dKk1L9TcGbIPHCIW+Chv40Le8fWBMS3sOP+wC328Xzur4uA8YV06VTODKP1YQ97WFnoONvrbtfNbTxnknjHg+O8cjGI2sTrHCITshPCNcfrNRSKWgjXIBQmqYm3q8EX9eNteUeT9Y10fac3PFkkgmS+//3vlzleq1nN7UlhQBB6dbzjHe/YeP9Y2MxgiE8OIuaHPOQhJZQeIcl5AboID8EoNguM4GMzp8tQ0U/azqs9fRCK/da3vlX6TwiWMkW8nrNATb9bTKePH/OYxzS8RBY5wvaBCriz1BFYvLrVVd9fXygDA/IsAvL+97+/rICn5HzSlEFmNT5vg7JzvzQp9b++7R33/fBgZIkoeX1Q1ID8LB+8xaC/I2IQuEX5iV8gMXwPL7rKGKNvvva1r5VjutTUnQ8RCeH3nZJ4+0a8Ko9QxEAygPymuCxS8frQ8ccfXyw1XuKzn/3s6cU4lLjkmS4HnjAnLwspIFYEqzzeFkWgvv6zBvVlod/sZjcrc9A777xzEWZe3A9+8INyD9IWLj9g/wOKF3TJ/y4pz3z4wx8uq7cRr+/9Imfk22W7qi5Y0E/tDy/XPt63hpfwIc81Vi573ebEE0+8Fk5W/Qo1M2xOOumk8toYi1z7GVre+XUdYVu8xoNkhJEH/ynBsiGrhRfUoAU+DA8bz+IrX/lKMRqFnnnoVrv7nKSPaiyGoltg03p5XMSDDBlT5sgtVuSZCTPDjBEDX2l1GB+9gDZDIfX4pFcZsBwa4wl+jNgHP/jBZT9DNp1cWhTijQGqRQBYm4WoHkgxh2r1K49BeNGcqLCjOUEeQ9wf0jAu7CLfOj+vMwl3eY+YpchzZX3zaHlrLEnEyit3D0/tWc96VgktIgjh6O9+97vluoViBP1lL3tZIRSkjqyPOOKIYo3yhIWba+JVp4gI8KzVbVg9A4u+9+qCcCMiAAOf9Dz3nHMLTjvsuENpkzaIXjCk3OP93ac//ellzp4RA0dKwT2f+tSnygpg172Kg6j0gf+MgMLwfW7vAt///vcv3lBgMkk4RaiUkvMtZ177wx/+8OmpEkScaRUCYbyJeBhPDDcG7/KBtws30Y1IkyT/Uadx7sfZvhif6mecmDfn9XIUjEPTZPvuu29zl7vcpRg5fUZiFoV4CRqSkTTWwIw0TuAjz0ne1+0VZuIZCjMdfvjhxcPhWQqLROhRWzxTPzdT+wjcbEle+kSqFxvEKzD+QwafBaz/UwaEIZSMLMzpeaWIx8szV19em1AZy117EDcyfulLX1qu6/eTTzq5OeroowrxmAM0AOpQM3JGShJrH/nW7Z5L28rDHf5RH56o9iNWxgQvdd999m122nmn4vXyZBgnsKJYvX9tVTOvFY4iGLBCVG9/+9tLuFFo1nX/2w9i5wlTHPrAPK+5UwQuxQIsv4Vy+8Sp7g/lOxbWIzvaw7AyTRHv9PLgGFfxnGdmSpPQxzPVbxzX6EJz+2TH61gWAOl7xq3oBhkZd2rjPwk4q9MwPTTftssv2ql9dIlxZirk4x//eDFuGDYMfmPK2Krv7xKTRSFe1jllIY0iXte6bLj8JyHVHU2xnnzyyUVh8XwoXAOQ5xMejjoXgVo5EKrBPxjNhNNM16L98hvmMQl/Wp3KW2UUCBU/6UlPKnN2+s18pBA04kUsPN7nP//5xePlqVMmPDlkQ6GYz3zhC19Yrguj8eC++tWvlmogXvkjWLJhgCAsSttzPG2kvPKqykAYfPVpMVPphwF2rGiLpljR2kxZxmtfcDLni3QZILAQgvbalb5ldXs1TJtdf93rXlcI1idBLUqSF+9HFIQ8LBuEl82R84RhheREIniZjmGI2Gu5mosMzAfHKCOeVY5z5ipFS7TnrW99a5Fpik174cLAmmvqqu5zLb+P+8JQYbwdffTRRSeKeAjNl0+LDhbRjTtF340iurjeNf51OX4XPTSIphcHYDC+F1p+5F/jxxkwxcVgZgRag+CNEeOqvcK8fm6cv3sn3gBChwM1trpRcY9zCwW+znfSfws1+eYthYXMEM4jHvGIorCEmSNEBx9fTBon8dYDEE7KoOzf9ra3lUU/PCxztytWrCghMF6VrzD5Txt4Y8LiQskH/d9BRYjXW3+9soCKB8/zscrVoBIy5/1YIIZUlYEwhJp5d/rbefmZExUW4tlZjGQxxPTAXGd8/wnEfOUCZurD6EAw+k8dTQ088IEPLO2hQOD0zW9+s/SpNgkhHnTQNThdE/GBtz4/9NBDywpnnwSleK1iR7giBsqSLyOEbFhsZe4YRqx4npG5YYokUlfjJ8Zo7KMce/VkSDA23vjGN5Y+ZoAwJF784heXdtVRrqjrsH3kO+zamnKujizFVIRxwhPTz7GmY9ztJb82fRhTOfB2XOuDrvpAOWU8DxqmfKnUZ6DbJF+DqyNw5eT1+CN/GzKVV6TQsxwK5LtsYMzSL8ZNjUPc38W+N+ItALRaMFOHxv0z3dPKbrU/DM8JUVlkYcXdk5/85OLxUta8I+laAjUYKM0qmboOBrPhV+clH/cbDJddelkhzEMPO7SElB/96EcXA8D8rpCy59SXZy4MzWrffrvtmwMOPKAskpIPzydCqIiJ1/zEJz6xkJMBZmWzsBpPFhnzmJ2Pbx0jdHOEiPcVr3hFUdgRKTFAFjIorwPUPE6oizbwYg877LBpT1WEAmGqt/YwIj75yU8WnHiCyFmoWSgxEjwR+Fve8pYSSWDkUASmGuCIWIWRLUJj4MiXgWIhDsI2B8yTftWrXlX6abZ+j3Lnu1dfKfZ1eX47L/QudE6eGQnaa46f8dZe3TyqHnW+o+5ZXc/rQ2NNH1obIMLkWJ/H2wFdyrg+CuKDc2zOR7/2XT6SLOUPfqjPQsov+VQOCjmRpwhR/W1xToDvDzB06Viy2XXqnHijA2Ov4XVqH9fX1rbf5lJ9AYoiJxy8TKFZisq8Ies3UuAZx6P2M+Erjxh4tYALlwrzUpg++CDUySJUDwaAMLL5Et4qT5ZHx1u1CnfvvfZuttp6q1IdxOQ++bzhDW8oJLvffvuVMKkwNU/Xik3PIl35qpPyzR8j3iOPPLK8r/ryl7+8eJJR3yDeUe3u4zzSRSj6C8Got7lZOPFK9RnSRKhwtGjGQhkesQ+hWCQlaTMljFzf+973Fs/ZNeFkoUaKgdeDyLfbdupDCv5noMCJZ+lDK8L3r371qwvxdtX+tty1j0Pe7HnivrwGH1MODAZrAODDSNCu9vPtekd+7fNrwnEspiQfFlN6C8DKfuPIOgmhz67bD/96g6sy661LrJVN9m1SrYeiDvMtv26X3/KTP31Gv4ksvvvd7y4RJWtoTIV0NafebkOnxBsND0UuZEYRUcY2ShQYkYAiJGWjlCli4TMKZU1OcDAIeS5vfvObC+EQRAr6JS95SRmE8IhwTI0FjGdKNb7t+zwbRFYLvP5C/EG87mER8uQQpDyFkNUXMfJ2hYqFEnk1QuLy1gbPEnAhVGRLuBGIZ9z3gAc8oJCRj0Hod8kz5MOcl1C3dvOUWKTt+s7UvnZ7x32MeOGEWBAr2RYijNXI6m3ePohRmy3moFR5xPXUAaxi7sk8v9dHLPZA3hSwSMOWy7cs0QZYId4wbPSDiAL8XvnKV5b8x93WyK8tb+3juj9EbbxWRI5ERXgTPDn4mIu22K6+P8qo97Ndr+9d3X7Th8gWPu973/uKzIsIMUwYboyuLlNEbIwpskNebXRBrQ+6rIO8Q0+QJf0d49/viIzMpw7yC/mMvXYp74rLB/r22GNKhEm4WVjfPC99xLnoOnVKvBqocy0uMfBY/BQ2ZcTioLjqFGRL2RA6IReDdNmyZfVta9RvAsECo5QRFM/J3AOli8jiY/oGBqEJAQqFFMejQIn7Rl33fOQR9+oz5EshCKEiFJ4K0hRmVlckweN1D5Kw6Iqh4DpDSV7yJQOIAfF6hrLVnzxdi2wQtS9WxUf01dPAUyaPF6FQBjxexBv1tVdGnwqijaE6Cp8jXnOZjKfnPve5BSfyCyd9CSeL0Mh1LJoRXq9DWtoTUw08X4QOE1jFfwNZ5nY32LC0+cqrriw4KZPHRG54xXCiQLpK6lmn9nFc0zcUmj4kI9rv3hUDUmF4xGIWfRtyF8/W+5mu1fdN+u/AqW6PqQJ9Tn68p83RiAgXI0WEq75/3G007UE3G+/KUz6ZrOeUuyw/2gMbm3FPntULNmRjIe99R77KiXbYWx+jLJx0+BGHl1C/ttNF9Zf3on5d7HsjXosGxNUNxnhJHLiAQCo6XPhJ2NHc5tpEvBS0VakUlJCh0C0vB9HFYpmwRNsDOI5HCUcI3KjrzrfzcGwwIox3vOMdhQS8BoIoRSCCeIUPEYQVq+aAeWXIom0gyIcnb85PO4RReX7mMVmXSCgUsPrGAAzilV8Qb9QXobt3MYlXPXnmiE/IStjZ6mxTBBSZ+W2LqSzmEDoXam3P3QX22uLDE+ZqtduHJxiiMEJSYYC636ZsfURRwZfHTWGKkDBQ5tLvM8nEqGtR37jePo7zyje+zW8zKL/whS8UY5vBxaC0apthHf0ez7X3XbWjXU7Xx4FTtMcxuUC68NHnDFBybtyHIRr3L7R+yiMvjHzERlZ52+pAzsis8hEQfVzXdxx1kJ8t8oq9cwzYqBPHjNxwzugFxjzynW+q2xF5RF3MrXtrw2tcyiOP1l4Yc6Fv45lx7zsl3mhgzIUBVLjRXKbFBEJqEu8O0bDsLR4xD0bweFJrQ6hZpzNKDEKLcChpC3AoW4RGIAiqbZggLUQoIr92HojNYg+WOEIwGPVThJotgHKOocQTi7kRROhZxCAhA0aXuWAkJExqkJtTQeS8Y30d9QjS9jxlhLCdi1Bzu54xgNvn+zjWTsrMAEYscFJXyosR6bfIDs8F6TI44CQqEH0Z7XZMCfo0JCLnCVE8/pMByoeBAn/3xzNIlyJ1v7UB+qMm3q6xiXrUWMc5ZTM8GNoMSq9vMCjhQq59aIWHEWlUXUedj+dWh33dZ9EesqOPKX7956twxrlV3wwt44b8jCMpX3nIzbjl+PD26BweL8P58Y9/fAm3kjFE7H5JHaLO862L8o1ne3nZom3KYbyrEyNNvazyJtt0YDgeCynbs+02qIsIbLxtIBoHhxe84AUlIkMvGU9dpU6Jt660hlrBSsAQjIEoDCfxcMXYVwzCUPExdfdLbcDKyTXsD+FnjMDF6zmUKWULD580Q26Bw7hxifyGQcoLF/ZEKKxjieJEJIwpUQnkuWwQDhVGdV5+BhNC8tsA088f+tCHmtMH7+0iEPOb3kv2XDtpp+eGEW8dQg082s/3eRz1hBOFASdKQ90ZjGUudoAFomVsGNgUG5wkz9us5GyWNNOvHVHIPBIeiNfJRBKQ+frrrTJQ3A9jUwIMFMRLWTNQdrv3INQ8uA6jrnEq9S+tmfoTx8oNgxvx8sgpN5jw6LxORcZDsY+q56jzVZET/7P088pr9NngtRbjg5dnbPlQDsPUOQurTOnwuAKXcTTOdAinhzeJeMkXL5vjg/TI5ote9KJiEEWImwxLs0Uk5lI/7Q/idX/BY3Au1pJwxowd8mFdB33IGBcZYUiSk/mmWh7bedRTId/5zneKoQt/hiE9Z/FfV6kX4g2gzzv3vObkU1Z9IIKnIFlowbJHNBS5xTdrUxKy1fEUlPlQwm6SHx7mwyjsrlII5rD8Q3Hy2hCBexEHS9BAYhkjXwLqnHpL0d+IgYJBvL49LT+LsKKPWZXupVxjgFNA8vasQcjjRSgHH3xw8QSivp5ZbKUc7QycYMS41AaYwIcCNY0CN6RT41Rj5RkK0f9GRUnyjHlA4SHDZ+mSpQXfIFUYKTsWV8HJa1cMlMBpnAp8qvBr/41yrn126kg/6n9y/frXv770p3aoH8+ObDNC1HtUX446P6y8ST1X5CSIdyC3l18x9R/c6zcGE8+TkYVoLK5ChONsN2cH0dIzjHqEI7yK8PQPwu+SePULDMi4vTLJbdRDvegY9Qyj05hBgBHBmW/fhnwOw5MRQjeRT1M85DAW/xl71qN0lXojXqCzZHS4hvLshBckISehJ0TD+2XdzwRYV2AsVr4sz8997nMFF+FYIfY999iz2X3F7sX6hUlXKXCeKX9hH9apPqQog2Ap9UIIg71kvlM4y70GuL2Vm7xAYSTt2mOPPUpoOvJQvkFB6CVlIBRl8uS81+reQw45pCim8A49M2wwlUx6/BP42as3DLRBe2yIFk5xn6oFIfFEKBw4OUcRmgf33IrBWGCQlkVYG2606vnKkw3itWoaTp5DvBS4Okiw6xKnul2lwNYf143317zmNSWi49jrMjxeitVYZ6CMquOo861iJvpQmy3oKWnQf0jHdBJcEK9+N80Gj3jNbJztRmhkBNFJpw8iTz7Ug/DUzTv0XROvcpVFLoN41UukyN4YUC+RP1NvjFR4jJpikt9ckjKlYXgae8LN+oFjYDyKMCqXl80Y6ir1R7yDT/2detqp056deQ0KGSAaybKhbMJ7qgEbBlpXgCxGvhGKFWomhDz+viIAgfOodsdgoeT9RiLhRcXes/qIMhEy0gahace8QH3KgjTHaT542Gsk0cfKCALjEQTxWnTCQ4oy4/5R9e7rfMFvMLYLTldPvY9IudjUNYjXcbl3UDFGCVwoPuFGBqnrjBpEu3z58vLxDAaX8HIYKeHpRtsZJ22P95CDDykepdeN3DcJxMvbQrwUHANDKNWnRSm4YlgMvJtoU7vfRp1v3zfJx/o9+l49LU5EtnDxLWsEQLbhYdP/IefjaBdSQ2b2EufH++JILvqjD+JVdhknA1lXrvoYBzYYqJdPr4oAhMdbpk4GEZIuEqdA+J3erd+j1gcx5dlFufLsj3gHYAstC6UZgLw8gFM25nx8PD8WFRhsFJE0TgEsGU7gHwOA5UsAkNWyZcuaffbZp1mx+4ry38qZI+wq1QphWBmhNGLvHv1Tb3GOEPtogr5lSZo/8hxFwpIUNo3FG1FWKNaoh30oinj/lSdn0QM5CQ8pnl/sfV3v8MadYzxI6l7Ls3PIEjbCahZ38ERY+BYYmv/m6cZ8sLwGaA9AX4W7PCQWOszh9MEPfrCQfHwLW34R6g6Mp54a799o/7BcXbOpn9fJjHvGgi9yHXDAAaU/vcvMMBtVx1Hnh5U3qecCh6hf7Wn5NjN5Nz7IN+/TKt4uDSb98drXvrboG/3RV6hZ+0Neol/ttT8iABZhmvPGCwiwy9fjGMDxZT3fC7D4z9hTrpCzFfhdpc6JN4DWAIBSEAZgWPm8Ow01EAlAdAiLSOpSAEsBE/DHXOab3vSmgotQrQ93TwTxXuPJTSuOgfJnCEnRr7VhFAqF18vIQj5W8/JyebsMiNoDlE/9vDz1OzKJ11DMvSAQX84iJ4wSC0AihbzE8WLtA48oPzCzV8e6nkJtSNOqcZ/ERMKMEziJDCAjFj+sIrXzcF5UwYIU48mHKuDkE6MUONzhVJcbeY1z3253nbdr+pN8i1xQ+JSdNprLVE/tnqmeXde/ru9cfkd7r0+9PFN/W533aXzweL01gPy8XgcPhpc3B8al96K+ddtM4fiSHEOfESjM3aXHqw4R8Yn6hDwb/2SC7iDHHBA8QZa7Jl64I304wIPDYCHrikHk1Tgy195V6oV4gW4Aet8QsATOIhSWblgY/qNsFoYO0Tk18Yaynw0Ez1BqALUp9/oMkNnyd13dKMRxLjenkPyvNATPHCFM4MHjLZP8W3Qzya8tMRC0LTyraOf0NQQ8+Of60nWmiHdYRCI8MGE01qN+Q7jmSiKkGHkPe155zltcRDHxng1CKxwNhnoFtXykcffvVK6j/05jMkvZ7otNbmFgOBdyytM1p2vwI0oeb3uNQ9QkFFUc21scAiNTFTbKivKGUxBvfX8Xv2s82vlHW7XRe87knIehbv4fVHUl68OmHiKvufQvAw+BxJhX7lyeizJm2+s7RCh6AWO/pbmWoT418cYqeOPdWhf5e68Z0XiFJl5Fm2v+M9V/WP+EoY9wjFlkv5jES+eJfsLDdwP6Il7jUNlwsPjP+hq6iq55xjOeUXCZCduFXPt/AAAA//8u4g+UAAA0sklEQVTt3Qe4bUdVB/CdkBB6kCSQhAD3USQQqhRBBR5Ix4Y0ISgRoolSFBQF/JSPolE/BYLSxIIKAoZiAamhC1JEUiAoLUgNCoSWkIr7N+/+r/N29jlnn3vOue8mb8975+6z97Q1a2bWf601M/vs8702NCsMij///PObc845p3nPe97T/Mmf/Enz3ve+tznvvPOaQw89tLnDHe7Q3OUud2nucY97NDe84Q2bfffdt5HnwgsvLFTtt99+zT777DORwjru3HPPbb72ta81Z599dvPNb36zueCCC0p5dZqJBU2IuPjii0sMuoSLLrqoOfDAA5vrXe96zdWvfvXybNE/73znO5tnPOMZzTve8Y5Gfbe4xS2an/3Zn2127tzZXP/612++7/u+b9EqevPjs/pc8aj823efcq+dQtrdGCVtN+ReHqHkW+8ffaZf9fW3v/3tEnfVq161ueIVr9hc/vKX35W3zfY9he3K3uzT1tcNyvjGN75RPl//+teby13ucs0hhxxS+H2lK12plNXNk/uaLs9yn/juddbYSH7pfM94SLv78ktX8mlj27ykTd3i8BefvvrVr5bvV77ylRsfvDLmS/42g6t+STkpwxWfjPV88Onggw8ufFIWnndDyg3due+my33S5X6eq7J9/v3f/735sz/7s+Zd73pXc9ZZZzVHHHFE85M/+ZNl3hvr17rWtS5R7Dz1futb32q++MUvFj6QNfoIL+Yp4xIEVA/0h3652tWuVvhrDApDypcmfEiRn/3sZ8tcx493v/vdpd8f8IAHFH7c5CY3KWN9SNkpb9q1r3/J3z/+4z8uNHznO99pbn3rWze/8iu/Uuona65whSuUMancZfExdOSa9rl+97vfLXP9Ha38O/HEE8t4wW/y74lPfGLzwz/8w9OauOk4cxBGqPeEE05o/uM//qNgEjw67rjjmtve9rabLntWxn1aRqyLwFlJ549XtEmgc//nf/6nTDwT8EMf+lB5foMb3KC5173u1dz5zndubn/72zdHXPuIZt/L7QJeTJFfx0fY91GQDhQHdD/5yU82BvYXvvCFDeFfp+krY9Kz0C8eHQK6rnvd6xaa19bWBk2+krHnj/J9dPzTn/70BgALJsKjHvWoMvCuc53rlAnfk33hRxvt6wCE59op4H3hX08a8bN4qywh112Yu+tZAKUkWP+zUd6uJAVw6vju9430bYQ6Uo/nPrnv5st9nT/P6mvyp6yLL2oVlfbfBl/WE9flFDouXm9jq1jUcZKX+HW+pK6+NIVX6+lK/DqIJ49rN18d1/c97emL63s2b/ndMtT3kY98pHnJS15Sxvd///d/N9e85jWb+93vfkXQ3+Y2t2kOP/zwbra52mWukylnnnlmkTUUQP0zTW5cosIJD9APBACSeX+zm92sAGP4iD/TeJQ46ZOHjHrjG99Y5OEHP/jBUvbP/MzPFJny/d///c1BBx00tcwJpPY+Tp115J4A3rr+7vcAL/n37Gc/uwAv5WbnioEXNhkr6v3d3/3dRl8wqtT7uMc9rhiFXVqXdb9S4NUwApxW/6lPfapody9/+cub008/vQyso446qnngAx9YBtyRNz6yOfiQgzcmSw28Gbx9ja7jTGpWNQ37ox/9aNGu6wHfl3/aszpvJrE2ERbHH398c7vb3e4SAnhaed04ZUXj+r3f+70yEaVR/i/+4i+WAXDYYYc1rMZVhe7ExM+63TV/0dC9H0LXbnW0eAS4ZoYqSUnfkw8tNQCqB0+FPN+t7p5K52nPRvktLRuWOjrXAVFZ0tR1elbXkfjQ2caW+JKmLSehlKHNbXlC4uuykra+TopPOXXa+tmkfJOe1+XM+n7qqac2L33pS4uC+elPf7q5xjWu0dzznvcswMvjxQLuhqH1agN58opXvKIITso3QV73f93Obj1D7lm6FGDz/cd+7MeaG93oRpcYZ5PKqduBDv3+8Y9/vPnnf/7nMt8pJRSRo48+ushBHi78Cf2Tyh36vK/t8wDvLDrq9g2lqZtuTwEv3vgAXoYP7OAlArxPetKTmjvd6U5dUpd2v3LgpVFwAzHjuVb+5V/+pfnEJz5RLMgf+IEfKJYdi/ewQ3cBTATahmDqCK6+lqfzP/e5zxU39oc//OEyGb/yla9cQhD25Z/0LBPFNXX4Dhjjipg1MCeV7TneGHQs3j/4gz8oHe+5Cf7Lv/zLRTCZlNyGqwraw1XJS8C9m+D5VoRJ9ZTnFQnAt5sW731YI1z/tNWMm/RLN0+3TenX7vPc1/nx6czPnFn4tRHf0lXAc91lXqeXpq98aQqdbfvEG/PddCkn18TnmvqnXbtpLY2w2vCpG7ppEz/peeKHXAHj3//935dx/p//+Z/NVa5ylSLcuPTMfX3XDUPqxRsfSvZJJ51UFG5LE1zwyY/P4WG3jqH3gJdyYN4DXkti3XE2qazQIR4dDIozzjij+Yd/+IciD0877bTi3nz4wx9e5vva2loZz8t28db0jcBbc6PZAN54HI3J3/md3yn9Ufff7rkWu1sp8BpoXHO03Le9/W1loP3rv/5rAyAJxh/6oR9qfu3Xfq1MPu6c/ffff5cgaoXRvJMFgwCHsvOxzjjLVT2NfSaXieKTiaYewgvttOBFOsZ6lPUpwGvN5X3ve18h5wd/8AeLq2Nnq3kBFbxZRSj907aR1v23f/u3DctEvwibEViTeDFvX260tQUmgDstoPdWt7pV84hHPKK55S1vuTFuQsusupOur47wp5DQWqOnnnJq8zd/8zfNR075SEmesrvAm+cS9ZWfeHGJzzV0lDRV+9XhfzekrPp5tyz3+IQ/LCvrqunnOl/f925ZfWlmPQM0r33ta4uAAzSsCvMH8N797ncv+xhSxjz1afv3Wpe+dWPg/oUvfqEosuar9on3vY9HqW/WVd4DDjigLPcAX2uw1tGHhro9oWcE3t25t6cs3lDBIORqJoeNlx/5kR9pfvu3f7vZ2cpf46juw+RZ9Lpy4DXYzvjYGc2rX/PqMvFop7RSYGLiAV6L5xqXT92oWZMm8fJmE5eNVayT8887v9lv//0GC5m6Xt8DvK4BIh1BA772ta+98NqrAYcXOvy5z31u82//9m+FhDve8Y7NE57whNLx3Mwm/ioC3mlXXC0GYARy2ju03lUMTnWnf/voyHgxjp761KeW8VSnm5Y36abRHf64Ar53vmvXJrhoxinDNXyTtltv91761Js2eFaH5Mk16fvS1M+631M++mjyT3nKU8o1z/vKrcuYFV+nnfT9v/7rv5rXve51ZZxZBlKmjSv67b73vW9x3SbvPPXhjc+555zbfPVrX23O+c45zUUX7wJa7RWXuZvyN3OlvDMKWOrcwLUinP6ZVG7dntAzupp359Z2AN5nPvOZZXzyQnIxA17jc1meh91b3M7/djBMNym6Oea8VzzX75//+Z+XhtkI4ZkdzRrGZcuFk1AP1DxznUamOJ9MMswDurSXUl6PpVCXPeR7qX+dUybhla58pTIZh+SdlCa7WgHvn/7pnzYf+MAHSlKKiN18O1uNyyYD9a0qaFeAtwso4Wtdd/qn8KOOmPA96SdET+1XeWbllybAi18Jy6Bvo/0sz/DpGU8vnpsAbepzj9YoLHX9G+Uk8fo1bcu1Ez2TN3Ud3bzulVuXDXgJlDvf6c67ym7nxSzBUufvq2PIs2wmMr7e//73l3nJS6HffuInfqK58Y1vvFHMvPXhwUUXXlTcy+Z9CZwDbduFSbwvkQP/KEv/2t3MWsezWbxP0TUdeWap7dKyuSrjOrR3r2lfnnf50o1Puvq6p4E38o8cRr9xGYsX/UPaULdnyPeFgLce1H0Eigd+LDkWnQayRllxRx55ZGngQx7ykLJTMB02qZGJ72tU6HCVn/C78IILi/bbl37eZ6GJ1SPYeQ0MTcBFguNPNp7hi2NWgFcbAO9v/MZvFP6sGnjRf8oppzR//dd/XVzO3fZ0+R5edJ9389X3yVM/831oGbPyx9XsmtAtu3ufMnNNvu41+Vy55Lmaa5e858oIELuvPynPs0lhEg3T8kwqq/s8ZSuLq/nnfu7niqs5ZW8F8AKaN7zhDWWcG+Pm57KAV3stZ9mkyNoVtDkf7UxbS+Scf8I/2QK+rpstU3mW3k4++eTCD+utPGgPetCDynwnF+dxZc9qTh+di6zxprzwJdfQkfhcxXfTJG2uewp40ehD/j7taU8re2woVztbBf7JT37yhmcodC7zuhDwmkCAVTCBI3xCYDYP2S32nOc8p7G+a+ODnbo5v+s4kWNFdUclf31NfP3Md50aBrqiRx2OMOUcbzfP0HvlaaOgbfvus29bYVNcv5SHvnOSQ8uWDp3WeHW8bfTWeNXJ1cwFbwBwby1azyyasrnKtRvQU4dMou7zOs1Wf7dpKOeqQ19NA1qNi9AszSzAqfP7Lm/4VG9CS7q63tSTuOSv7+vvdd76eV85dfyQ7ylbWdlcVZ8/F580Q8rbTBquVZuJWBSUFrzvupoXocES03e+/Z3mvPPPK/NVWeoQ6n7fDO3mfWgzD7vno+fpo5RjI6M5n48yne5gaeUcb8pNns3QLk/KqfPPA7z1PFFWLQ/7aCv1rXuI1Nm3cbCmxfc9BbzBL+PSGi8DkVwndx//+MeXfQhdWpd1vxDwGtQGPQDx0RAagzVJ6yCAj0Vn7fAFL3jBhkVny3z3OEEGSF9namziuw1PevE5L2yzxZe//OVyLz5punln3StTG4VMQGU58O88nx3HiwSKCavXBPzDP/zDopio0+aqX/3VXy0DwA5UB9rHMJ0DGR99fS3O2KyFRvpzeqmXvdhpfFpVa7PrmICzsYh8yOYqL86hePf121B6yBi7pZ1iiBxaBvCiyYd3izwz33fs2FHWedEmLvycRWvaJ/3nP//5omSb9295y1sKP/ICjZve9Ka7yZXkm1X+pPg++uYB3syTtNUcUmb9vK671BfgXXf5z2rDngJe8td40Q+///u/X5ZE9TEFyKkSp0tWFRYC3gDH//7v/zaf+cxnCojQGLxlyOYjwGt9R8P+7u/+buP8rsH10z/906WBzvJKPyn0DZw6bTpVOgOaK8vRJbscAfAiQZmpP/UozzGoY489tlwXKd8gxiP8oXF5i436vEzksY99bAFeh+nrzRyL1Lc35+32Zd2fexNf+sbzqttvJ7P5b5zbaMWLY72ZgLvrXe9awGyR/gDsjivZS2IpizBNeWnvZtuoHDLNSz64x3nonOMN8Awpt6YFPY5X2mSGH69//euLdX7/+9+/8INCT7Gfp/xpNPS1fyjwJi9afATP8tGuLp3Jk5MAafs0GvcU8DIanXyhEDpVYhw5sbKztXh//ud/vrzIaBrdi8QtBLwGuaM71nAAHRec9QoWLVcyrdNkyPldaxu0XW9m8kpEu8ds0ZdnUtjoyAkJdGwGAhcO8AK+1uNYvcKQzp9Q/G75Uw9g9Io1lukiQXnA1wTMrjrPbDbzgg4DwCQkqMawOQ7gZ5Y8XAVeGV4E10XHxuao2nO58EPYynZnbZyAo6DbGfyjP/qjZXzbz0DYLUKPPQrW3m3cshxAkAco4uXYLMfRFRc997hzvDaDkW2pY1rZdbsy3xkEhLx5/5rXvKZ41ZRLGSEbgXzt4p1W/qy49Hedbl7g1YZuW1OuuLqNdT2+T4tL2j0FvKnXuLQUCsf0LbnrTWKUoCH0px3zXBcCXpPobW97WxnwBhKXD7eMwWMThwlmXVdHu3IFAVluJhajtcysYXYbmI6d1Rj5MqCVbz2JVu1NWSahAdMdNLPKTLyy6wlgEnM9O0Bvoni926IB7ZQFFq+JCBxsgqFxGQDOCve98GDReveG/Hjr8+1vfbv58llfLtqtdhtzh17r0OYqV71KmVjdsbc38GYr28i6c6qBgHOqwYkGx4iMb+483rFFwpntqyKVTXCyYMwhSpXg+2bBl9ww/40XG54YFKzeGhhnjZ063lgkP8hJRgiD5GUve1lZEuNyZ4gwWCgiQ4F9Ft/U2Q1DgVe+yM7w0H3aVMpO8etuZXkS7/uQEAAk/7bylZF5t7+xY3Mrw43s5Ymx295Gt7q9Q9oyNM1CwMvKfeUrX1kAA+B5XZsBb/B416WXPzi/Z9MQMNR5Bi/N7mEPe1jZXRmro9tZfQOmr1HySatsk442CYB9MLYGzr78054pu86vDhPHJMwab5fuaeVNiqOUWOM18NBsg0XeZGP9iwIzhvk5EFfS5z/3+ea0008rY0Ip1nFufrObN0dc54gNxW/+0sccQzngHbjPf/7zCzh6Zztl0o8kAF5ABog3G8z9vKNd2VnjXQbwZv7zjgBfyz42hjIeIpBnzf86nvzwsaGSnDLfX/ziFzeW6ry0gVzEkx3tOvJ2AV50COQeXmuP78DSPUMLr0Ov+LrNQ/p1TwFvflwD8OoH44cHRj/wyMCq9POQdsyTZiHgtUORxmYAsTABn+MvgNe7hnWABgFejaTZ3u1udysahYFmJ+qkjtKpQ0I6WXrarU70IXQNkMQPKatOk/rbYVTenpR7abjLD7zagc0BVzhgo/xF6qmPW7HSWdQPfvCDyyRc9vGCuo2X9e946RWPXqD/xje9sew30Gb8vfe97l121q7tWCuuxEsbLzIeNzvutqq96OQCznFCL4wBLHbxAhl7PDa7SVHZPua6jZWZ89oWviTNZturHKACXOxqtt/Cd+WSDaWe1tqbFProCL0sXmuLLK3s8r7Pfe5T1pDlS95JZQ95js5umMfi1XZ0KIc8tSeFLGfYUCIYBdbAKSf779e+ebDn9afd+rv3ewp4KTw25QFeBiQ68J/FG0/Msvqh2+aFgBfRXvbNVQqEuVCAEovNr4/opFe96lVlXYf1e/Ob37y4mDSKNuHZpMHVN2C6xLvv5k++7vO+vNOepRzXfKSnAZVgPC/gXlGGcg1erji/2kSBoQmzCLLLEc82K5gKnQv8ociwwKPMRKFBN02XFWDiZfOX50PCon0zpA5pTCyemEwsHhrBEoHxSfATeH2/jlMSDvyjD2MFEEr4ZOx75oM/NhA6NhJBlqK7PAtvPE+cZ7Oep7ztdtUGiveznvWsMr7xB/95vPDfRiWW5GbCJB5tpqx58mzU2w730i9zAK/0GS88XfjysY99rLiXWVvWFikjCen33M97zRiST73mdOolt81vXge7ePWHccp4Mm6FerzGo2hfj02z8vL+HX7Y4c2OVpk66OCDivyPt6EUMOAPpYncM09f+MIXls2xcAQAep8BI20zludGP7U04GOXl5Y9eGPIXb8hQHkwLtVrXJJt3TwDmjMoyULAS+shzGhQDsgTclw9BAzwwKwvfelLRSOyYcimJOu6QJcwokFuhqGDWrakRPXA7StykY7JBLQ5xK+30ICtm3O9LcsV10fz0GeEpP7LR38DM3TbcMINrk8DXN2BXtcTPmYCLMK3utxp37kgeWJMrLyLWnob+nhlCBq7VFnAiwQgS3jYzGed0a5VvPNmMvMBf6zf4ReBEmGGJ3hZ8yaKnec+Al7JI0QgZt5sBR9LxQv8Iej9CIh+IKwt0zzykY8s/F90D0PNuwVInDtr6k3GWf1Qp/fdx8bTv/zLvyzCnxXstAQApAym7zNWUs9mrqk7ljbAtZmI3DaevLtbfwAc68tc6Rlndf2AysZVHiTGAtcsOa4/f/zHf7wAeK2IozV1T6Ib3xhs5g3gzekX9ZozfiWI65einzlQlzuN73hobgryZ24lf/Yoqde7Jsjd+neJY1CUApb8ZyHgzblZG6sQD3jtbNbBtWvG5AK8OiiaBKZgWgTIktt1qSgOD2ig+PfqV7+6eA6ccwRqsch4BwJsW92oLvDSSgGvPmbV6VdLB3YCcjcZ3BEY9SBHdyagPs9n1e2hoVMaHC+jGFISuZ9Z6rwywDeuvUVoiUDrAi/g94wwonCyZCy34BUe4Al+hTdoyHPP8tyzCJ2uQBS33QNB72cvyQiCMABD8YknYLu3YRJ9dR9NSuN50tVpyEs/HkExsQfGPPKOdptPzR+fGvjqvPN8p+xw8QM4yjPXP9eq+YAuiqfNbpRoymHWsQFPAEu6+o1bgMrxTXKexWwzLYAE3NkM2tfmmu68MvfMdnOcI2exPt0b18o95phjyjxVpg/ZSHlNmDb+za0u8NY04b8Xu4T/sMn7E3geoiCnnmVfFwLeuCIJYh2qYwk2DNVopjuhw6UcxpW1UYxbd9NOY9yyG7vdysMjgpTLnquDxUsL5uqxy5FgMgkB3J4I6V8ga/K6+qDXwX/WHECxE5D7UF8HGLoKVQa8/t6qPg/9xqXfaibcHG3RFlYvIET/ovzVj6mLsuKl/edfcH7Zwas/KSu8QAQcLb77M3jhTcaD+/Cv5VbhV34uM/wlkKXZ7kFbWLqOywFebaTwbMWPgGwH3qRv+2gxJgl98x5vWFwEPwAjA3gElzFfonxS8M0B8xfoGJfoI595IY1P4O89C+a0OUKGG2vGHUAEuKHX2rS4vJcB3eYUZWpau8OL7u+ns0DRyqDTbvwAvmgyZ1zR5bkwS46gIXQkbX2fV+WaowDasp5fOaMYdi3s0Lys60LAqxEmUhpDEBM8hLOGGDhxPUgnEBYbQuVSoK0vi9F95YR/BpzBTED5eE7rArzdn03rK2crnqEpH+v5XELWekxYrir0mqh1P2ewo09eoX5WHqz4j3ozLgkbx99YwixeG9dM5s2uMdakp33hkSv+2DhH4BEyAL67hrdbGRe3GwQvurDwqgDr+itK8cxHmV3+bjU/a3pnfSes8R6oeDMQ1yaBZs3OK1EpISyLedcEZ9W7neIzLvpoohACQXPeC0Dw4hd+4RcK8AKXeEb68g59pn5eFwqntWRLL+6Bm74RT05TDK3XsljNCYBnPsfy05c8Xsayslin1nmzS93xSv0KhAO8yp42PgO85AkQ5yFSjzEuH+WDUoAXaJkXePEo/M/8ca98H25zb1Tk5gbsvIssf/WsWrFdCHjTsDQO03xo/z4AlsZkYiUNBuQzdPBcltPhi4lA+yKg/vEf/7EMQNoX4LXJCkjsyYDG0n/rG8pMXr+uYsDqb5oy1zirN/0cevV1X0i6SfF9eTbzTD2ANjxGt/HonB7hYmJvZi0n9IemtKN+TigRdoSUviXYumt48pf5UFxAKW39WcU7aVK2a75Hif3/nNvnG88CcNF2v75ljOM3y8ib2byAhoAL77YP5cujJP3UV2JcwJRux60YLd5gRSEBYDZVlrFRjYO+ciY9yzhhCPFK5hPABT7mrzEEfIEseQ3wGUyAL/2jLOV4aZJxbR8DwKTIyvtTP/VTBbgol9aI0+5cuzRqF89olq4oApZskl68uilqaEILuuZxNStL+4S6HYxC9bHe7bZHg1cYUxxYu1zti/C929a++4WBV6EaWDNso8GtoC4NbreYJ156jaqv5WYv/lOOvbRuHALKG3hYwDRPmx1W/eqyaWw3aA1SE85AveD8C8rRKiBm0kV7RqtfV6Ep1i5p/Ww91cQxOd0rz4QjZARLECbVKlw7GZeWQWjqLF7KAgCkoVNo1EvwzBvq8ZzxnrVegg3vAD4hxZVlLY8w+/Vf//WyloYHeOUj/wGXP2BDuOx/+V1r5eIIS2URihQEn1qR3c7AW49rv351ZjvGWRYUymPatTuKz2U91OOk21b9asywvLxghAVoTNpcddedd212XH/Hhnewm3fIvbq/13pRBEsV7hlEgjFkPqJByDgCxvV9uan+KMO4NqfsnXCqhYx3PAxoAUbzPe3OtSqifFV3CS15LZXd6A2M6EYkX8rNfTede2nSvgCv52SPjWKAl7wVvDcB8LKsKQ6rDssD3qqDEe2nujS8MKblcRhVCzlx0xi36sZvl/IJWJsfuJxiGdDuAK81H2tieyIAXMKTi4nb9Oyvn91ccOEu4My6flyoD33oQ4tQtUYDmH1Mbq5oGiTQ0ffKsymDi829DXe0ZAAMXCaNh4yfSfF9/MnEA7ZvetObCo9Z5Sz0vJhkGWMwygnNmdIEbLPPgcJBQSGgAP5v/uZvlnUqgovVQAAQvixBm+hudMMbFV74pR3xNp1Qerw6VDzBYJ8EA1lYBv27Slr+X2OAW9K4tonFmCGcjevu7/Auv/btUWLGbR81QM7YMT7f/OY3l742hmzyAQS3uuWtyk+QzjPm63rUXdfve4AVEJl/SZM6kr5vXCW/sUuJpXxTGizVOIZDkaoV6JRd03SJ7+uYG8UgQOmX4ApN6+Mc3e7RHFovUVbnQV1/3R7zyq5stPtwjVMEuZpjBHSKWvrt8oC37VQhTCkduM7UotH43jIx8Ulb33u2NwZaKJCz0cKry6wLmpBccTah9K2FFf62zFoF/2K5AVygAUjQhyYTgMYIYAkJQArIrF2yfAG03Y8mJssPWADfWJfWcoCTj3UlbcxOd9ac9qRN2rgxETsTLmmmjZfkVxdvAj7bTLVjx46lTDC04RV3qnbhie94RbCpj3WAh7Rr1l6Al/KBLptdrG1pj3g/Uk+QnfWVszY2hClnbW2t0E1hOOgaBxULJm1n1RQ+tfMrmn09PobwKmUt88rCffvb3154D3wJTbvgAS/rQnvRtqfoW2ZbJ5WVfuiL12/W9AFZvSRBCXvUox5V5oY5Asw2G9Rf05DvXQDL89TT7RPxUTDNcV4cSrfxbd5z1Rqb3SBft+zd0vQBb/tsg752TNdlZHzvVsaUm93qbsu9+HsXF6XfGxXJKPOGp46L356PbrunFL1Q1FKAFwVpYAjP/TTqknZamr0hLpovLewlL3lJOVbEWjAQjjvuuCKorPeYhALeRnPdGKBLZBTrG3iyVhwFIfgdByMogaO4f/qnfyogy5LlGuNqAg7AmAZPeQAsLD9AZw2Y21kbtc0EcrRGufKxeLmo6vaoF3gL2eSRcWXsDBk/0rMYCTffgRo+ql9dQ0Ndb/LwVABaVimLWtvxSHsJIXF2qxNSgNaOTD+w7V3meACYTH4fHgCbSCgweOqsJJpZzCxlPPIh5Ljz0nZ0WQJAS7NPs9G2KCzztjNtm/faxx9g4pgcpcfRFe3KGiZPByueV2SefpiXru2cHvCax/ru7G+cXawvrk8AZz7xdJkj9Zpp+n1ou9IvSZ/7lJNr4vuu8hhP5nLOxhufnhvLFO9JP+aS+vrKLc/WgdfYFUp6z9r7doaXa11Gl97ufSmk80d+H15YMuWDH/pgeWGR+Wm/AUu3+6Ki1Dmk/E51g26XBryDamsTrbpBQ+nYTunKoGgnIEFlLdBmC4LKYD766KML8MYqRHfS+14DlftFAiFgYAIENABe1hqBee9737tYrUDL2g7L3K5Grls7mv3MI7ABcjRhYANkXQEu4GX9AhP1ABNCJZMWoGcdGNjaxGGSs7oBctpv8gil3e261VYE/O6OW/faYu3Y5ikKipANGrRoVrBXptrNS5mhoABeE52nAPhKQ4gBbsG5Yv3OBW3Sc8PjE3e959xi+MSqxutvfuObxYVLcAtAmcWEv/pq1cAWvpTK2z+1oNL3f/EXf1GAl+LB83FM69LjweEyR+uq6Qtd2/FaxhXwba0w37luX/7yl5clBvPKaQFjRf/XfE1b+p4lLtdu/+R5rkPLCPAax/rS+wa4ZY13yuCkMKv+SfmGPh9KP5mTtWnz9aSTTioyxBIZrxuFXHuE0i9tfwjKH1JHSTzHny0H3jlo26uS6uwAHtBjJRCw3gjDNZfddt2BvOigqMujaRPmgIDmbS3EuTyWGtAAAgSlVwA6HsJK40I2+exqBDYZ4ECF61w5JipBYg2IFg+gafEAOZuvWGYCegJoLEkgD3D8jCSttFhy7ZzY93L/fyxt1QMFTd1NKuggfChKFCbtBizehGVHqjV6/PHGLHzAS3zkanY2m4saeLIiCIK/+qu/KpYvMFIOfuMtnhMKlA8flr88yuNRYC0DbwpKFBp9drfWpYvPq7R48UWdQp8C2H1VJOso51Txp+vhWHU/brfyy7hqeZigT809497YoWwBBuN+g79JzhgcAArqmBaGyI/QacxHRlivJwsogvHE9dUzq/6+PPM8G0o/hf1zn991vM+8pdjirzcEmq+1R62mOeXnOg9t09KOwDuNO1scB3BYutbD/E4nEOQKAbx+MHxtbe0SltciJGZCKcPAym4/wA8ITDSbJlgoO3bsKO5gglb8CSecUFzOXMXirfGwSgl6+YCKdU2vpqPJs5qBLgClRFzhgPaY2f67dlaGjlyBCEsSYPmhcMDLUgRYLHIhgLLsCVEK7/wJXR6rDw3AzxuAWHQUC8LRm3/yw+7S5lWg+Z1YFkyO0ShTUB7PAn7jl3VifLTGh6/dJQb5uLQJZsArPX5Zh2eNEIiWKLxJCJ8JFAJyFQEt+loADD6CZxQLXoA/+qM/Ki5U1oT+e8xjHlMsjGzC2Yr+K0Rt0z8ZB8hjkelP48ZmK2Ocp4jCRvniFdrYALyFwIu20Km/fJ+mcEmfkHy5X/Z1yPihLHDnmzNe/GO+WNZhKLB2eRSE0JqrZyk/V8+WEUbgXQYXl1RGgI+163gBrcykA7xZ/F9SVaUYA6wWnKxU7mECk+sTWDp3yqJloRIEBrB4v6pCUQC4AIKFxn0ojaBclpyXnlMmWHK3vc1tmwc/5MHNzY5qf2C6dRMT1ElvIqPHAAfaQATwAjYCx8vSbYwKvfJF0JcKV/wnkxF9FCJtxwf0AWGaMz7Vb+7BSz9+wYJh4VFSKDLWN+vyuPO90hLwsvDXWgWrb1MdHmk/y4hwVi+LmMWhXwC4VwGyJO0NAHRZO18Fe7ShCOBWh9CfeOODFssEFLTnPe95RUGjDFAiLUmwMPRd0q+CtktLmRkH6AUQ3z33u8Xz9f4PvL8oUzxCxoP5xUJL+qG8S/pJ/FDOPCHl5Zr8uXbLSrru82XdT6q3Lp9CE2XemCQ7/OyfuUrGkS9D6RxSX133pO8j8E7izBY+T6eff975xep87/ve27zoRS8qrkwDA+CwFLnqDJp0fq6bJZXQjAXJKmJB0QjztiUbhR796EcXrVA8wKGRG7xe7k5Q2AxEoHJrohVN2iMO8NgsBnhZXiwwxyRYfoK0Ac8iwNtn7kMX4D3xxBPLsyc+8YkFSAK8e1JwZ4MJBcmPW1gSAHQ72/OpNGnAB3zwkeJhzZtFzOL3JrIdrfcgrmv7R2xWw3dATlmxZhaXbI434Cm++LBuuZjxAIhZz8UX+f2uM2vz+OOPLwqR9V70rCKgqYzdFnjbbxtAav1am3hu8IdCSdBRIO0HoCyUfOtjYNFxvIq2bVWZ4YP6wkvj6xOf/ERRvG0AYu1mo1XS49kQviX9pPYMKaPOO6m8SeVMSl+Xucj3SfXWZRp/lFVjkieNEmw8klkJoXNWebPiU96s6wi8szi04ngdXjq9FV6EKgF66mmnNq94xSuKK5NlZa3vl37plwoAE6J+97Js+Bs4+SY1IQAnHrA62uK8JcuJ8LQuCyhZ3eKBrnNvBKo3QAFawEygRsBrC4vV5ijrVV4tyYoDBrT2xz32cc0d7niHDQUi7Xc1qAO80gd4KRssXhZcX/plTYY+PqlPSB3u8cHGIXzI+VyKAT6wPm0O4z3oWsQ8A7GIS6H6vN1YQzGx2UN67jDAdEy7CUl5QJi3QV+FR3iDv4I4wE+B4tJ2Dtz3Y489tghrFpP4VYX0B/oEfUXIUSDwJz+3Vm8SNFaSPgrUqui7NJWbsZbNheYg4KW0UtZ4jZJGu4zJjMtJ7azT96WZlb+bJ+UNzZf03XKWdT+EDkowD5o54zt+UpDNHeOvDrPKmxVflzXt+wi807izBXEGZhmcu+R7cdmd2e4q9io2lqUdsSwab7AiuA0YGlsE1iIDgfCLBUlgEvpeWUkrNPkBr2MNrCqBleUYEUAlXO1IJuBZsvIL2mKQa4PyuFltPvJ9rXWZUSBo7wY/JYJFB9QFbfJBl/oDvOIDvNKpI4JbvYvwQHnTQumbNkHqcK/tAV7Aok9+67d+q1j+6OfWorzou5NPPrn0F+DRbptRsnsyLlnHr2xEoqDY+EEgsIytP9VAbV2UWww/0BHaAK2y1Omdv2i1KcdmNnwOf6e1c7NxoSP9oRwKnHOS+s9YokgYJ1zx2q8NSZ9xvNn6L4v58BR/9Cmw0J+UFX0ppN89z7icxIeknRQ/K383X8obmi/pu+Us634IHbxvlmXwNHsLyI3Im5qWWeXNiq/LmvZ9BN5p3NmiuI3BCXxb1yPgsu4HeFmMLEi7ZQkuIOdYDmFq4CwS1FvXzRXz1pPfWoASDXbXAl4ATAiwYriYuU5tTGDB7mzdq+jhhgYABqbNRoSuwS6vtWrtAKZ2aVvjZInZNKUOQkXIRDBBArzepWqSsCi5KRNC96yJMCs+5Q29qpcVAlxYqM6psvxt/kIf2oEnBYbSgS82S3nnNgUmdKuPVRzvgrVYgK1MG6RYunjH22DzB6ELkClhAe6Uhc82XDneRSkCbNbeKUarVEzUX2hYH7faTsgZJ5ZKKCf4b4nEZi+bz3gEWOChfdn9M7Qft3s6/KEU4yceAYy++T7yb3ZPGpd4iad4iGf5zMq9Kv6OwDuL81sUH0GkOqBD+HId2u16Zms9rrXWIqDz6xk2qgDeCNVFB4e6fVhy1mUBBusWIDq/a63XBgXWCxezQXy39rgKJcA6iYHNoiX8fecic8RFfmspgMqvgFAmuMy0BbAAb2ufLMa0wVUZ3KksRruitZPFWwPv0G5JuUPT1+nCFztJSzmtUiRkzQh9zl2azIBFW9CunSxd7dZOzylNABq44pP+9d1bgICRjVfaTNnCS3VIj8cAmHJDUek7b6geoKs8CpI0AFv6VYaaPxRGdVufpDx46b8xwGLXb+Xd2Ee278Zu30OtP8cwHwfwui8sMr77yttbn201f0fg3WYjzQAgvGm6XLQsJ5YDoUoAP/KRjyxCGvD6TNKEhzarHnDAgDXLYuFCJfxZKwQ5qwowoI0Fxm3KWgUagMbxJ8eGWHisMoABcIAroNEO5QIa5bGUuVKlARAESNquDh9Ws93TgO1JT3pSAS/PBemHCJ0haSbxSl36AfACC2eHlZc1VuvdzulSWACMoz+CeIoKtyorT7+J4zbkTrYj2YcCgz88AIBXO/GQwmV9VDmULXyywW6tVVhYvgGu0AfguKqlVxZFidLD8l110Gc+2qKfeQIoD9as0ed8t813R930qNLPaLcDegzzcaCep3XORcZ3Xc74fRcHunxeFX9H4N1mI67ueC5bQpgF4Z23hKnf62RB2GiRHa8E9mZDXV8sbYBvl62NXSwt9XAjuzrSQLBznwJQgYVm7dcmIQBtTc8aJTCSBqADHG5VgAMQdrbAaw2ydjXb6UuA500+gNcu3Rp4004TYsikGJImZXavAbYu8HoO5LTbsSvAp01ZT7V2bR0enyguhx92eAHtr5z1leaUU3eBLj5QnCgwdnnjp3tueXEsZkBtYx0+AV/HtYT0GSXHDmd5KD9oAPSHXuvQxo8saLtnlLNVBvzQb3bFv6Pd6W03t76mbPAE3PEOd2wOPmTXm7TSb2nDIv2zyjZtt7LDry5dI/+6HFnsvsvnVfF3BN7F+mlluQ2AuDRZENZWrfXmXbfWCwm2CLJFCMlgIzwBLIFv/RGIAr1Y1oDFhzAHwtkti05KgquQ9VtrkoQ+qxH4comy3Fk9QIRlzGKWBg2A1xXwEubOtQJegcVrcxl6fELzrIkxK74UPuFPoamlp3Y1K6/Q2NKnvfikbZQWdOEN4MUbPLr6ge3PpF2xfQd1+2sr3z2v/bWn9heerJ9/7etfK+n1YX6ZSf7wCpj6zt2cj7KF1J9NXly8QJ5SRNHxlh47r7l/eSf0wypD+ARs/fyfpQrtZ32zeHk1ogDU/EOTNi/SR6ts13YqG4/7wsi7Pq5s/2cj8G7TPjLRsluVi9ZaL8vKhhluyXvc4x4brwRcZPJFaLoqJ5/UD+zbpwU8AKbnQJFwb2Fyg3vJH9e3e58E5QJ2ACVbcZnut77W197X6c85d9fL2Fn6Numo1xufAC8QkTdlz2r7rPjQt8gVQLI+8SUAg2ah0IkN697V0s5WwZDWs6RTBlpjnboXKD3AqQ55w5FNXNaZ8ZVLGvAKF13YvjmsBXleEa7seCbqMpb5nfVPCeHu9m5qyhXLmzXvY507AKuNeFDa3xKR58uk57JYVsZ7t21bMb67dY73i3NgBN7FebiyEgin2oVnrdfRE4LsmGOOKcIWCBHOmZiZiN37PiIjAF195AUEKUP9wF9Qh+foKS9/6CzTiauFqLylTLDdxmVdT/5YkKmnVKC8FqBYu6w11hPgtdYMzPLqyrW1teJyT95cSxk9f2bF92SZ+1H6yVV9+BA+hrcp1H3RVyr+hffyht7kU1ZC4riVvVIwLzqhHLFseQ8A9iEHH9Lc4pa3KJYma5NVvcrAk2Fc8lB4dzWL3/E3567VjS4h9Pte+NB55vkY+jkQfnVja55248b77cuBEXi3b99sUFbelPTJTzUf+OAHypoioe5Yjl8usZ7KVZmQiZiJmvvE11dpApC+SxvAkM6zvGEJcNbpuU6LFbduzdWgm3QBGOXms1FuAMiDFoTEl/ra54DXOqeNRtaNAa9dwdZCuVRZcnV5ipgUpNuqsNHutsLww7OE8n2dX6EL/4WkT9pckz/pPQe81uDxiEsa8AI3fcf6ZPmyOPErbxRLecu6pq0UM8fQrO1Sls5sd+Dv2LGjbAK0wa4eT8uqe28sJ+Og2/Z6XHTjxvvty4EReLdv32xQlldJnvHxM5q3vvWtZT3V5h1uxLut/wpNBHd3gk6bmNLOTB/cWMevpO+W271PujRiSHzoASTWTfMhvK0HUzCyJqzcbpmpa09e0+4+2hJX055nfekntSPvnsUf67u8CPFIAHIWp3Vh/Fr0zVV99HmmHssGXOyOoHk1pPVuYM/tbQMgz8w87ZrU3vH5yIHLGgdG4N3mPUrI5fOlL36p7A4+/aOnF9ce4er3W21iyQadrqCcJfiSfigbZpU3tJxJ6ULPquuZVP/4fHcO9PUH0AX2jg85Pwx4HX+yPm08Al6gW3tidi91vBs5sHdzYATebdz/hB4h59o6a4tLkZUDeB1jYW04rgJ4s4lGeiEW8KzmRbDOSpf4ERDDib3jmvGRfnfvw8Xs2Jk1XWeznVl2JArorq2t7eaZ2Ds4NbZy5MBwDozAO5xXW56SgNsA3natkvDzKa92bF3OjpOwep2FtdPZ2l7ZvNRSOnRtLYJ1aOMigIemH9NdejkQkNWC9HtAl5vZsSGvzOT65lq2kWveNfhLL3dGykcObJ4DI/Bunncrz9kn+FTK6nVu1iYkL7lwxGYE3pV3x15XQVzKGh5FjmJnDd5Zb2PQa0TFecmHjX7OLnM5R0nc65g2NnjkwAAOjMA7gEl7Kkkf8HrmnKY3EznG4WwvwTe6mvdUL1126+0DXs8Ar3O7FEAvA7GZa611L9drurGQL7vcGVs2cmDzHBiBd/O8W3nOArKthSEAV8HxHsLPB/ha5yXkLiubq0ojxz/bggNdxc84y5i0xuvMsONLxmYsXYSPoLstum8kYhtzYATebdw5EXJI3ADe1uIt52PbZ+02lyIIxU/aTDVLCKpjnjCrvHnKGtNedjiQcTSOj8tOn44tWR0HRuBdHW+XUnJXoOW+r/Ba6CVd/awvz/hs5MDIgZEDIwe2lgMj8G4tv7esthF4t4zVY0UjB0YOjByYiwMj8M7FrjHxyIGRAyMHRg6MHFiMAyPwLsa/MffIgZEDIwdGDowcmIsDI/DOxa4x8ciBkQMjB0YOjBxYjAMj8C7GvzH3yIGRAyMHRg6MHJiLAyPwzsWuMfHIgZEDIwdGDowcWIwDI/Auxr8x98iBkQMjB0YOjByYiwMj8M7FrjHxyIGRAyMHRg6MHFiMAyPwLsa/MffIgZEDIwdGDowcmIsDI/DOxa4x8ciBkQMjB0YOjBxYjAMj8C7GvzH3yIGRAyMHRg6MHJiLA/8HZLA8O9QgMv8AAAAASUVORK5CYII=)"
      ]
    },
    {
      "cell_type": "code",
      "execution_count": null,
      "metadata": {
        "colab": {
          "base_uri": "https://localhost:8080/"
        },
        "id": "2eb9ovUeo-DI",
        "outputId": "94a2d2ea-17d8-48df-91fc-a9a310cd7076"
      },
      "outputs": [
        {
          "name": "stdout",
          "output_type": "stream",
          "text": [
            "J:\n",
            "[[1 1]]\n"
          ]
        }
      ],
      "source": [
        "#in numpy\n",
        "J = array([[1, 1]])\n",
        "print('J:')\n",
        "print(J)"
      ]
    },
    {
      "cell_type": "markdown",
      "metadata": {
        "id": "6VInG5-zpEOc"
      },
      "source": [
        "In this example, we did not pass the gradient argument to backward(), and this defaults to passing the value 1, i.e., vᵀ has value 1. We can confirm that vᵀ・J gives the same result as x.grad."
      ]
    },
    {
      "cell_type": "code",
      "execution_count": null,
      "metadata": {
        "colab": {
          "base_uri": "https://localhost:8080/"
        },
        "id": "qdmAYYAppDgD",
        "outputId": "a06afc45-e52a-4771-d877-6bf8fc837b28"
      },
      "outputs": [
        {
          "name": "stdout",
          "output_type": "stream",
          "text": [
            "vᵀ: [[1]]\n",
            "vᵀ・J: [[1 1]]\n"
          ]
        }
      ],
      "source": [
        "vᵀ = array([[1]])\n",
        "print('vᵀ:', vᵀ)\n",
        "print('vᵀ・J:', vᵀ@J)"
      ]
    },
    {
      "cell_type": "markdown",
      "metadata": {
        "id": "kEae6YcOpNOM"
      },
      "source": [
        "We can now pass a non-default gradient with the value 100 to backward() instead of the default value 1. Still, x=[x_1,x_2]=[1,2] is a vector and y=sum(x) is a scalar."
      ]
    },
    {
      "cell_type": "code",
      "execution_count": null,
      "metadata": {
        "colab": {
          "base_uri": "https://localhost:8080/"
        },
        "id": "_QhvCCNFpQxh",
        "outputId": "666b5e37-f2af-4454-947a-f36b816b4f54"
      },
      "outputs": [
        {
          "name": "stdout",
          "output_type": "stream",
          "text": [
            "x: tensor([1., 2.], requires_grad=True)\n",
            "x.grad: tensor([100., 100.])\n"
          ]
        }
      ],
      "source": [
        "x = tensor([1., 2.], requires_grad=True)\n",
        "print('x:', x)\n",
        "y = sum(x)\n",
        "gradient_value = 100.\n",
        "y.backward(tensor(gradient_value))\n",
        "print('x.grad:', x.grad)"
      ]
    },
    {
      "cell_type": "markdown",
      "metadata": {
        "id": "wd8XsiHZpTvv"
      },
      "source": [
        "This is the same as setting the value 100 for vᵀ, and we can see vᵀ・J still matches x.grad"
      ]
    },
    {
      "cell_type": "code",
      "execution_count": null,
      "metadata": {
        "colab": {
          "base_uri": "https://localhost:8080/"
        },
        "id": "ZLsc5RVLpVuE",
        "outputId": "4e34d7c8-7ea3-4feb-e168-f77c2e4f442b"
      },
      "outputs": [
        {
          "name": "stdout",
          "output_type": "stream",
          "text": [
            "J:\n",
            "[[1 1]]\n",
            "vᵀ: [[100.]]\n",
            "vᵀ・J: [[100. 100.]]\n"
          ]
        }
      ],
      "source": [
        "J = array([[1, 1]])\n",
        "print('J:')\n",
        "print(J)\n",
        "vᵀ = array([[gradient_value,]])\n",
        "print('vᵀ:', vᵀ)\n",
        "print('vᵀ・J:', vᵀ@J)"
      ]
    },
    {
      "cell_type": "markdown",
      "metadata": {
        "id": "MBJ6rnOXpjQU"
      },
      "source": [
        "Another example: input is vector, output is vector"
      ]
    },
    {
      "cell_type": "markdown",
      "metadata": {
        "id": "wpmEeZxxpoyg"
      },
      "source": [
        "example where both x=[x_1,x_2]=[1,2] and y=3x^2 are vectors."
      ]
    },
    {
      "cell_type": "code",
      "execution_count": null,
      "metadata": {
        "colab": {
          "base_uri": "https://localhost:8080/"
        },
        "id": "RkeOsAbrpr40",
        "outputId": "5f515743-9d11-446f-a28a-a107062758cd"
      },
      "outputs": [
        {
          "name": "stdout",
          "output_type": "stream",
          "text": [
            "x: tensor([1., 2.], requires_grad=True)\n",
            "y: tensor([ 3., 12.], grad_fn=<MulBackward0>)\n",
            "x.grad: tensor([ 6., 12.])\n"
          ]
        }
      ],
      "source": [
        "x = tensor([1., 2.], requires_grad=True)\n",
        "print('x:', x)\n",
        "y = 3*x**2\n",
        "print('y:', y)\n",
        "gradient_value = [1., 1.]\n",
        "y.backward(tensor(gradient_value))\n",
        "print('x.grad:', x.grad)"
      ]
    },
    {
      "cell_type": "markdown",
      "metadata": {
        "id": "kWDo4p1rp1qX"
      },
      "source": [
        "Now manually calculate Jacobian J. In this since x is a vector with components x_1 and x_2, and y=3x^2 is a vector with component y_1=3x_1^2and y_2=3x_2^2. We have"
      ]
    },
    {
      "cell_type": "markdown",
      "metadata": {
        "id": "xIM1jGNXp6AJ"
      },
      "source": [
        "![image.png](data:image/png;base64,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)"
      ]
    },
    {
      "cell_type": "code",
      "execution_count": null,
      "metadata": {
        "colab": {
          "base_uri": "https://localhost:8080/"
        },
        "id": "GCUp565lp9NX",
        "outputId": "4855a038-2ae6-4a69-888d-fcc98a14e2c8"
      },
      "outputs": [
        {
          "name": "stdout",
          "output_type": "stream",
          "text": [
            "J:\n",
            "[[ 6.  0.]\n",
            " [ 0. 12.]]\n"
          ]
        }
      ],
      "source": [
        "#in numpy\n",
        "x = x.detach().numpy()\n",
        "J = array([[6*x[0], 0], [0, 6*x[1]]])\n",
        "print('J:')\n",
        "print(J)"
      ]
    },
    {
      "cell_type": "markdown",
      "metadata": {
        "id": "zp8foMSTqBn6"
      },
      "source": [
        "In this example, because y is a vector, we must pass a gradient argument to backward(). We pass vᵀ with the same length as y and has values 1. We can confirm that vᵀ・J gives the same result as x.grad."
      ]
    },
    {
      "cell_type": "code",
      "execution_count": null,
      "metadata": {
        "colab": {
          "base_uri": "https://localhost:8080/"
        },
        "id": "hFtZRJKVqDxu",
        "outputId": "fb85fca5-da74-4aab-9227-d1bec4344f42"
      },
      "outputs": [
        {
          "name": "stdout",
          "output_type": "stream",
          "text": [
            "vᵀ: [[1. 1.]]\n",
            "vᵀ・J: [[ 6. 12.]]\n"
          ]
        }
      ],
      "source": [
        "vᵀ = array([gradient_value])\n",
        "print('vᵀ:', vᵀ)\n",
        "print('vᵀ・J:', vᵀ@J)"
      ]
    },
    {
      "cell_type": "markdown",
      "metadata": {
        "id": "-8RJg5X0qHqV"
      },
      "source": [
        "We can keep everything else the same as above but pass a non-default gradient with the value [1, 10] to backward()."
      ]
    },
    {
      "cell_type": "code",
      "execution_count": null,
      "metadata": {
        "colab": {
          "base_uri": "https://localhost:8080/"
        },
        "id": "jeB_SCiOqKKM",
        "outputId": "5ddf3519-f852-4dfe-b56d-3cc6aeaeed3d"
      },
      "outputs": [
        {
          "name": "stdout",
          "output_type": "stream",
          "text": [
            "x: tensor([1., 2.], requires_grad=True)\n",
            "y: tensor([ 3., 12.], grad_fn=<MulBackward0>)\n",
            "x.grad: tensor([  6., 120.])\n"
          ]
        }
      ],
      "source": [
        "x = tensor([1., 2.], requires_grad=True)\n",
        "print('x:', x)\n",
        "y = 3*x**2\n",
        "print('y:', y)\n",
        "gradient_value = [1., 10.]\n",
        "y.backward(tensor(gradient_value))\n",
        "print('x.grad:', x.grad)"
      ]
    },
    {
      "cell_type": "markdown",
      "metadata": {
        "id": "miXNmeImqNbC"
      },
      "source": [
        "This is the same as setting the value [1,10] for vᵀ, and we can see vᵀ・J still matches x.grad."
      ]
    },
    {
      "cell_type": "code",
      "execution_count": null,
      "metadata": {
        "colab": {
          "base_uri": "https://localhost:8080/"
        },
        "id": "6GsF82wJqPhX",
        "outputId": "1ea9c320-3972-4279-e3a0-0a07bc5e6368"
      },
      "outputs": [
        {
          "name": "stdout",
          "output_type": "stream",
          "text": [
            "J:\n",
            "[[ 6.  0.]\n",
            " [ 0. 12.]]\n",
            "vᵀ: [[ 1. 10.]]\n",
            "vᵀ・J: [[  6. 120.]]\n"
          ]
        }
      ],
      "source": [
        "x = x.detach().numpy()\n",
        "J = array([[6*x[0], 0], [0, 6*x[1]]])\n",
        "print('J:')\n",
        "print(J)\n",
        "vᵀ = array([gradient_value])\n",
        "print('vᵀ:', vᵀ)\n",
        "print('vᵀ・J:', vᵀ@J)"
      ]
    },
    {
      "cell_type": "markdown",
      "metadata": {
        "id": "gKo7H52Rkutg"
      },
      "source": [
        "Tutorial: https://pytorch.org/tutorials/beginner/blitz/autograd_tutorial.html#gradients"
      ]
    },
    {
      "cell_type": "markdown",
      "metadata": {
        "id": "s4IfS13ak__r"
      },
      "source": [
        "Let's take a look at how ``autograd`` collects gradients. We create two tensors ``a`` and ``b`` with\n",
        "``requires_grad=True``. This signals to ``autograd`` that every operation on them should be tracked."
      ]
    },
    {
      "cell_type": "code",
      "execution_count": null,
      "metadata": {
        "id": "HoV1nufMkv9d"
      },
      "outputs": [],
      "source": [
        "a = torch.tensor([2., 3.], requires_grad=True)\n",
        "b = torch.tensor([6., 4.], requires_grad=True)"
      ]
    },
    {
      "cell_type": "markdown",
      "metadata": {
        "id": "v11bqFAik7hE"
      },
      "source": [
        "We create another tensor ``Q`` from ``a`` and ``b``.\n",
        "\n",
        "\\begin{align}Q = 3a^3 - b^2\\end{align}\n",
        "\n"
      ]
    },
    {
      "cell_type": "code",
      "execution_count": null,
      "metadata": {
        "id": "EipC01eFk0oz"
      },
      "outputs": [],
      "source": [
        "Q = 3*a**3 - b**2"
      ]
    },
    {
      "cell_type": "markdown",
      "metadata": {
        "id": "Y_EaxBFjlElU"
      },
      "source": [
        "Let's assume ``a`` and ``b`` to be parameters of an NN, and ``Q``\n",
        "to be the error. In NN training, we want gradients of the error\n",
        "w.r.t. parameters, i.e.\n",
        "\n",
        "\\begin{align}\\frac{\\partial Q}{\\partial a} = 9a^2\\end{align}\n",
        "\n",
        "\\begin{align}\\frac{\\partial Q}{\\partial b} = -2b\\end{align}\n",
        "\n",
        "\n",
        "When we call ``.backward()`` on ``Q``, autograd calculates these gradients\n",
        "and stores them in the respective tensors' ``.grad`` attribute.\n",
        "\n",
        "We need to explicitly pass a ``gradient`` argument in ``Q.backward()`` because it is a vector.\n",
        "``gradient`` is a tensor of the same shape as ``Q``, and it represents the\n",
        "gradient of Q w.r.t. itself, i.e.\n",
        "\n",
        "\\begin{align}\\frac{dQ}{dQ} = 1\\end{align}\n",
        "\n",
        "Equivalently, we can also aggregate Q into a scalar and call backward implicitly, like ``Q.sum().backward()``.\n",
        "\n",
        "\n"
      ]
    },
    {
      "cell_type": "code",
      "execution_count": null,
      "metadata": {
        "id": "STo9JBtglSSY"
      },
      "outputs": [],
      "source": [
        "external_grad = torch.tensor([1., 1.])\n",
        "Q.backward(gradient=external_grad)"
      ]
    },
    {
      "cell_type": "markdown",
      "metadata": {
        "id": "zYtliPdxlY5A"
      },
      "source": [
        "Gradients are now deposited in ``a.grad`` and ``b.grad``"
      ]
    },
    {
      "cell_type": "code",
      "execution_count": null,
      "metadata": {
        "colab": {
          "base_uri": "https://localhost:8080/"
        },
        "id": "ksMR0fdAlb-q",
        "outputId": "0af98cd4-ec83-42c1-c348-af2f9719be85"
      },
      "outputs": [
        {
          "name": "stdout",
          "output_type": "stream",
          "text": [
            "tensor([True, True])\n",
            "tensor([True, True])\n"
          ]
        }
      ],
      "source": [
        "# check if collected gradients are correct\n",
        "print(9*a**2 == a.grad)\n",
        "print(-2*b == b.grad)"
      ]
    },
    {
      "cell_type": "markdown",
      "metadata": {
        "id": "p_C2sPpVllsz"
      },
      "source": [
        "Another Example:"
      ]
    },
    {
      "cell_type": "code",
      "execution_count": null,
      "metadata": {
        "colab": {
          "base_uri": "https://localhost:8080/"
        },
        "id": "cqUfxvqMfZYj",
        "outputId": "78f3b93f-15e9-44a3-dcf8-9892eacb4b68"
      },
      "outputs": [
        {
          "name": "stdout",
          "output_type": "stream",
          "text": [
            "First call\n",
            "tensor([[4., 2., 2., 2., 2.],\n",
            "        [2., 4., 2., 2., 2.],\n",
            "        [2., 2., 4., 2., 2.],\n",
            "        [2., 2., 2., 4., 2.]])\n",
            "\n",
            "Second call\n",
            "tensor([[8., 4., 4., 4., 4.],\n",
            "        [4., 8., 4., 4., 4.],\n",
            "        [4., 4., 8., 4., 4.],\n",
            "        [4., 4., 4., 8., 4.]])\n",
            "\n",
            "Call after zeroing gradients\n",
            "tensor([[4., 2., 2., 2., 2.],\n",
            "        [2., 4., 2., 2., 2.],\n",
            "        [2., 2., 4., 2., 2.],\n",
            "        [2., 2., 2., 4., 2.]])\n"
          ]
        }
      ],
      "source": [
        "inp = torch.eye(4, 5, requires_grad=True)\n",
        "out = (inp+1).pow(2).t()\n",
        "out.backward(torch.ones_like(out), retain_graph=True)\n",
        "print(f\"First call\\n{inp.grad}\")\n",
        "out.backward(torch.ones_like(out), retain_graph=True)\n",
        "print(f\"\\nSecond call\\n{inp.grad}\")\n",
        "inp.grad.zero_()\n",
        "out.backward(torch.ones_like(out), retain_graph=True)\n",
        "print(f\"\\nCall after zeroing gradients\\n{inp.grad}\")"
      ]
    },
    {
      "cell_type": "markdown",
      "metadata": {
        "id": "0xP-VHUtfnsl"
      },
      "source": [
        "Notice that when we call ``backward`` for the second time with the same\n",
        "argument, the value of the gradient is different. This happens because\n",
        "when doing ``backward`` propagation, PyTorch **accumulates the\n",
        "gradients**, i.e. the value of computed gradients is added to the\n",
        "``grad`` property of all leaf nodes of computational graph. If you want\n",
        "to compute the proper gradients, you need to zero out the ``grad``\n",
        "property before. In real-life training an *optimizer* helps us to do\n",
        "this."
      ]
    },
    {
      "cell_type": "markdown",
      "metadata": {
        "id": "pBJnu3XSUnug"
      },
      "source": [
        "### Fitting sine wave"
      ]
    },
    {
      "cell_type": "markdown",
      "metadata": {
        "id": "Myf5ldHJUtjo"
      },
      "source": [
        "Here we use PyTorch Tensors and autograd to implement our fitting sine wave with third order polynomial example; now we no longer need to manually implement the backward pass through the network:"
      ]
    },
    {
      "cell_type": "code",
      "execution_count": null,
      "metadata": {
        "colab": {
          "base_uri": "https://localhost:8080/"
        },
        "id": "8m8BvAAJN8u5",
        "outputId": "eb3190eb-03fa-4a30-d8ae-eeb84e7075bb"
      },
      "outputs": [
        {
          "name": "stdout",
          "output_type": "stream",
          "text": [
            "99 634.0364990234375\n",
            "199 436.99639892578125\n",
            "299 302.3916015625\n",
            "399 210.33184814453125\n",
            "499 147.29736328125\n",
            "599 104.08721923828125\n",
            "699 74.43286895751953\n",
            "799 54.058372497558594\n",
            "899 40.04411697387695\n",
            "999 30.393878936767578\n",
            "1099 23.741336822509766\n",
            "1199 19.15045166015625\n",
            "1299 15.978865623474121\n",
            "1399 13.78552532196045\n",
            "1499 12.267154693603516\n",
            "1599 11.215006828308105\n",
            "1699 10.485196113586426\n",
            "1799 9.978507041931152\n",
            "1899 9.62640380859375\n",
            "1999 9.381498336791992\n",
            "Result: y = -0.022344380617141724 + 0.8461494445800781 x + 0.003854779526591301 x^2 + -0.09182385355234146 x^3\n"
          ]
        }
      ],
      "source": [
        "# -*- coding: utf-8 -*-\n",
        "import torch\n",
        "import math\n",
        "\n",
        "dtype = torch.float\n",
        "device = torch.device(\"cpu\")\n",
        "# device = torch.device(\"cuda:0\")  # Uncomment this to run on GPU\n",
        "\n",
        "# Create Tensors to hold input and outputs.\n",
        "# By default, requires_grad=False, which indicates that we do not need to\n",
        "# compute gradients with respect to these Tensors during the backward pass.\n",
        "x = torch.linspace(-math.pi, math.pi, 2000, device=device, dtype=dtype)\n",
        "y = torch.sin(x)\n",
        "\n",
        "# Create random Tensors for weights. For a third order polynomial, we need\n",
        "# 4 weights: y = a + b x + c x^2 + d x^3\n",
        "# Setting requires_grad=True indicates that we want to compute gradients with\n",
        "# respect to these Tensors during the backward pass.\n",
        "a = torch.randn((), device=device, dtype=dtype, requires_grad=True)\n",
        "b = torch.randn((), device=device, dtype=dtype, requires_grad=True)\n",
        "c = torch.randn((), device=device, dtype=dtype, requires_grad=True)\n",
        "d = torch.randn((), device=device, dtype=dtype, requires_grad=True)\n",
        "\n",
        "learning_rate = 1e-6\n",
        "for t in range(2000):\n",
        "    # Forward pass: compute predicted y using operations on Tensors.\n",
        "    y_pred = a + b * x + c * x ** 2 + d * x ** 3\n",
        "\n",
        "    # Compute and print loss using operations on Tensors.\n",
        "    # Now loss is a Tensor of shape (1,)\n",
        "    # loss.item() gets the scalar value held in the loss.\n",
        "    loss = (y_pred - y).pow(2).sum()\n",
        "    if t % 100 == 99:\n",
        "        print(t, loss.item())\n",
        "\n",
        "    # Use autograd to compute the backward pass. This call will compute the\n",
        "    # gradient of loss with respect to all Tensors with requires_grad=True.\n",
        "    # After this call a.grad, b.grad. c.grad and d.grad will be Tensors holding\n",
        "    # the gradient of the loss with respect to a, b, c, d respectively.\n",
        "    loss.backward()\n",
        "\n",
        "    # Manually update weights using gradient descent. Wrap in torch.no_grad()\n",
        "    # because weights have requires_grad=True, but we don't need to track this\n",
        "    # in autograd.\n",
        "    with torch.no_grad():\n",
        "        a -= learning_rate * a.grad\n",
        "        b -= learning_rate * b.grad\n",
        "        c -= learning_rate * c.grad\n",
        "        d -= learning_rate * d.grad\n",
        "\n",
        "        # Manually zero the gradients after updating weights\n",
        "        a.grad = None\n",
        "        b.grad = None\n",
        "        c.grad = None\n",
        "        d.grad = None\n",
        "\n",
        "print(f'Result: y = {a.item()} + {b.item()} x + {c.item()} x^2 + {d.item()} x^3')"
      ]
    },
    {
      "cell_type": "markdown",
      "metadata": {
        "id": "K4IAAnLWTVJK"
      },
      "source": [
        "Computational graphs and autograd are a very powerful paradigm for defining complex operators and automatically taking derivatives; however for large neural networks raw autograd can be a bit too low-level. When building neural networks we frequently think of arranging the computation into layers, some of which have learnable parameters which will be optimized during learning.\n"
      ]
    },
    {
      "cell_type": "markdown",
      "metadata": {
        "id": "gnCULajDU2Qq"
      },
      "source": [
        "### Pytorch NN package\n"
      ]
    },
    {
      "cell_type": "markdown",
      "metadata": {
        "id": "b1c2yp0SWXnc"
      },
      "source": [
        "PyTorch has four (give or take) essential modules you can use to create almost any kind of neural network you can imagine.\n",
        "\n",
        "They are [`torch.nn`](https://pytorch.org/docs/stable/nn.html), [`torch.optim`](https://pytorch.org/docs/stable/optim.html), [`torch.utils.data.Dataset`](https://pytorch.org/docs/stable/data.html#torch.utils.data.Dataset) and [`torch.utils.data.DataLoader`](https://pytorch.org/docs/stable/data.html).\n",
        "\n",
        "| PyTorch module | What does it do? |\n",
        "| ----- | ----- |\n",
        "| [`torch.nn`](https://pytorch.org/docs/stable/nn.html) | Contains all of the building blocks for computational graphs (essentially a series of computations executed in a particular way). |\n",
        "| [`torch.nn.Parameter`](https://pytorch.org/docs/stable/generated/torch.nn.parameter.Parameter.html#parameter) | Stores tensors that can be used with `nn.Module`. If `requires_grad=True` gradients (used for updating model parameters via [**gradient descent**](https://ml-cheatsheet.readthedocs.io/en/latest/gradient_descent.html))  are calculated automatically, this is often referred to as \"autograd\".  |\n",
        "| [`torch.nn.Module`](https://pytorch.org/docs/stable/generated/torch.nn.Module.html#torch.nn.Module) | The base class for all neural network modules, all the building blocks for neural networks are subclasses. If you're building a neural network in PyTorch, your models should subclass `nn.Module`. Requires a `forward()` method be implemented. |\n",
        "| [`torch.optim`](https://pytorch.org/docs/stable/optim.html) | Contains various optimization algorithms (these tell the model parameters stored in `nn.Parameter` how to best change to improve gradient descent and in turn reduce the loss). |\n",
        "| `def forward()` | All `nn.Module` subclasses require a `forward()` method, this defines the computation that will take place on the data passed to the particular `nn.Module` (e.g. the linear regression formula above). |\n",
        "\n",
        "Almost everything in a PyTorch neural network comes from `torch.nn`,\n",
        "* `nn.Module` contains the larger building blocks (layers)\n",
        "* `nn.Parameter` contains the smaller parameters like weights and biases (put these together to make `nn.Module`(s))\n",
        "* `forward()` tells the larger blocks how to make calculations on inputs (tensors full of data) within  `nn.Module`(s)\n",
        "* `torch.optim` contains optimization methods on how to improve the parameters within `nn.Parameter` to better represent input data"
      ]
    },
    {
      "cell_type": "markdown",
      "metadata": {
        "id": "toygiY7VU58Y"
      },
      "source": [
        "In PyTorch, the nn package serves this same purpose. The nn package defines a set of Modules, which are roughly equivalent to neural network layers. A Module receives input Tensors and computes output Tensors, but may also hold internal state such as Tensors containing learnable parameters. The nn package also defines a set of useful loss functions that are commonly used when training neural networks."
      ]
    },
    {
      "cell_type": "code",
      "execution_count": null,
      "metadata": {
        "colab": {
          "base_uri": "https://localhost:8080/"
        },
        "id": "m4RARvb6TViT",
        "outputId": "fdd4f09f-1cdd-4fe6-e0aa-49d830a64242"
      },
      "outputs": [
        {
          "name": "stdout",
          "output_type": "stream",
          "text": [
            "99 1196.42236328125\n",
            "199 796.197998046875\n",
            "299 530.9425048828125\n",
            "399 355.11273193359375\n",
            "499 238.54122924804688\n",
            "599 161.24301147460938\n",
            "699 109.97754669189453\n",
            "799 75.97032928466797\n",
            "899 53.406864166259766\n",
            "999 38.432647705078125\n",
            "1099 28.492874145507812\n",
            "1199 21.89316177368164\n",
            "1299 17.509977340698242\n",
            "1399 14.598071098327637\n",
            "1499 12.66296672821045\n",
            "1599 11.376604080200195\n",
            "1699 10.52121639251709\n",
            "1799 9.952178955078125\n",
            "1899 9.573487281799316\n",
            "1999 9.32139778137207\n",
            "Result: y = 0.008382523432374 + 0.8363150954246521 x + -0.0014461253304034472 x^2 + -0.09042500704526901 x^3\n"
          ]
        }
      ],
      "source": [
        "import torch\n",
        "import math\n",
        "\n",
        "\n",
        "# Create Tensors to hold input and outputs.\n",
        "x = torch.linspace(-math.pi, math.pi, 2000)\n",
        "y = torch.sin(x)\n",
        "\n",
        "# For this example, the output y is a linear function of (x, x^2, x^3), so\n",
        "# we can consider it as a linear layer neural network. Let's prepare the\n",
        "# tensor (x, x^2, x^3).\n",
        "p = torch.tensor([1, 2, 3])\n",
        "xx = x.unsqueeze(-1).pow(p)\n",
        "\n",
        "# In the above code, x.unsqueeze(-1) has shape (2000, 1), and p has shape\n",
        "# (3,), for this case, broadcasting semantics will apply to obtain a tensor\n",
        "# of shape (2000, 3)\n",
        "\n",
        "# Use the nn package to define our model as a sequence of layers. nn.Sequential\n",
        "# is a Module which contains other Modules, and applies them in sequence to\n",
        "# produce its output. The Linear Module computes output from input using a\n",
        "# linear function, and holds internal Tensors for its weight and bias.\n",
        "# The Flatten layer flatens the output of the linear layer to a 1D tensor,\n",
        "# to match the shape of `y`.\n",
        "model = torch.nn.Sequential(\n",
        "    torch.nn.Linear(3, 1), #torch.nn.Linear(in_features, out_features, bias=True, device=None, dtype=None)\n",
        "    torch.nn.Flatten(0, 1) #torch.nn.Flatten(start_dim=1, end_dim=-1)\n",
        ")\n",
        "\n",
        "# The nn package also contains definitions of popular loss functions; in this\n",
        "# case we will use Mean Squared Error (MSE) as our loss function.\n",
        "loss_fn = torch.nn.MSELoss(reduction='sum')\n",
        "\n",
        "learning_rate = 1e-6\n",
        "for t in range(2000):\n",
        "\n",
        "    # Forward pass: compute predicted y by passing x to the model. Module objects\n",
        "    # override the __call__ operator so you can call them like functions. When\n",
        "    # doing so you pass a Tensor of input data to the Module and it produces\n",
        "    # a Tensor of output data.\n",
        "    y_pred = model(xx)\n",
        "\n",
        "    # Compute and print loss. We pass Tensors containing the predicted and true\n",
        "    # values of y, and the loss function returns a Tensor containing the\n",
        "    # loss.\n",
        "    loss = loss_fn(y_pred, y)\n",
        "    if t % 100 == 99:\n",
        "        print(t, loss.item())\n",
        "\n",
        "    # Zero the gradients before running the backward pass.\n",
        "    model.zero_grad()\n",
        "\n",
        "    # Backward pass: compute gradient of the loss with respect to all the learnable\n",
        "    # parameters of the model. Internally, the parameters of each Module are stored\n",
        "    # in Tensors with requires_grad=True, so this call will compute gradients for\n",
        "    # all learnable parameters in the model.\n",
        "    loss.backward()\n",
        "\n",
        "    # Update the weights using gradient descent. Each parameter is a Tensor, so\n",
        "    # we can access its gradients like we did before.\n",
        "    with torch.no_grad():\n",
        "        for param in model.parameters():\n",
        "            param -= learning_rate * param.grad\n",
        "\n",
        "# You can access the first layer of `model` like accessing the first item of a list\n",
        "linear_layer = model[0]\n",
        "\n",
        "# For linear layer, its parameters are stored as `weight` and `bias`.\n",
        "print(f'Result: y = {linear_layer.bias.item()} + {linear_layer.weight[:, 0].item()} x + {linear_layer.weight[:, 1].item()} x^2 + {linear_layer.weight[:, 2].item()} x^3')"
      ]
    },
    {
      "cell_type": "markdown",
      "metadata": {
        "id": "SLEijSlyU_iB"
      },
      "source": [
        "### Optim package"
      ]
    },
    {
      "cell_type": "markdown",
      "metadata": {
        "id": "Ms-DvM09Tfcr"
      },
      "source": [
        "The optim package in PyTorch abstracts the idea of an optimization algorithm and provides implementations of commonly used optimization algorithms.\n",
        "\n"
      ]
    },
    {
      "cell_type": "code",
      "execution_count": null,
      "metadata": {
        "colab": {
          "base_uri": "https://localhost:8080/"
        },
        "id": "VhAV9IvSTf4b",
        "outputId": "af478d20-9a23-4da9-f9c8-573a10c198ca"
      },
      "outputs": [
        {
          "name": "stdout",
          "output_type": "stream",
          "text": [
            "99 17306.95703125\n",
            "199 6605.4892578125\n",
            "299 1965.266357421875\n",
            "399 376.6326599121094\n",
            "499 67.86810302734375\n",
            "599 42.26485824584961\n",
            "699 36.94180679321289\n",
            "799 30.957773208618164\n",
            "899 23.898305892944336\n",
            "999 17.004165649414062\n",
            "1099 11.943888664245605\n",
            "1199 9.503978729248047\n",
            "1299 8.88857364654541\n",
            "1399 8.834590911865234\n",
            "1499 8.931175231933594\n",
            "1599 8.831658363342285\n",
            "1699 8.870916366577148\n",
            "1799 8.878030776977539\n",
            "1899 8.982465744018555\n",
            "1999 8.965527534484863\n",
            "Result: y = -0.0004978329525329173 + 0.8561474084854126 x + -0.0004978657816536725 x^2 + -0.09392453730106354 x^3\n"
          ]
        }
      ],
      "source": [
        "# -*- coding: utf-8 -*-\n",
        "import torch\n",
        "import math\n",
        "\n",
        "\n",
        "# Create Tensors to hold input and outputs.\n",
        "x = torch.linspace(-math.pi, math.pi, 2000)\n",
        "y = torch.sin(x)\n",
        "\n",
        "# Prepare the input tensor (x, x^2, x^3).\n",
        "p = torch.tensor([1, 2, 3])\n",
        "xx = x.unsqueeze(-1).pow(p)\n",
        "\n",
        "# Use the nn package to define our model and loss function.\n",
        "model = torch.nn.Sequential(\n",
        "    torch.nn.Linear(3, 1),\n",
        "    torch.nn.Flatten(0, 1)\n",
        ")\n",
        "loss_fn = torch.nn.MSELoss(reduction='sum')\n",
        "\n",
        "# Use the optim package to define an Optimizer that will update the weights of\n",
        "# the model for us. Here we will use RMSprop; the optim package contains many other\n",
        "# optimization algorithms. The first argument to the RMSprop constructor tells the\n",
        "# optimizer which Tensors it should update.\n",
        "learning_rate = 1e-3\n",
        "optimizer = torch.optim.RMSprop(model.parameters(), lr=learning_rate)\n",
        "for t in range(2000):\n",
        "    # Forward pass: compute predicted y by passing x to the model.\n",
        "    y_pred = model(xx)\n",
        "\n",
        "    # Compute and print loss.\n",
        "    loss = loss_fn(y_pred, y)\n",
        "    if t % 100 == 99:\n",
        "        print(t, loss.item())\n",
        "\n",
        "    # Before the backward pass, use the optimizer object to zero all of the\n",
        "    # gradients for the variables it will update (which are the learnable\n",
        "    # weights of the model). This is because by default, gradients are\n",
        "    # accumulated in buffers( i.e, not overwritten) whenever .backward()\n",
        "    # is called. Checkout docs of torch.autograd.backward for more details.\n",
        "    optimizer.zero_grad()\n",
        "\n",
        "    # Backward pass: compute gradient of the loss with respect to model\n",
        "    # parameters\n",
        "    loss.backward()\n",
        "\n",
        "    # Calling the step function on an Optimizer makes an update to its\n",
        "    # parameters\n",
        "    optimizer.step()\n",
        "\n",
        "\n",
        "linear_layer = model[0]\n",
        "print(f'Result: y = {linear_layer.bias.item()} + {linear_layer.weight[:, 0].item()} x + {linear_layer.weight[:, 1].item()} x^2 + {linear_layer.weight[:, 2].item()} x^3')"
      ]
    },
    {
      "cell_type": "markdown",
      "metadata": {
        "id": "-poW0KoAVDnF"
      },
      "source": [
        "### Using nn.Module"
      ]
    },
    {
      "cell_type": "markdown",
      "metadata": {
        "id": "WCuuew5ITqpM"
      },
      "source": [
        "define your own Modules by subclassing nn.Module and defining a forward which receives input Tensors and produces output Tensors using other modules or other autograd operations on Tensors."
      ]
    },
    {
      "cell_type": "code",
      "execution_count": null,
      "metadata": {
        "colab": {
          "base_uri": "https://localhost:8080/"
        },
        "id": "7PI7Iqj3TrD5",
        "outputId": "bb5d7f51-dd4e-40ae-9785-058efede45e2"
      },
      "outputs": [
        {
          "name": "stdout",
          "output_type": "stream",
          "text": [
            "99 2149.70556640625\n",
            "199 1470.2083740234375\n",
            "299 1007.5223388671875\n",
            "399 692.1107788085938\n",
            "499 476.8498229980469\n",
            "599 329.77142333984375\n",
            "699 229.1632537841797\n",
            "799 160.2637176513672\n",
            "899 113.0250015258789\n",
            "999 80.60042572021484\n",
            "1099 58.3189697265625\n",
            "1199 42.990352630615234\n",
            "1299 32.43324661254883\n",
            "1399 25.154510498046875\n",
            "1499 20.130582809448242\n",
            "1599 16.659332275390625\n",
            "1699 14.258384704589844\n",
            "1799 12.59603214263916\n",
            "1899 11.443916320800781\n",
            "1999 10.644678115844727\n",
            "Result: y = -0.039336882531642914 + 0.8362022638320923 x + 0.006786266341805458 x^2 + -0.09040895849466324 x^3\n"
          ]
        }
      ],
      "source": [
        "import torch\n",
        "import math\n",
        "\n",
        "\n",
        "class Polynomial3(torch.nn.Module):\n",
        "    def __init__(self):\n",
        "        \"\"\"\n",
        "        In the constructor we instantiate four parameters and assign them as\n",
        "        member parameters.\n",
        "        \"\"\"\n",
        "        super().__init__()\n",
        "        self.a = torch.nn.Parameter(torch.randn(()))\n",
        "        self.b = torch.nn.Parameter(torch.randn(()))\n",
        "        self.c = torch.nn.Parameter(torch.randn(()))\n",
        "        self.d = torch.nn.Parameter(torch.randn(()))\n",
        "\n",
        "    def forward(self, x):\n",
        "        \"\"\"\n",
        "        In the forward function we accept a Tensor of input data and we must return\n",
        "        a Tensor of output data. We can use Modules defined in the constructor as\n",
        "        well as arbitrary operators on Tensors.\n",
        "        \"\"\"\n",
        "        return self.a + self.b * x + self.c * x ** 2 + self.d * x ** 3\n",
        "\n",
        "    def string(self):\n",
        "        \"\"\"\n",
        "        Just like any class in Python, you can also define custom method on PyTorch modules\n",
        "        \"\"\"\n",
        "        return f'y = {self.a.item()} + {self.b.item()} x + {self.c.item()} x^2 + {self.d.item()} x^3'\n",
        "\n",
        "\n",
        "# Create Tensors to hold input and outputs.\n",
        "x = torch.linspace(-math.pi, math.pi, 2000)\n",
        "y = torch.sin(x)\n",
        "\n",
        "# Construct our model by instantiating the class defined above\n",
        "model = Polynomial3()\n",
        "\n",
        "# Construct our loss function and an Optimizer. The call to model.parameters()\n",
        "# in the SGD constructor will contain the learnable parameters (defined\n",
        "# with torch.nn.Parameter) which are members of the model.\n",
        "criterion = torch.nn.MSELoss(reduction='sum')\n",
        "optimizer = torch.optim.SGD(model.parameters(), lr=1e-6)\n",
        "for t in range(2000):\n",
        "    # Forward pass: Compute predicted y by passing x to the model\n",
        "    y_pred = model(x)\n",
        "\n",
        "    # Compute and print loss\n",
        "    loss = criterion(y_pred, y)\n",
        "    if t % 100 == 99:\n",
        "        print(t, loss.item())\n",
        "\n",
        "    # Zero gradients, perform a backward pass, and update the weights.\n",
        "    optimizer.zero_grad()\n",
        "    loss.backward()\n",
        "    optimizer.step()\n",
        "\n",
        "print(f'Result: {model.string()}')"
      ]
    }
  ],
  "metadata": {
    "accelerator": "GPU",
    "colab": {
      "gpuType": "T4",
      "provenance": [],
      "toc_visible": true
    },
    "kernelspec": {
      "display_name": "Python 3",
      "name": "python3"
    }
  },
  "nbformat": 4,
  "nbformat_minor": 0
}
